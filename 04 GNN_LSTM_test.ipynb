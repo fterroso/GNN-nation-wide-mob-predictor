{
 "cells": [
  {
   "cell_type": "markdown",
   "metadata": {},
   "source": [
    "# Forecasting using spatio-temporal data with combined Graph Convolution + LSTM model"
   ]
  },
  {
   "cell_type": "code",
   "execution_count": 1,
   "metadata": {},
   "outputs": [
    {
     "name": "stderr",
     "output_type": "stream",
     "text": [
      "/home/fterroso/python/lib/python3.6/site-packages/geopandas/_compat.py:88: UserWarning: The Shapely GEOS version (3.8.0-CAPI-1.13.1 ) is incompatible with the GEOS version PyGEOS was compiled with (3.8.1-CAPI-1.13.3). Conversions between both will be slow.\n",
      "  shapely_geos_version, geos_capi_version_string\n"
     ]
    }
   ],
   "source": [
    "import os\n",
    "import sys\n",
    "\n",
    "import pandas as pd\n",
    "import geopandas as gpd\n",
    "\n",
    "import numpy as np\n",
    "import matplotlib.pyplot as plt\n",
    "import matplotlib.lines as mlines\n",
    "\n",
    "from sklearn.metrics import mean_absolute_error\n",
    "from sklearn.metrics import mean_squared_error\n",
    "\n",
    "from libpysal.weights import Queen\n",
    "\n",
    "import tensorflow as tf\n",
    "from tensorflow import keras\n",
    "from tensorflow.keras import Sequential, Model\n",
    "from tensorflow.keras.layers import LSTM, Dense, Dropout, Input"
   ]
  },
  {
   "cell_type": "code",
   "execution_count": 2,
   "metadata": {},
   "outputs": [],
   "source": [
    "from numpy.random import seed\n",
    "seed(1)"
   ]
  },
  {
   "cell_type": "code",
   "execution_count": 3,
   "metadata": {},
   "outputs": [],
   "source": [
    "data_path = os.path.join('/','home','fterroso','data','Spain-INE-mobility-study-2020')"
   ]
  },
  {
   "cell_type": "markdown",
   "metadata": {},
   "source": [
    "## Loading and preprocessing the data"
   ]
  },
  {
   "cell_type": "code",
   "execution_count": 4,
   "metadata": {},
   "outputs": [],
   "source": [
    "import stellargraph as sg"
   ]
  },
  {
   "cell_type": "markdown",
   "metadata": {},
   "source": [
    "### Trips data"
   ]
  },
  {
   "cell_type": "code",
   "execution_count": 5,
   "metadata": {},
   "outputs": [],
   "source": [
    "trips_data = pd.read_csv(os.path.join('data','trips_time_series_all_inter.csv'),index_col=0)\n",
    "trips_data= trips_data.fillna(0)"
   ]
  },
  {
   "cell_type": "code",
   "execution_count": 6,
   "metadata": {},
   "outputs": [
    {
     "data": {
      "text/plain": [
       "(2844, 6815)"
      ]
     },
     "execution_count": 6,
     "metadata": {},
     "output_type": "execute_result"
    }
   ],
   "source": [
    "trips_data.shape"
   ]
  },
  {
   "cell_type": "code",
   "execution_count": 7,
   "metadata": {},
   "outputs": [],
   "source": [
    "target_areas = trips_data.index.tolist()"
   ]
  },
  {
   "cell_type": "code",
   "execution_count": 8,
   "metadata": {},
   "outputs": [
    {
     "data": {
      "text/html": [
       "<div>\n",
       "<style scoped>\n",
       "    .dataframe tbody tr th:only-of-type {\n",
       "        vertical-align: middle;\n",
       "    }\n",
       "\n",
       "    .dataframe tbody tr th {\n",
       "        vertical-align: top;\n",
       "    }\n",
       "\n",
       "    .dataframe thead th {\n",
       "        text-align: right;\n",
       "    }\n",
       "</style>\n",
       "<table border=\"1\" class=\"dataframe\">\n",
       "  <thead>\n",
       "    <tr style=\"text-align: right;\">\n",
       "      <th></th>\n",
       "      <th>20200221_00</th>\n",
       "      <th>20200221_01</th>\n",
       "      <th>20200221_02</th>\n",
       "      <th>20200221_03</th>\n",
       "      <th>20200221_04</th>\n",
       "      <th>20200221_05</th>\n",
       "      <th>20200221_06</th>\n",
       "      <th>20200221_07</th>\n",
       "      <th>20200221_08</th>\n",
       "      <th>20200221_09</th>\n",
       "      <th>...</th>\n",
       "      <th>20201130_14</th>\n",
       "      <th>20201130_15</th>\n",
       "      <th>20201130_16</th>\n",
       "      <th>20201130_17</th>\n",
       "      <th>20201130_18</th>\n",
       "      <th>20201130_19</th>\n",
       "      <th>20201130_20</th>\n",
       "      <th>20201130_21</th>\n",
       "      <th>20201130_22</th>\n",
       "      <th>20201130_23</th>\n",
       "    </tr>\n",
       "  </thead>\n",
       "  <tbody>\n",
       "    <tr>\n",
       "      <th>01001_AM</th>\n",
       "      <td>291.654</td>\n",
       "      <td>129.650</td>\n",
       "      <td>123.822</td>\n",
       "      <td>280.810</td>\n",
       "      <td>282.418</td>\n",
       "      <td>518.179</td>\n",
       "      <td>736.074</td>\n",
       "      <td>1253.000</td>\n",
       "      <td>981.544</td>\n",
       "      <td>893.510</td>\n",
       "      <td>...</td>\n",
       "      <td>1307.238</td>\n",
       "      <td>1026.083</td>\n",
       "      <td>1073.847</td>\n",
       "      <td>1147.206</td>\n",
       "      <td>650.740</td>\n",
       "      <td>648.024</td>\n",
       "      <td>563.314</td>\n",
       "      <td>735.201</td>\n",
       "      <td>258.461</td>\n",
       "      <td>230.591</td>\n",
       "    </tr>\n",
       "    <tr>\n",
       "      <th>01002</th>\n",
       "      <td>192.529</td>\n",
       "      <td>149.992</td>\n",
       "      <td>50.547</td>\n",
       "      <td>73.097</td>\n",
       "      <td>208.114</td>\n",
       "      <td>616.786</td>\n",
       "      <td>732.075</td>\n",
       "      <td>779.587</td>\n",
       "      <td>638.112</td>\n",
       "      <td>734.767</td>\n",
       "      <td>...</td>\n",
       "      <td>701.593</td>\n",
       "      <td>598.760</td>\n",
       "      <td>615.822</td>\n",
       "      <td>826.882</td>\n",
       "      <td>580.843</td>\n",
       "      <td>378.512</td>\n",
       "      <td>381.695</td>\n",
       "      <td>407.566</td>\n",
       "      <td>124.729</td>\n",
       "      <td>106.744</td>\n",
       "    </tr>\n",
       "    <tr>\n",
       "      <th>01010_AM</th>\n",
       "      <td>92.726</td>\n",
       "      <td>50.822</td>\n",
       "      <td>37.895</td>\n",
       "      <td>19.586</td>\n",
       "      <td>91.560</td>\n",
       "      <td>396.531</td>\n",
       "      <td>457.180</td>\n",
       "      <td>591.326</td>\n",
       "      <td>516.919</td>\n",
       "      <td>471.008</td>\n",
       "      <td>...</td>\n",
       "      <td>495.460</td>\n",
       "      <td>610.121</td>\n",
       "      <td>559.796</td>\n",
       "      <td>476.880</td>\n",
       "      <td>354.807</td>\n",
       "      <td>215.711</td>\n",
       "      <td>216.593</td>\n",
       "      <td>277.574</td>\n",
       "      <td>119.830</td>\n",
       "      <td>52.331</td>\n",
       "    </tr>\n",
       "    <tr>\n",
       "      <th>01031_AM</th>\n",
       "      <td>97.674</td>\n",
       "      <td>64.901</td>\n",
       "      <td>92.150</td>\n",
       "      <td>62.669</td>\n",
       "      <td>109.056</td>\n",
       "      <td>208.462</td>\n",
       "      <td>469.924</td>\n",
       "      <td>691.565</td>\n",
       "      <td>645.793</td>\n",
       "      <td>789.906</td>\n",
       "      <td>...</td>\n",
       "      <td>1085.613</td>\n",
       "      <td>628.526</td>\n",
       "      <td>682.578</td>\n",
       "      <td>582.456</td>\n",
       "      <td>603.958</td>\n",
       "      <td>344.157</td>\n",
       "      <td>286.541</td>\n",
       "      <td>269.655</td>\n",
       "      <td>159.443</td>\n",
       "      <td>118.029</td>\n",
       "    </tr>\n",
       "    <tr>\n",
       "      <th>01036</th>\n",
       "      <td>173.565</td>\n",
       "      <td>118.227</td>\n",
       "      <td>204.784</td>\n",
       "      <td>219.318</td>\n",
       "      <td>409.485</td>\n",
       "      <td>779.103</td>\n",
       "      <td>1091.613</td>\n",
       "      <td>969.506</td>\n",
       "      <td>845.084</td>\n",
       "      <td>875.701</td>\n",
       "      <td>...</td>\n",
       "      <td>1070.542</td>\n",
       "      <td>815.612</td>\n",
       "      <td>681.116</td>\n",
       "      <td>746.917</td>\n",
       "      <td>704.784</td>\n",
       "      <td>413.711</td>\n",
       "      <td>441.988</td>\n",
       "      <td>575.437</td>\n",
       "      <td>319.760</td>\n",
       "      <td>68.968</td>\n",
       "    </tr>\n",
       "  </tbody>\n",
       "</table>\n",
       "<p>5 rows × 6815 columns</p>\n",
       "</div>"
      ],
      "text/plain": [
       "          20200221_00  20200221_01  20200221_02  20200221_03  20200221_04  \\\n",
       "01001_AM      291.654      129.650      123.822      280.810      282.418   \n",
       "01002         192.529      149.992       50.547       73.097      208.114   \n",
       "01010_AM       92.726       50.822       37.895       19.586       91.560   \n",
       "01031_AM       97.674       64.901       92.150       62.669      109.056   \n",
       "01036         173.565      118.227      204.784      219.318      409.485   \n",
       "\n",
       "          20200221_05  20200221_06  20200221_07  20200221_08  20200221_09  \\\n",
       "01001_AM      518.179      736.074     1253.000      981.544      893.510   \n",
       "01002         616.786      732.075      779.587      638.112      734.767   \n",
       "01010_AM      396.531      457.180      591.326      516.919      471.008   \n",
       "01031_AM      208.462      469.924      691.565      645.793      789.906   \n",
       "01036         779.103     1091.613      969.506      845.084      875.701   \n",
       "\n",
       "          ...  20201130_14  20201130_15  20201130_16  20201130_17  \\\n",
       "01001_AM  ...     1307.238     1026.083     1073.847     1147.206   \n",
       "01002     ...      701.593      598.760      615.822      826.882   \n",
       "01010_AM  ...      495.460      610.121      559.796      476.880   \n",
       "01031_AM  ...     1085.613      628.526      682.578      582.456   \n",
       "01036     ...     1070.542      815.612      681.116      746.917   \n",
       "\n",
       "          20201130_18  20201130_19  20201130_20  20201130_21  20201130_22  \\\n",
       "01001_AM      650.740      648.024      563.314      735.201      258.461   \n",
       "01002         580.843      378.512      381.695      407.566      124.729   \n",
       "01010_AM      354.807      215.711      216.593      277.574      119.830   \n",
       "01031_AM      603.958      344.157      286.541      269.655      159.443   \n",
       "01036         704.784      413.711      441.988      575.437      319.760   \n",
       "\n",
       "          20201130_23  \n",
       "01001_AM      230.591  \n",
       "01002         106.744  \n",
       "01010_AM       52.331  \n",
       "01031_AM      118.029  \n",
       "01036          68.968  \n",
       "\n",
       "[5 rows x 6815 columns]"
      ]
     },
     "execution_count": 8,
     "metadata": {},
     "output_type": "execute_result"
    }
   ],
   "source": [
    "trips_data.head()"
   ]
  },
  {
   "cell_type": "code",
   "execution_count": 9,
   "metadata": {},
   "outputs": [
    {
     "name": "stdout",
     "output_type": "stream",
     "text": [
      "<class 'pandas.core.frame.DataFrame'>\n",
      "Index: 2844 entries, 01001_AM to 20903\n",
      "Columns: 6815 entries, 20200221_00 to 20201130_23\n",
      "dtypes: float64(6815)\n",
      "memory usage: 147.9+ MB\n"
     ]
    }
   ],
   "source": [
    "trips_data.info()"
   ]
  },
  {
   "cell_type": "markdown",
   "metadata": {},
   "source": [
    "### Zones data"
   ]
  },
  {
   "cell_type": "code",
   "execution_count": 10,
   "metadata": {},
   "outputs": [],
   "source": [
    "zones_gdf = gpd.read_file(os.path.join(data_path,'zonificacion','distritos_mitma.shp'))"
   ]
  },
  {
   "cell_type": "code",
   "execution_count": 11,
   "metadata": {},
   "outputs": [],
   "source": [
    "zones_gdf = zones_gdf[zones_gdf['ID'].isin(target_areas)]"
   ]
  },
  {
   "cell_type": "code",
   "execution_count": 12,
   "metadata": {},
   "outputs": [
    {
     "data": {
      "text/html": [
       "<div>\n",
       "<style scoped>\n",
       "    .dataframe tbody tr th:only-of-type {\n",
       "        vertical-align: middle;\n",
       "    }\n",
       "\n",
       "    .dataframe tbody tr th {\n",
       "        vertical-align: top;\n",
       "    }\n",
       "\n",
       "    .dataframe thead th {\n",
       "        text-align: right;\n",
       "    }\n",
       "</style>\n",
       "<table border=\"1\" class=\"dataframe\">\n",
       "  <thead>\n",
       "    <tr style=\"text-align: right;\">\n",
       "      <th></th>\n",
       "      <th>ID</th>\n",
       "      <th>geometry</th>\n",
       "    </tr>\n",
       "  </thead>\n",
       "  <tbody>\n",
       "    <tr>\n",
       "      <th>0</th>\n",
       "      <td>2408910</td>\n",
       "      <td>POLYGON ((290940.137 4719080.203, 290956.704 4...</td>\n",
       "    </tr>\n",
       "    <tr>\n",
       "      <th>1</th>\n",
       "      <td>22117_AM</td>\n",
       "      <td>POLYGON ((774184.362 4662152.523, 774452.348 4...</td>\n",
       "    </tr>\n",
       "    <tr>\n",
       "      <th>2</th>\n",
       "      <td>2305009</td>\n",
       "      <td>POLYGON ((429744.982 4179976.538, 429716.997 4...</td>\n",
       "    </tr>\n",
       "    <tr>\n",
       "      <th>3</th>\n",
       "      <td>07058_AM</td>\n",
       "      <td>POLYGON ((1000859.396 4415059.160, 1000625.088...</td>\n",
       "    </tr>\n",
       "    <tr>\n",
       "      <th>4</th>\n",
       "      <td>2305006</td>\n",
       "      <td>POLYGON ((429795.125 4180956.539, 429860.816 4...</td>\n",
       "    </tr>\n",
       "  </tbody>\n",
       "</table>\n",
       "</div>"
      ],
      "text/plain": [
       "         ID                                           geometry\n",
       "0   2408910  POLYGON ((290940.137 4719080.203, 290956.704 4...\n",
       "1  22117_AM  POLYGON ((774184.362 4662152.523, 774452.348 4...\n",
       "2   2305009  POLYGON ((429744.982 4179976.538, 429716.997 4...\n",
       "3  07058_AM  POLYGON ((1000859.396 4415059.160, 1000625.088...\n",
       "4   2305006  POLYGON ((429795.125 4180956.539, 429860.816 4..."
      ]
     },
     "execution_count": 12,
     "metadata": {},
     "output_type": "execute_result"
    }
   ],
   "source": [
    "zones_gdf.head()"
   ]
  },
  {
   "cell_type": "code",
   "execution_count": 13,
   "metadata": {},
   "outputs": [
    {
     "name": "stdout",
     "output_type": "stream",
     "text": [
      "<class 'geopandas.geodataframe.GeoDataFrame'>\n",
      "Int64Index: 2844 entries, 0 to 2849\n",
      "Data columns (total 2 columns):\n",
      " #   Column    Non-Null Count  Dtype   \n",
      "---  ------    --------------  -----   \n",
      " 0   ID        2844 non-null   object  \n",
      " 1   geometry  2844 non-null   geometry\n",
      "dtypes: geometry(1), object(1)\n",
      "memory usage: 66.7+ KB\n"
     ]
    }
   ],
   "source": [
    "zones_gdf.info()"
   ]
  },
  {
   "cell_type": "markdown",
   "metadata": {},
   "source": [
    "## Define adjacency/distance matrix"
   ]
  },
  {
   "cell_type": "code",
   "execution_count": 14,
   "metadata": {},
   "outputs": [],
   "source": [
    "def get_adj_matrix_fn(type_):\n",
    "    matrix_ = None\n",
    "    if type_=='distance':\n",
    "        matrix_ = pd.read_csv(os.path.join('data', 'distances.csv'), index_col=0)\n",
    "        matrix_ = matrix_.loc[target_areas][target_areas].values\n",
    "    elif type_ =='contiguity': #contiguity matrix\n",
    "        qW = Queen.from_dataframe(zones_gdf)\n",
    "        matrix_ = 1- qW.full()[0]\n",
    "    elif type_ == 'gravity_model':\n",
    "        matrix_ = pd.read_csv(os.path.join('data', 'gravity_model_adjacency_matrix.csv'), index_col=0)\n",
    "        matrix_ = matrix_.replace(0,1)\n",
    "        matrix_ = matrix_.loc[target_areas][target_areas].values\n",
    "        #matrix_ = 1- (matrix_ / matrix_.max().max())\n",
    "        np.fill_diagonal(matrix_,0)\n",
    "    elif type_== 'ylag':\n",
    "        matrix_ = pd.read_csv(os.path.join('data', 'ylag_adjacency_matrix.csv'), index_col=0)\n",
    "        matrix_ = matrix_.loc[target_areas][target_areas].values\n",
    "    elif type_== 'queen_gravity_model':\n",
    "        matrix_ = pd.read_csv(os.path.join('data', 'queen_gravity_model_adjacency_matrix.csv'), index_col=0)\n",
    "        matrix_ = matrix_.loc[target_areas][target_areas].values\n",
    "\n",
    "    return matrix_"
   ]
  },
  {
   "cell_type": "code",
   "execution_count": 15,
   "metadata": {},
   "outputs": [],
   "source": [
    "matrix_type= 'gravity_model' #or 'distance', 'gravity_model', 'contiguity', 'ylag', 'queen_gravity_model'"
   ]
  },
  {
   "cell_type": "code",
   "execution_count": 16,
   "metadata": {},
   "outputs": [],
   "source": [
    "adj_matrix = get_adj_matrix_fn(matrix_type)"
   ]
  },
  {
   "cell_type": "code",
   "execution_count": 17,
   "metadata": {},
   "outputs": [
    {
     "data": {
      "text/plain": [
       "(2844, 2844)"
      ]
     },
     "execution_count": 17,
     "metadata": {},
     "output_type": "execute_result"
    }
   ],
   "source": [
    "adj_matrix.shape"
   ]
  },
  {
   "cell_type": "code",
   "execution_count": 18,
   "metadata": {},
   "outputs": [
    {
     "data": {
      "text/plain": [
       "array([[      0.        , 1218677.80845929,  561558.35994315, ...,\n",
       "         131247.88529629,  277414.75121167,  576387.56364082],\n",
       "       [1218677.80845929,       0.        , 3820727.944408  , ...,\n",
       "         190572.74929374,  271063.17189818,  540695.29452607],\n",
       "       [ 561558.35994315, 3820727.944408  ,       0.        , ...,\n",
       "         106475.47664812,  145318.44188452,  288036.58955808],\n",
       "       ...,\n",
       "       [ 131247.88529629,  190572.74929374,  106475.47664812, ...,\n",
       "              0.        ,   67255.77650498,   86118.33791093],\n",
       "       [ 277414.75121167,  271063.17189818,  145318.44188452, ...,\n",
       "          67255.77650498,       0.        ,  327733.65488228],\n",
       "       [ 576387.56364082,  540695.29452607,  288036.58955808, ...,\n",
       "          86118.33791093,  327733.65488228,       0.        ]])"
      ]
     },
     "execution_count": 18,
     "metadata": {},
     "output_type": "execute_result"
    }
   ],
   "source": [
    "adj_matrix"
   ]
  },
  {
   "cell_type": "code",
   "execution_count": 19,
   "metadata": {
    "tags": [
     "DataLoading"
    ]
   },
   "outputs": [
    {
     "name": "stdout",
     "output_type": "stream",
     "text": [
      "No. of areas: 2844 \n",
      "No of timesteps: 6815\n"
     ]
    }
   ],
   "source": [
    "#speed_data, sensor_dist_adj = dataset.load()\n",
    "num_nodes, time_len = trips_data.shape\n",
    "print(\"No. of areas:\", num_nodes, \"\\nNo of timesteps:\", time_len)"
   ]
  },
  {
   "cell_type": "markdown",
   "metadata": {},
   "source": [
    "**Let's look at a sample of human mobility data data.**"
   ]
  },
  {
   "cell_type": "code",
   "execution_count": 20,
   "metadata": {},
   "outputs": [
    {
     "data": {
      "text/html": [
       "<div>\n",
       "<style scoped>\n",
       "    .dataframe tbody tr th:only-of-type {\n",
       "        vertical-align: middle;\n",
       "    }\n",
       "\n",
       "    .dataframe tbody tr th {\n",
       "        vertical-align: top;\n",
       "    }\n",
       "\n",
       "    .dataframe thead th {\n",
       "        text-align: right;\n",
       "    }\n",
       "</style>\n",
       "<table border=\"1\" class=\"dataframe\">\n",
       "  <thead>\n",
       "    <tr style=\"text-align: right;\">\n",
       "      <th></th>\n",
       "      <th>20200221_00</th>\n",
       "      <th>20200221_01</th>\n",
       "      <th>20200221_02</th>\n",
       "      <th>20200221_03</th>\n",
       "      <th>20200221_04</th>\n",
       "      <th>20200221_05</th>\n",
       "      <th>20200221_06</th>\n",
       "      <th>20200221_07</th>\n",
       "      <th>20200221_08</th>\n",
       "      <th>20200221_09</th>\n",
       "      <th>...</th>\n",
       "      <th>20201130_14</th>\n",
       "      <th>20201130_15</th>\n",
       "      <th>20201130_16</th>\n",
       "      <th>20201130_17</th>\n",
       "      <th>20201130_18</th>\n",
       "      <th>20201130_19</th>\n",
       "      <th>20201130_20</th>\n",
       "      <th>20201130_21</th>\n",
       "      <th>20201130_22</th>\n",
       "      <th>20201130_23</th>\n",
       "    </tr>\n",
       "  </thead>\n",
       "  <tbody>\n",
       "    <tr>\n",
       "      <th>01001_AM</th>\n",
       "      <td>291.654</td>\n",
       "      <td>129.650</td>\n",
       "      <td>123.822</td>\n",
       "      <td>280.810</td>\n",
       "      <td>282.418</td>\n",
       "      <td>518.179</td>\n",
       "      <td>736.074</td>\n",
       "      <td>1253.000</td>\n",
       "      <td>981.544</td>\n",
       "      <td>893.510</td>\n",
       "      <td>...</td>\n",
       "      <td>1307.238</td>\n",
       "      <td>1026.083</td>\n",
       "      <td>1073.847</td>\n",
       "      <td>1147.206</td>\n",
       "      <td>650.740</td>\n",
       "      <td>648.024</td>\n",
       "      <td>563.314</td>\n",
       "      <td>735.201</td>\n",
       "      <td>258.461</td>\n",
       "      <td>230.591</td>\n",
       "    </tr>\n",
       "    <tr>\n",
       "      <th>01002</th>\n",
       "      <td>192.529</td>\n",
       "      <td>149.992</td>\n",
       "      <td>50.547</td>\n",
       "      <td>73.097</td>\n",
       "      <td>208.114</td>\n",
       "      <td>616.786</td>\n",
       "      <td>732.075</td>\n",
       "      <td>779.587</td>\n",
       "      <td>638.112</td>\n",
       "      <td>734.767</td>\n",
       "      <td>...</td>\n",
       "      <td>701.593</td>\n",
       "      <td>598.760</td>\n",
       "      <td>615.822</td>\n",
       "      <td>826.882</td>\n",
       "      <td>580.843</td>\n",
       "      <td>378.512</td>\n",
       "      <td>381.695</td>\n",
       "      <td>407.566</td>\n",
       "      <td>124.729</td>\n",
       "      <td>106.744</td>\n",
       "    </tr>\n",
       "    <tr>\n",
       "      <th>01010_AM</th>\n",
       "      <td>92.726</td>\n",
       "      <td>50.822</td>\n",
       "      <td>37.895</td>\n",
       "      <td>19.586</td>\n",
       "      <td>91.560</td>\n",
       "      <td>396.531</td>\n",
       "      <td>457.180</td>\n",
       "      <td>591.326</td>\n",
       "      <td>516.919</td>\n",
       "      <td>471.008</td>\n",
       "      <td>...</td>\n",
       "      <td>495.460</td>\n",
       "      <td>610.121</td>\n",
       "      <td>559.796</td>\n",
       "      <td>476.880</td>\n",
       "      <td>354.807</td>\n",
       "      <td>215.711</td>\n",
       "      <td>216.593</td>\n",
       "      <td>277.574</td>\n",
       "      <td>119.830</td>\n",
       "      <td>52.331</td>\n",
       "    </tr>\n",
       "    <tr>\n",
       "      <th>01031_AM</th>\n",
       "      <td>97.674</td>\n",
       "      <td>64.901</td>\n",
       "      <td>92.150</td>\n",
       "      <td>62.669</td>\n",
       "      <td>109.056</td>\n",
       "      <td>208.462</td>\n",
       "      <td>469.924</td>\n",
       "      <td>691.565</td>\n",
       "      <td>645.793</td>\n",
       "      <td>789.906</td>\n",
       "      <td>...</td>\n",
       "      <td>1085.613</td>\n",
       "      <td>628.526</td>\n",
       "      <td>682.578</td>\n",
       "      <td>582.456</td>\n",
       "      <td>603.958</td>\n",
       "      <td>344.157</td>\n",
       "      <td>286.541</td>\n",
       "      <td>269.655</td>\n",
       "      <td>159.443</td>\n",
       "      <td>118.029</td>\n",
       "    </tr>\n",
       "    <tr>\n",
       "      <th>01036</th>\n",
       "      <td>173.565</td>\n",
       "      <td>118.227</td>\n",
       "      <td>204.784</td>\n",
       "      <td>219.318</td>\n",
       "      <td>409.485</td>\n",
       "      <td>779.103</td>\n",
       "      <td>1091.613</td>\n",
       "      <td>969.506</td>\n",
       "      <td>845.084</td>\n",
       "      <td>875.701</td>\n",
       "      <td>...</td>\n",
       "      <td>1070.542</td>\n",
       "      <td>815.612</td>\n",
       "      <td>681.116</td>\n",
       "      <td>746.917</td>\n",
       "      <td>704.784</td>\n",
       "      <td>413.711</td>\n",
       "      <td>441.988</td>\n",
       "      <td>575.437</td>\n",
       "      <td>319.760</td>\n",
       "      <td>68.968</td>\n",
       "    </tr>\n",
       "  </tbody>\n",
       "</table>\n",
       "<p>5 rows × 6815 columns</p>\n",
       "</div>"
      ],
      "text/plain": [
       "          20200221_00  20200221_01  20200221_02  20200221_03  20200221_04  \\\n",
       "01001_AM      291.654      129.650      123.822      280.810      282.418   \n",
       "01002         192.529      149.992       50.547       73.097      208.114   \n",
       "01010_AM       92.726       50.822       37.895       19.586       91.560   \n",
       "01031_AM       97.674       64.901       92.150       62.669      109.056   \n",
       "01036         173.565      118.227      204.784      219.318      409.485   \n",
       "\n",
       "          20200221_05  20200221_06  20200221_07  20200221_08  20200221_09  \\\n",
       "01001_AM      518.179      736.074     1253.000      981.544      893.510   \n",
       "01002         616.786      732.075      779.587      638.112      734.767   \n",
       "01010_AM      396.531      457.180      591.326      516.919      471.008   \n",
       "01031_AM      208.462      469.924      691.565      645.793      789.906   \n",
       "01036         779.103     1091.613      969.506      845.084      875.701   \n",
       "\n",
       "          ...  20201130_14  20201130_15  20201130_16  20201130_17  \\\n",
       "01001_AM  ...     1307.238     1026.083     1073.847     1147.206   \n",
       "01002     ...      701.593      598.760      615.822      826.882   \n",
       "01010_AM  ...      495.460      610.121      559.796      476.880   \n",
       "01031_AM  ...     1085.613      628.526      682.578      582.456   \n",
       "01036     ...     1070.542      815.612      681.116      746.917   \n",
       "\n",
       "          20201130_18  20201130_19  20201130_20  20201130_21  20201130_22  \\\n",
       "01001_AM      650.740      648.024      563.314      735.201      258.461   \n",
       "01002         580.843      378.512      381.695      407.566      124.729   \n",
       "01010_AM      354.807      215.711      216.593      277.574      119.830   \n",
       "01031_AM      603.958      344.157      286.541      269.655      159.443   \n",
       "01036         704.784      413.711      441.988      575.437      319.760   \n",
       "\n",
       "          20201130_23  \n",
       "01001_AM      230.591  \n",
       "01002         106.744  \n",
       "01010_AM       52.331  \n",
       "01031_AM      118.029  \n",
       "01036          68.968  \n",
       "\n",
       "[5 rows x 6815 columns]"
      ]
     },
     "execution_count": 20,
     "metadata": {},
     "output_type": "execute_result"
    }
   ],
   "source": [
    "trips_data.head()"
   ]
  },
  {
   "cell_type": "code",
   "execution_count": 21,
   "metadata": {},
   "outputs": [
    {
     "data": {
      "text/plain": [
       "False"
      ]
     },
     "execution_count": 21,
     "metadata": {},
     "output_type": "execute_result"
    }
   ],
   "source": [
    "trips_data.isnull().values.any()"
   ]
  },
  {
   "cell_type": "markdown",
   "metadata": {},
   "source": [
    "### Forecasting with spatio-temporal data as a supervised learning problem "
   ]
  },
  {
   "cell_type": "markdown",
   "metadata": {},
   "source": [
    "### Train/test split"
   ]
  },
  {
   "cell_type": "code",
   "execution_count": 22,
   "metadata": {},
   "outputs": [],
   "source": [
    "def train_test_split(data, train_portion):\n",
    "    time_len = data.shape[1]\n",
    "    train_size = int(time_len * train_portion)\n",
    "    train_data = np.array(data.iloc[:, :train_size])\n",
    "    test_data = np.array(data.iloc[:, train_size:])\n",
    "    return train_data, test_data"
   ]
  },
  {
   "cell_type": "code",
   "execution_count": 23,
   "metadata": {},
   "outputs": [],
   "source": [
    "train_rate = 0.9"
   ]
  },
  {
   "cell_type": "code",
   "execution_count": 24,
   "metadata": {},
   "outputs": [
    {
     "name": "stdout",
     "output_type": "stream",
     "text": [
      "Train data:  (2844, 6133)\n",
      "Test data:  (2844, 682)\n"
     ]
    }
   ],
   "source": [
    "train_data, test_data = train_test_split(trips_data, train_rate)\n",
    "print(\"Train data: \", train_data.shape)\n",
    "print(\"Test data: \", test_data.shape)"
   ]
  },
  {
   "cell_type": "markdown",
   "metadata": {},
   "source": [
    "### Scaling"
   ]
  },
  {
   "cell_type": "code",
   "execution_count": 25,
   "metadata": {},
   "outputs": [],
   "source": [
    "def scale_data(train_data, test_data):\n",
    "    max_speed = train_data.max()\n",
    "    min_speed = train_data.min()\n",
    "    train_scaled = (train_data - min_speed) / (max_speed - min_speed)\n",
    "    test_scaled = (test_data - min_speed) / (max_speed - min_speed)\n",
    "    return train_scaled, test_scaled"
   ]
  },
  {
   "cell_type": "code",
   "execution_count": 26,
   "metadata": {},
   "outputs": [],
   "source": [
    "train_scaled, test_scaled = scale_data(train_data, test_data)"
   ]
  },
  {
   "cell_type": "markdown",
   "metadata": {},
   "source": [
    "### Sequence data preparation for LSTM\n",
    "\n",
    "* Each training observation are 12 historical outgoing trips (`seq_len`).\n",
    "* Each training prediction is the number of outgoing trips 1 hour later (`pre_len`)."
   ]
  },
  {
   "cell_type": "code",
   "execution_count": 27,
   "metadata": {},
   "outputs": [],
   "source": [
    "seq_len = 12\n",
    "pre_len = 1"
   ]
  },
  {
   "cell_type": "code",
   "execution_count": 28,
   "metadata": {},
   "outputs": [],
   "source": [
    "def sequence_data_preparation(seq_len, pre_len, train_data, test_data):\n",
    "    trainX, trainY, testX, testY = [], [], [], []\n",
    "\n",
    "    for i in range(train_data.shape[1] - int(seq_len + pre_len - 1)):\n",
    "        a = train_data[:, i : i + seq_len + pre_len]\n",
    "        trainX.append(a[:, :seq_len])\n",
    "        trainY.append(a[:, -1])\n",
    "\n",
    "    for i in range(test_data.shape[1] - int(seq_len + pre_len - 1)):\n",
    "        b = test_data[:, i : i + seq_len + pre_len]\n",
    "        testX.append(b[:, :seq_len])\n",
    "        testY.append(b[:, -1])\n",
    "\n",
    "    trainX = np.array(trainX)\n",
    "    trainY = np.array(trainY)\n",
    "    testX = np.array(testX)\n",
    "    testY = np.array(testY)\n",
    "\n",
    "    return trainX, trainY, testX, testY"
   ]
  },
  {
   "cell_type": "code",
   "execution_count": 29,
   "metadata": {},
   "outputs": [
    {
     "name": "stdout",
     "output_type": "stream",
     "text": [
      "(6121, 2844, 12)\n",
      "(6121, 2844)\n",
      "(670, 2844, 12)\n",
      "(670, 2844)\n"
     ]
    }
   ],
   "source": [
    "trainX, trainY, testX, testY = sequence_data_preparation(\n",
    "    seq_len, pre_len, train_scaled, test_scaled\n",
    ")\n",
    "print(trainX.shape)\n",
    "print(trainY.shape)\n",
    "print(testX.shape)\n",
    "print(testY.shape)"
   ]
  },
  {
   "cell_type": "markdown",
   "metadata": {},
   "source": [
    "## StellarGraph Graph Convolution and LSTM model"
   ]
  },
  {
   "cell_type": "code",
   "execution_count": 30,
   "metadata": {},
   "outputs": [],
   "source": [
    "from stellargraph.layer import GCN_LSTM"
   ]
  },
  {
   "cell_type": "code",
   "execution_count": 31,
   "metadata": {},
   "outputs": [],
   "source": [
    "import sys"
   ]
  },
  {
   "cell_type": "code",
   "execution_count": 32,
   "metadata": {},
   "outputs": [
    {
     "name": "stderr",
     "output_type": "stream",
     "text": [
      "/home/fterroso/python/lib/python3.6/site-packages/ipykernel_launcher.py:20: ExperimentalWarning: GCN_LSTM is experimental: Lack of unit tests and code refinement (see: https://github.com/stellargraph/stellargraph/issues/1132, https://github.com/stellargraph/stellargraph/issues/1526, https://github.com/stellargraph/stellargraph/issues/1564). It may be difficult to use and may have major changes at any time.\n"
     ]
    }
   ],
   "source": [
    "gcn_lstm = GCN_LSTM(\n",
    "    seq_len=seq_len,\n",
    "    adj=adj_matrix,\n",
    "    gc_layer_sizes=[16, 10],\n",
    "    gc_activations=[\"relu\", \"relu\"],\n",
    "    lstm_layer_sizes=[200, 200],\n",
    "    lstm_activations=[\"tanh\", \"tanh\"],\n",
    ")\n"
   ]
  },
  {
   "cell_type": "code",
   "execution_count": 33,
   "metadata": {},
   "outputs": [
    {
     "data": {
      "text/plain": [
       "(2844, 2844)"
      ]
     },
     "execution_count": 33,
     "metadata": {},
     "output_type": "execute_result"
    }
   ],
   "source": [
    "adj_matrix.shape"
   ]
  },
  {
   "cell_type": "code",
   "execution_count": 34,
   "metadata": {},
   "outputs": [],
   "source": [
    "x_input, x_output = gcn_lstm.in_out_tensors()"
   ]
  },
  {
   "cell_type": "code",
   "execution_count": 35,
   "metadata": {},
   "outputs": [],
   "source": [
    "model = Model(inputs=x_input, outputs=x_output)"
   ]
  },
  {
   "cell_type": "code",
   "execution_count": 36,
   "metadata": {},
   "outputs": [],
   "source": [
    "model.compile(optimizer=\"adam\", loss=\"mae\", metrics=[\"mse\"])"
   ]
  },
  {
   "cell_type": "code",
   "execution_count": 37,
   "metadata": {},
   "outputs": [
    {
     "data": {
      "text/plain": [
       "(6121, 2844, 12)"
      ]
     },
     "execution_count": 37,
     "metadata": {},
     "output_type": "execute_result"
    }
   ],
   "source": [
    "trainX.shape"
   ]
  },
  {
   "cell_type": "code",
   "execution_count": 38,
   "metadata": {},
   "outputs": [
    {
     "data": {
      "text/plain": [
       "(670, 2844, 12)"
      ]
     },
     "execution_count": 38,
     "metadata": {},
     "output_type": "execute_result"
    }
   ],
   "source": [
    "testX.shape"
   ]
  },
  {
   "cell_type": "code",
   "execution_count": 39,
   "metadata": {
    "scrolled": true
   },
   "outputs": [
    {
     "name": "stdout",
     "output_type": "stream",
     "text": [
      "Epoch 1/400\n",
      "103/103 [==============================] - 24s 199ms/step - loss: 0.1823 - mse: 0.0742 - val_loss: 0.0099 - val_mse: 3.6440e-04\n",
      "Epoch 2/400\n",
      "103/103 [==============================] - 20s 191ms/step - loss: 0.0096 - mse: 3.4476e-04 - val_loss: 0.0097 - val_mse: 3.5114e-04\n",
      "Epoch 3/400\n",
      "103/103 [==============================] - 21s 200ms/step - loss: 0.0095 - mse: 3.2820e-04 - val_loss: 0.0098 - val_mse: 3.8564e-04\n",
      "Epoch 4/400\n",
      "103/103 [==============================] - 21s 202ms/step - loss: 0.0092 - mse: 3.2214e-04 - val_loss: 0.0094 - val_mse: 3.3301e-04\n",
      "Epoch 5/400\n",
      "103/103 [==============================] - 21s 203ms/step - loss: 0.0092 - mse: 3.1076e-04 - val_loss: 0.0096 - val_mse: 3.6939e-04\n",
      "Epoch 6/400\n",
      "103/103 [==============================] - 20s 199ms/step - loss: 0.0090 - mse: 2.9863e-04 - val_loss: 0.0094 - val_mse: 3.5091e-04\n",
      "Epoch 7/400\n",
      "103/103 [==============================] - 21s 201ms/step - loss: 0.0090 - mse: 2.9301e-04 - val_loss: 0.0095 - val_mse: 3.5440e-04\n",
      "Epoch 8/400\n",
      "103/103 [==============================] - 21s 200ms/step - loss: 0.0090 - mse: 2.9402e-04 - val_loss: 0.0095 - val_mse: 3.5513e-04\n",
      "Epoch 9/400\n",
      "103/103 [==============================] - 20s 198ms/step - loss: 0.0090 - mse: 2.9881e-04 - val_loss: 0.0093 - val_mse: 3.2609e-04\n",
      "Epoch 10/400\n",
      "103/103 [==============================] - 21s 200ms/step - loss: 0.0089 - mse: 2.9726e-04 - val_loss: 0.0093 - val_mse: 3.3416e-04\n",
      "Epoch 11/400\n",
      "103/103 [==============================] - 20s 198ms/step - loss: 0.0087 - mse: 2.7945e-04 - val_loss: 0.0096 - val_mse: 3.7535e-04\n",
      "Epoch 12/400\n",
      "103/103 [==============================] - 20s 199ms/step - loss: 0.0087 - mse: 2.8942e-04 - val_loss: 0.0090 - val_mse: 2.9751e-04\n",
      "Epoch 13/400\n",
      "103/103 [==============================] - 21s 201ms/step - loss: 0.0090 - mse: 3.0219e-04 - val_loss: 0.0097 - val_mse: 3.8173e-04\n",
      "Epoch 14/400\n",
      "103/103 [==============================] - 21s 200ms/step - loss: 0.0089 - mse: 3.0096e-04 - val_loss: 0.0094 - val_mse: 3.4161e-04\n",
      "Epoch 15/400\n",
      "103/103 [==============================] - 20s 199ms/step - loss: 0.0090 - mse: 2.9909e-04 - val_loss: 0.0094 - val_mse: 3.4670e-04\n",
      "Epoch 16/400\n",
      "103/103 [==============================] - 21s 199ms/step - loss: 0.0087 - mse: 2.7991e-04 - val_loss: 0.0093 - val_mse: 3.2626e-04\n",
      "Epoch 17/400\n",
      "103/103 [==============================] - 20s 199ms/step - loss: 0.0088 - mse: 2.8750e-04 - val_loss: 0.0095 - val_mse: 3.6136e-04\n",
      "Epoch 18/400\n",
      "103/103 [==============================] - 21s 200ms/step - loss: 0.0088 - mse: 2.9206e-04 - val_loss: 0.0097 - val_mse: 3.8891e-04\n",
      "Epoch 19/400\n",
      "103/103 [==============================] - 21s 200ms/step - loss: 0.0088 - mse: 2.9984e-04 - val_loss: 0.0092 - val_mse: 3.1976e-04\n",
      "Epoch 20/400\n",
      "103/103 [==============================] - 21s 200ms/step - loss: 0.0087 - mse: 2.7758e-04 - val_loss: 0.0091 - val_mse: 3.1305e-04\n",
      "Epoch 21/400\n",
      "103/103 [==============================] - 21s 202ms/step - loss: 0.0087 - mse: 2.8092e-04 - val_loss: 0.0098 - val_mse: 3.9533e-04\n",
      "Epoch 22/400\n",
      "103/103 [==============================] - 21s 200ms/step - loss: 0.0088 - mse: 3.0334e-04 - val_loss: 0.0093 - val_mse: 3.3813e-04\n",
      "Epoch 23/400\n",
      "103/103 [==============================] - 20s 199ms/step - loss: 0.0087 - mse: 2.8393e-04 - val_loss: 0.0091 - val_mse: 3.1286e-04\n",
      "Epoch 24/400\n",
      "103/103 [==============================] - 21s 202ms/step - loss: 0.0088 - mse: 2.8844e-04 - val_loss: 0.0094 - val_mse: 3.3759e-04\n",
      "Epoch 25/400\n",
      "103/103 [==============================] - 21s 200ms/step - loss: 0.0089 - mse: 2.9415e-04 - val_loss: 0.0093 - val_mse: 3.2983e-04\n",
      "Epoch 26/400\n",
      "103/103 [==============================] - 21s 200ms/step - loss: 0.0088 - mse: 2.8853e-04 - val_loss: 0.0092 - val_mse: 3.2881e-04\n",
      "Epoch 27/400\n",
      "103/103 [==============================] - 21s 199ms/step - loss: 0.0088 - mse: 2.8697e-04 - val_loss: 0.0092 - val_mse: 3.2494e-04\n",
      "Epoch 28/400\n",
      "103/103 [==============================] - 21s 200ms/step - loss: 0.0087 - mse: 2.8364e-04 - val_loss: 0.0093 - val_mse: 3.3284e-04\n",
      "Epoch 29/400\n",
      "103/103 [==============================] - 21s 200ms/step - loss: 0.0087 - mse: 2.9073e-04 - val_loss: 0.0090 - val_mse: 3.0483e-04\n",
      "Epoch 30/400\n",
      "103/103 [==============================] - 20s 199ms/step - loss: 0.0089 - mse: 2.9192e-04 - val_loss: 0.0098 - val_mse: 4.0145e-04\n",
      "Epoch 31/400\n",
      "103/103 [==============================] - 21s 201ms/step - loss: 0.0089 - mse: 3.0260e-04 - val_loss: 0.0093 - val_mse: 3.3684e-04\n",
      "Epoch 32/400\n",
      "103/103 [==============================] - 21s 201ms/step - loss: 0.0087 - mse: 2.9147e-04 - val_loss: 0.0091 - val_mse: 3.2101e-04\n",
      "Epoch 33/400\n",
      "103/103 [==============================] - 21s 200ms/step - loss: 0.0088 - mse: 2.8801e-04 - val_loss: 0.0094 - val_mse: 3.4684e-04\n",
      "Epoch 34/400\n",
      "103/103 [==============================] - 20s 198ms/step - loss: 0.0086 - mse: 2.8498e-04 - val_loss: 0.0098 - val_mse: 3.9203e-04\n",
      "Epoch 35/400\n",
      "103/103 [==============================] - 21s 200ms/step - loss: 0.0088 - mse: 2.9083e-04 - val_loss: 0.0097 - val_mse: 3.8276e-04\n",
      "Epoch 36/400\n",
      "103/103 [==============================] - 21s 201ms/step - loss: 0.0088 - mse: 2.8887e-04 - val_loss: 0.0095 - val_mse: 3.4228e-04\n",
      "Epoch 37/400\n",
      "103/103 [==============================] - 21s 201ms/step - loss: 0.0088 - mse: 2.8761e-04 - val_loss: 0.0091 - val_mse: 3.1035e-04\n",
      "Epoch 38/400\n",
      "103/103 [==============================] - 21s 201ms/step - loss: 0.0087 - mse: 2.8260e-04 - val_loss: 0.0096 - val_mse: 3.6310e-04\n",
      "Epoch 39/400\n",
      "103/103 [==============================] - 21s 200ms/step - loss: 0.0089 - mse: 2.9526e-04 - val_loss: 0.0096 - val_mse: 3.6768e-04\n",
      "Epoch 40/400\n",
      "103/103 [==============================] - 20s 198ms/step - loss: 0.0087 - mse: 2.9327e-04 - val_loss: 0.0094 - val_mse: 3.4906e-04\n",
      "Epoch 41/400\n",
      "103/103 [==============================] - 21s 200ms/step - loss: 0.0087 - mse: 2.8261e-04 - val_loss: 0.0091 - val_mse: 3.2198e-04\n",
      "Epoch 42/400\n",
      "103/103 [==============================] - 21s 199ms/step - loss: 0.0087 - mse: 2.8259e-04 - val_loss: 0.0091 - val_mse: 3.2004e-04\n",
      "Epoch 43/400\n",
      "103/103 [==============================] - 21s 202ms/step - loss: 0.0088 - mse: 2.8540e-04 - val_loss: 0.0095 - val_mse: 3.6372e-04\n",
      "Epoch 44/400\n",
      "103/103 [==============================] - 21s 203ms/step - loss: 0.0087 - mse: 2.8692e-04 - val_loss: 0.0097 - val_mse: 3.9329e-04\n",
      "Epoch 45/400\n",
      "103/103 [==============================] - 20s 198ms/step - loss: 0.0089 - mse: 3.0043e-04 - val_loss: 0.0095 - val_mse: 3.6113e-04\n",
      "Epoch 46/400\n",
      "103/103 [==============================] - 21s 201ms/step - loss: 0.0088 - mse: 2.9213e-04 - val_loss: 0.0090 - val_mse: 3.0570e-04\n",
      "Epoch 47/400\n",
      "103/103 [==============================] - 21s 200ms/step - loss: 0.0083 - mse: 2.6056e-04 - val_loss: 0.0054 - val_mse: 1.5040e-04\n",
      "Epoch 48/400\n",
      "103/103 [==============================] - 21s 200ms/step - loss: 0.0056 - mse: 1.2414e-04 - val_loss: 0.0041 - val_mse: 7.7799e-05\n",
      "Epoch 49/400\n",
      "103/103 [==============================] - 21s 200ms/step - loss: 0.0050 - mse: 9.2389e-05 - val_loss: 0.0038 - val_mse: 7.1608e-05\n",
      "Epoch 50/400\n",
      "103/103 [==============================] - 21s 200ms/step - loss: 0.0048 - mse: 8.2430e-05 - val_loss: 0.0035 - val_mse: 5.4948e-05\n",
      "Epoch 51/400\n",
      "103/103 [==============================] - 21s 200ms/step - loss: 0.0046 - mse: 7.5537e-05 - val_loss: 0.0036 - val_mse: 5.4535e-05\n",
      "Epoch 52/400\n",
      "103/103 [==============================] - 21s 201ms/step - loss: 0.0048 - mse: 7.9208e-05 - val_loss: 0.0041 - val_mse: 5.8997e-05\n",
      "Epoch 53/400\n",
      "103/103 [==============================] - 21s 200ms/step - loss: 0.0050 - mse: 9.3618e-05 - val_loss: 0.0034 - val_mse: 4.4842e-05\n",
      "Epoch 54/400\n",
      "103/103 [==============================] - 20s 199ms/step - loss: 0.0047 - mse: 7.7083e-05 - val_loss: 0.0037 - val_mse: 5.0228e-05\n",
      "Epoch 55/400\n",
      "103/103 [==============================] - 21s 200ms/step - loss: 0.0048 - mse: 8.5280e-05 - val_loss: 0.0033 - val_mse: 4.3486e-05\n",
      "Epoch 56/400\n",
      "103/103 [==============================] - 21s 200ms/step - loss: 0.0045 - mse: 7.1324e-05 - val_loss: 0.0037 - val_mse: 6.6678e-05\n",
      "Epoch 57/400\n",
      "103/103 [==============================] - 20s 198ms/step - loss: 0.0044 - mse: 6.6677e-05 - val_loss: 0.0032 - val_mse: 4.5259e-05\n",
      "Epoch 58/400\n",
      "103/103 [==============================] - 21s 204ms/step - loss: 0.0044 - mse: 6.5743e-05 - val_loss: 0.0034 - val_mse: 4.8605e-05\n",
      "Epoch 59/400\n",
      "103/103 [==============================] - 21s 202ms/step - loss: 0.0045 - mse: 6.8568e-05 - val_loss: 0.0033 - val_mse: 4.0916e-05\n",
      "Epoch 60/400\n",
      "103/103 [==============================] - 21s 200ms/step - loss: 0.0044 - mse: 6.4507e-05 - val_loss: 0.0034 - val_mse: 4.2606e-05\n",
      "Epoch 61/400\n",
      "103/103 [==============================] - 21s 200ms/step - loss: 0.0044 - mse: 6.6404e-05 - val_loss: 0.0037 - val_mse: 6.7992e-05\n",
      "Epoch 62/400\n",
      "103/103 [==============================] - 21s 200ms/step - loss: 0.0044 - mse: 6.6318e-05 - val_loss: 0.0034 - val_mse: 5.4730e-05\n",
      "Epoch 63/400\n",
      "103/103 [==============================] - 21s 201ms/step - loss: 0.0043 - mse: 6.1558e-05 - val_loss: 0.0039 - val_mse: 7.4322e-05\n",
      "Epoch 64/400\n",
      "103/103 [==============================] - 21s 200ms/step - loss: 0.0049 - mse: 8.3279e-05 - val_loss: 0.0032 - val_mse: 3.8747e-05\n",
      "Epoch 65/400\n",
      "103/103 [==============================] - 20s 199ms/step - loss: 0.0044 - mse: 6.3626e-05 - val_loss: 0.0032 - val_mse: 4.4264e-05\n",
      "Epoch 66/400\n",
      "103/103 [==============================] - 20s 198ms/step - loss: 0.0044 - mse: 6.2584e-05 - val_loss: 0.0031 - val_mse: 3.4873e-05\n",
      "Epoch 67/400\n",
      "103/103 [==============================] - 21s 199ms/step - loss: 0.0042 - mse: 5.8726e-05 - val_loss: 0.0031 - val_mse: 3.6838e-05\n",
      "Epoch 68/400\n",
      "103/103 [==============================] - 21s 200ms/step - loss: 0.0043 - mse: 6.3281e-05 - val_loss: 0.0031 - val_mse: 3.7712e-05\n",
      "Epoch 69/400\n",
      "103/103 [==============================] - 20s 199ms/step - loss: 0.0042 - mse: 5.7894e-05 - val_loss: 0.0030 - val_mse: 3.6482e-05\n",
      "Epoch 70/400\n",
      "103/103 [==============================] - 21s 199ms/step - loss: 0.0042 - mse: 5.6042e-05 - val_loss: 0.0035 - val_mse: 5.8410e-05\n",
      "Epoch 71/400\n",
      "103/103 [==============================] - 21s 200ms/step - loss: 0.0042 - mse: 5.6271e-05 - val_loss: 0.0033 - val_mse: 5.2327e-05\n",
      "Epoch 72/400\n",
      "103/103 [==============================] - 20s 199ms/step - loss: 0.0042 - mse: 5.6779e-05 - val_loss: 0.0031 - val_mse: 3.9122e-05\n",
      "Epoch 73/400\n",
      "103/103 [==============================] - 21s 200ms/step - loss: 0.0041 - mse: 5.4031e-05 - val_loss: 0.0033 - val_mse: 4.1094e-05\n",
      "Epoch 74/400\n",
      "103/103 [==============================] - 21s 199ms/step - loss: 0.0043 - mse: 5.9475e-05 - val_loss: 0.0034 - val_mse: 4.8210e-05\n",
      "Epoch 75/400\n",
      "103/103 [==============================] - 20s 198ms/step - loss: 0.0042 - mse: 5.7414e-05 - val_loss: 0.0033 - val_mse: 4.5313e-05\n",
      "Epoch 76/400\n",
      "103/103 [==============================] - 21s 201ms/step - loss: 0.0043 - mse: 5.9653e-05 - val_loss: 0.0034 - val_mse: 4.7443e-05\n",
      "Epoch 77/400\n",
      "103/103 [==============================] - 20s 199ms/step - loss: 0.0042 - mse: 5.8983e-05 - val_loss: 0.0031 - val_mse: 4.0739e-05\n",
      "Epoch 78/400\n",
      "103/103 [==============================] - 20s 198ms/step - loss: 0.0041 - mse: 5.3366e-05 - val_loss: 0.0035 - val_mse: 5.3205e-05\n",
      "Epoch 79/400\n",
      "103/103 [==============================] - 20s 198ms/step - loss: 0.0041 - mse: 5.5044e-05 - val_loss: 0.0032 - val_mse: 4.4219e-05\n",
      "Epoch 80/400\n",
      "103/103 [==============================] - 21s 199ms/step - loss: 0.0041 - mse: 5.5219e-05 - val_loss: 0.0031 - val_mse: 4.4107e-05\n",
      "Epoch 81/400\n",
      "103/103 [==============================] - 20s 198ms/step - loss: 0.0039 - mse: 4.9617e-05 - val_loss: 0.0040 - val_mse: 8.0833e-05\n",
      "Epoch 82/400\n",
      "103/103 [==============================] - 21s 200ms/step - loss: 0.0043 - mse: 6.2458e-05 - val_loss: 0.0032 - val_mse: 3.8137e-05\n",
      "Epoch 83/400\n",
      "103/103 [==============================] - 20s 198ms/step - loss: 0.0041 - mse: 5.4025e-05 - val_loss: 0.0031 - val_mse: 4.2370e-05\n",
      "Epoch 84/400\n",
      "103/103 [==============================] - 21s 200ms/step - loss: 0.0040 - mse: 5.2563e-05 - val_loss: 0.0040 - val_mse: 6.8079e-05\n",
      "Epoch 85/400\n",
      "103/103 [==============================] - 21s 200ms/step - loss: 0.0043 - mse: 6.0395e-05 - val_loss: 0.0035 - val_mse: 4.6596e-05\n",
      "Epoch 86/400\n",
      "103/103 [==============================] - 20s 197ms/step - loss: 0.0041 - mse: 5.6813e-05 - val_loss: 0.0030 - val_mse: 3.8064e-05\n",
      "Epoch 87/400\n",
      "103/103 [==============================] - 20s 199ms/step - loss: 0.0039 - mse: 4.9402e-05 - val_loss: 0.0031 - val_mse: 3.8327e-05\n",
      "Epoch 88/400\n",
      "103/103 [==============================] - 21s 199ms/step - loss: 0.0039 - mse: 4.8866e-05 - val_loss: 0.0034 - val_mse: 4.8999e-05\n",
      "Epoch 89/400\n",
      "103/103 [==============================] - 20s 199ms/step - loss: 0.0041 - mse: 5.4178e-05 - val_loss: 0.0038 - val_mse: 4.8204e-05\n",
      "Epoch 90/400\n",
      "103/103 [==============================] - 20s 197ms/step - loss: 0.0041 - mse: 5.5164e-05 - val_loss: 0.0030 - val_mse: 3.6827e-05\n",
      "Epoch 91/400\n",
      "103/103 [==============================] - 21s 199ms/step - loss: 0.0038 - mse: 4.5952e-05 - val_loss: 0.0030 - val_mse: 3.8606e-05\n",
      "Epoch 92/400\n",
      "103/103 [==============================] - 21s 200ms/step - loss: 0.0038 - mse: 4.7401e-05 - val_loss: 0.0031 - val_mse: 3.8161e-05\n",
      "Epoch 93/400\n",
      "103/103 [==============================] - 20s 198ms/step - loss: 0.0038 - mse: 4.4971e-05 - val_loss: 0.0033 - val_mse: 4.9992e-05\n",
      "Epoch 94/400\n",
      "103/103 [==============================] - 21s 200ms/step - loss: 0.0041 - mse: 5.5781e-05 - val_loss: 0.0033 - val_mse: 4.1734e-05\n",
      "Epoch 95/400\n",
      "103/103 [==============================] - 20s 199ms/step - loss: 0.0040 - mse: 5.0961e-05 - val_loss: 0.0032 - val_mse: 5.1576e-05\n",
      "Epoch 96/400\n",
      "103/103 [==============================] - 21s 200ms/step - loss: 0.0039 - mse: 4.8017e-05 - val_loss: 0.0031 - val_mse: 4.0678e-05\n",
      "Epoch 97/400\n",
      "103/103 [==============================] - 20s 198ms/step - loss: 0.0039 - mse: 4.8867e-05 - val_loss: 0.0034 - val_mse: 5.6016e-05\n",
      "Epoch 98/400\n",
      "103/103 [==============================] - 21s 199ms/step - loss: 0.0040 - mse: 5.3174e-05 - val_loss: 0.0029 - val_mse: 3.4900e-05\n",
      "Epoch 99/400\n",
      "103/103 [==============================] - 20s 198ms/step - loss: 0.0038 - mse: 4.5447e-05 - val_loss: 0.0037 - val_mse: 6.0393e-05\n",
      "Epoch 100/400\n",
      "103/103 [==============================] - 21s 200ms/step - loss: 0.0041 - mse: 5.6749e-05 - val_loss: 0.0031 - val_mse: 3.5025e-05\n",
      "Epoch 101/400\n",
      "103/103 [==============================] - 21s 200ms/step - loss: 0.0040 - mse: 5.2176e-05 - val_loss: 0.0030 - val_mse: 3.7878e-05\n",
      "Epoch 102/400\n",
      "103/103 [==============================] - 21s 200ms/step - loss: 0.0039 - mse: 4.8942e-05 - val_loss: 0.0033 - val_mse: 4.7792e-05\n",
      "Epoch 103/400\n",
      "103/103 [==============================] - 21s 200ms/step - loss: 0.0038 - mse: 4.5820e-05 - val_loss: 0.0032 - val_mse: 3.6947e-05\n",
      "Epoch 104/400\n",
      "103/103 [==============================] - 20s 199ms/step - loss: 0.0038 - mse: 4.8792e-05 - val_loss: 0.0032 - val_mse: 4.5581e-05\n",
      "Epoch 105/400\n",
      "103/103 [==============================] - 21s 200ms/step - loss: 0.0038 - mse: 4.6198e-05 - val_loss: 0.0030 - val_mse: 3.5455e-05\n",
      "Epoch 106/400\n",
      "103/103 [==============================] - 20s 199ms/step - loss: 0.0038 - mse: 4.6154e-05 - val_loss: 0.0039 - val_mse: 6.9200e-05\n",
      "Epoch 107/400\n",
      "103/103 [==============================] - 20s 197ms/step - loss: 0.0040 - mse: 5.1689e-05 - val_loss: 0.0032 - val_mse: 4.7445e-05\n",
      "Epoch 108/400\n",
      "103/103 [==============================] - 20s 198ms/step - loss: 0.0037 - mse: 4.3987e-05 - val_loss: 0.0030 - val_mse: 3.5618e-05\n",
      "Epoch 109/400\n",
      "103/103 [==============================] - 20s 198ms/step - loss: 0.0036 - mse: 4.2798e-05 - val_loss: 0.0029 - val_mse: 3.4644e-05\n",
      "Epoch 110/400\n",
      "103/103 [==============================] - 20s 199ms/step - loss: 0.0037 - mse: 4.5475e-05 - val_loss: 0.0031 - val_mse: 4.1903e-05\n",
      "Epoch 111/400\n",
      "103/103 [==============================] - 21s 200ms/step - loss: 0.0039 - mse: 4.8586e-05 - val_loss: 0.0030 - val_mse: 3.8353e-05\n",
      "Epoch 112/400\n",
      "103/103 [==============================] - 20s 195ms/step - loss: 0.0037 - mse: 4.3329e-05 - val_loss: 0.0030 - val_mse: 3.6877e-05\n",
      "Epoch 113/400\n"
     ]
    },
    {
     "name": "stdout",
     "output_type": "stream",
     "text": [
      "103/103 [==============================] - 20s 198ms/step - loss: 0.0036 - mse: 4.1216e-05 - val_loss: 0.0032 - val_mse: 4.6579e-05\n",
      "Epoch 114/400\n",
      "103/103 [==============================] - 21s 200ms/step - loss: 0.0036 - mse: 4.0939e-05 - val_loss: 0.0035 - val_mse: 5.9081e-05\n",
      "Epoch 115/400\n",
      "103/103 [==============================] - 20s 198ms/step - loss: 0.0036 - mse: 4.1550e-05 - val_loss: 0.0029 - val_mse: 3.3732e-05\n",
      "Epoch 116/400\n",
      "103/103 [==============================] - 20s 198ms/step - loss: 0.0035 - mse: 4.0112e-05 - val_loss: 0.0029 - val_mse: 3.8228e-05\n",
      "Epoch 117/400\n",
      "103/103 [==============================] - 20s 199ms/step - loss: 0.0035 - mse: 4.0461e-05 - val_loss: 0.0035 - val_mse: 4.1431e-05\n",
      "Epoch 118/400\n",
      "103/103 [==============================] - 20s 198ms/step - loss: 0.0038 - mse: 4.6516e-05 - val_loss: 0.0030 - val_mse: 3.4289e-05\n",
      "Epoch 119/400\n",
      "103/103 [==============================] - 20s 198ms/step - loss: 0.0036 - mse: 4.1281e-05 - val_loss: 0.0029 - val_mse: 3.1715e-05\n",
      "Epoch 120/400\n",
      "103/103 [==============================] - 20s 198ms/step - loss: 0.0035 - mse: 3.8721e-05 - val_loss: 0.0030 - val_mse: 3.5554e-05\n",
      "Epoch 121/400\n",
      "103/103 [==============================] - 20s 198ms/step - loss: 0.0035 - mse: 4.0573e-05 - val_loss: 0.0028 - val_mse: 3.1044e-05\n",
      "Epoch 122/400\n",
      "103/103 [==============================] - 21s 199ms/step - loss: 0.0035 - mse: 3.9596e-05 - val_loss: 0.0030 - val_mse: 3.7238e-05\n",
      "Epoch 123/400\n",
      "103/103 [==============================] - 20s 197ms/step - loss: 0.0035 - mse: 3.8915e-05 - val_loss: 0.0030 - val_mse: 3.9371e-05\n",
      "Epoch 124/400\n",
      "103/103 [==============================] - 21s 199ms/step - loss: 0.0035 - mse: 3.8059e-05 - val_loss: 0.0028 - val_mse: 3.3248e-05\n",
      "Epoch 125/400\n",
      "103/103 [==============================] - 20s 198ms/step - loss: 0.0035 - mse: 3.8749e-05 - val_loss: 0.0032 - val_mse: 4.1713e-05\n",
      "Epoch 126/400\n",
      "103/103 [==============================] - 20s 198ms/step - loss: 0.0037 - mse: 4.4093e-05 - val_loss: 0.0029 - val_mse: 3.8392e-05\n",
      "Epoch 127/400\n",
      "103/103 [==============================] - 21s 201ms/step - loss: 0.0035 - mse: 3.8854e-05 - val_loss: 0.0030 - val_mse: 3.7377e-05\n",
      "Epoch 128/400\n",
      "103/103 [==============================] - 20s 199ms/step - loss: 0.0039 - mse: 5.2143e-05 - val_loss: 0.0030 - val_mse: 3.5848e-05\n",
      "Epoch 129/400\n",
      "103/103 [==============================] - 21s 201ms/step - loss: 0.0036 - mse: 4.2586e-05 - val_loss: 0.0031 - val_mse: 3.6717e-05\n",
      "Epoch 130/400\n",
      "103/103 [==============================] - 20s 199ms/step - loss: 0.0035 - mse: 4.0418e-05 - val_loss: 0.0031 - val_mse: 4.4843e-05\n",
      "Epoch 131/400\n",
      "103/103 [==============================] - 21s 199ms/step - loss: 0.0034 - mse: 3.8433e-05 - val_loss: 0.0034 - val_mse: 5.5055e-05\n",
      "Epoch 132/400\n",
      "103/103 [==============================] - 20s 198ms/step - loss: 0.0036 - mse: 4.3094e-05 - val_loss: 0.0034 - val_mse: 5.3478e-05\n",
      "Epoch 133/400\n",
      "103/103 [==============================] - 20s 198ms/step - loss: 0.0037 - mse: 4.6942e-05 - val_loss: 0.0031 - val_mse: 3.8634e-05\n",
      "Epoch 134/400\n",
      "103/103 [==============================] - 21s 200ms/step - loss: 0.0034 - mse: 3.8577e-05 - val_loss: 0.0031 - val_mse: 4.5456e-05\n",
      "Epoch 135/400\n",
      "103/103 [==============================] - 20s 198ms/step - loss: 0.0035 - mse: 3.9100e-05 - val_loss: 0.0030 - val_mse: 3.8817e-05\n",
      "Epoch 136/400\n",
      "103/103 [==============================] - 20s 198ms/step - loss: 0.0034 - mse: 3.8819e-05 - val_loss: 0.0030 - val_mse: 3.2618e-05\n",
      "Epoch 137/400\n",
      "103/103 [==============================] - 20s 198ms/step - loss: 0.0033 - mse: 3.6930e-05 - val_loss: 0.0030 - val_mse: 4.0675e-05\n",
      "Epoch 138/400\n",
      "103/103 [==============================] - 20s 197ms/step - loss: 0.0033 - mse: 3.5903e-05 - val_loss: 0.0030 - val_mse: 3.1969e-05\n",
      "Epoch 139/400\n",
      "103/103 [==============================] - 21s 200ms/step - loss: 0.0034 - mse: 3.9223e-05 - val_loss: 0.0033 - val_mse: 5.2216e-05\n",
      "Epoch 140/400\n",
      "103/103 [==============================] - 20s 198ms/step - loss: 0.0034 - mse: 3.7781e-05 - val_loss: 0.0029 - val_mse: 3.7166e-05\n",
      "Epoch 141/400\n",
      "103/103 [==============================] - 21s 199ms/step - loss: 0.0032 - mse: 3.4547e-05 - val_loss: 0.0029 - val_mse: 3.1348e-05\n",
      "Epoch 142/400\n",
      "103/103 [==============================] - 20s 197ms/step - loss: 0.0033 - mse: 3.4308e-05 - val_loss: 0.0031 - val_mse: 4.0074e-05\n",
      "Epoch 143/400\n",
      "103/103 [==============================] - 21s 200ms/step - loss: 0.0033 - mse: 3.6040e-05 - val_loss: 0.0030 - val_mse: 3.9788e-05\n",
      "Epoch 144/400\n",
      "103/103 [==============================] - 21s 200ms/step - loss: 0.0033 - mse: 3.5626e-05 - val_loss: 0.0028 - val_mse: 3.1853e-05\n",
      "Epoch 145/400\n",
      "103/103 [==============================] - 20s 198ms/step - loss: 0.0033 - mse: 3.5494e-05 - val_loss: 0.0030 - val_mse: 3.6007e-05\n",
      "Epoch 146/400\n",
      "103/103 [==============================] - 20s 199ms/step - loss: 0.0032 - mse: 3.2713e-05 - val_loss: 0.0032 - val_mse: 4.7337e-05\n",
      "Epoch 147/400\n",
      "103/103 [==============================] - 21s 201ms/step - loss: 0.0032 - mse: 3.4785e-05 - val_loss: 0.0031 - val_mse: 3.4637e-05\n",
      "Epoch 148/400\n",
      "103/103 [==============================] - 21s 199ms/step - loss: 0.0033 - mse: 3.5418e-05 - val_loss: 0.0029 - val_mse: 3.3806e-05\n",
      "Epoch 149/400\n",
      "103/103 [==============================] - 21s 201ms/step - loss: 0.0033 - mse: 3.7732e-05 - val_loss: 0.0029 - val_mse: 3.0369e-05\n",
      "Epoch 150/400\n",
      "103/103 [==============================] - 20s 199ms/step - loss: 0.0032 - mse: 3.4869e-05 - val_loss: 0.0028 - val_mse: 3.3841e-05\n",
      "Epoch 151/400\n",
      "103/103 [==============================] - 20s 199ms/step - loss: 0.0032 - mse: 3.3167e-05 - val_loss: 0.0028 - val_mse: 3.0909e-05\n",
      "Epoch 152/400\n",
      "103/103 [==============================] - 21s 201ms/step - loss: 0.0032 - mse: 3.3345e-05 - val_loss: 0.0028 - val_mse: 3.2257e-05\n",
      "Epoch 153/400\n",
      "103/103 [==============================] - 21s 200ms/step - loss: 0.0032 - mse: 3.4591e-05 - val_loss: 0.0028 - val_mse: 3.1794e-05\n",
      "Epoch 154/400\n",
      "103/103 [==============================] - 20s 195ms/step - loss: 0.0031 - mse: 3.2373e-05 - val_loss: 0.0029 - val_mse: 3.7882e-05\n",
      "Epoch 155/400\n",
      "103/103 [==============================] - 20s 197ms/step - loss: 0.0032 - mse: 3.5222e-05 - val_loss: 0.0037 - val_mse: 6.4562e-05\n",
      "Epoch 156/400\n",
      "103/103 [==============================] - 21s 199ms/step - loss: 0.0035 - mse: 4.1362e-05 - val_loss: 0.0027 - val_mse: 2.9635e-05\n",
      "Epoch 157/400\n",
      "103/103 [==============================] - 20s 196ms/step - loss: 0.0031 - mse: 3.2497e-05 - val_loss: 0.0029 - val_mse: 3.9096e-05\n",
      "Epoch 158/400\n",
      "103/103 [==============================] - 21s 199ms/step - loss: 0.0032 - mse: 3.4872e-05 - val_loss: 0.0029 - val_mse: 3.0316e-05\n",
      "Epoch 159/400\n",
      "103/103 [==============================] - 20s 198ms/step - loss: 0.0032 - mse: 3.5170e-05 - val_loss: 0.0028 - val_mse: 3.1224e-05\n",
      "Epoch 160/400\n",
      "103/103 [==============================] - 20s 197ms/step - loss: 0.0031 - mse: 3.1734e-05 - val_loss: 0.0028 - val_mse: 3.4493e-05\n",
      "Epoch 161/400\n",
      "103/103 [==============================] - 21s 200ms/step - loss: 0.0031 - mse: 3.0768e-05 - val_loss: 0.0031 - val_mse: 4.3701e-05\n",
      "Epoch 162/400\n",
      "103/103 [==============================] - 21s 200ms/step - loss: 0.0033 - mse: 3.6527e-05 - val_loss: 0.0028 - val_mse: 3.3383e-05\n",
      "Epoch 163/400\n",
      "103/103 [==============================] - 21s 199ms/step - loss: 0.0030 - mse: 3.0248e-05 - val_loss: 0.0028 - val_mse: 3.3199e-05\n",
      "Epoch 164/400\n",
      "103/103 [==============================] - 20s 198ms/step - loss: 0.0030 - mse: 3.0908e-05 - val_loss: 0.0029 - val_mse: 3.8827e-05\n",
      "Epoch 165/400\n",
      "103/103 [==============================] - 21s 200ms/step - loss: 0.0030 - mse: 3.1095e-05 - val_loss: 0.0029 - val_mse: 3.2849e-05\n",
      "Epoch 166/400\n",
      "103/103 [==============================] - 21s 202ms/step - loss: 0.0030 - mse: 3.0531e-05 - val_loss: 0.0028 - val_mse: 3.1443e-05\n",
      "Epoch 167/400\n",
      "103/103 [==============================] - 20s 198ms/step - loss: 0.0030 - mse: 3.0927e-05 - val_loss: 0.0029 - val_mse: 3.7677e-05\n",
      "Epoch 168/400\n",
      "103/103 [==============================] - 21s 200ms/step - loss: 0.0030 - mse: 3.0533e-05 - val_loss: 0.0030 - val_mse: 4.1453e-05\n",
      "Epoch 169/400\n",
      "103/103 [==============================] - 20s 198ms/step - loss: 0.0030 - mse: 3.0408e-05 - val_loss: 0.0028 - val_mse: 3.3324e-05\n",
      "Epoch 170/400\n",
      "103/103 [==============================] - 21s 200ms/step - loss: 0.0030 - mse: 2.9758e-05 - val_loss: 0.0029 - val_mse: 3.2378e-05\n",
      "Epoch 171/400\n",
      "103/103 [==============================] - 21s 200ms/step - loss: 0.0030 - mse: 3.0287e-05 - val_loss: 0.0028 - val_mse: 2.9639e-05\n",
      "Epoch 172/400\n",
      "103/103 [==============================] - 21s 200ms/step - loss: 0.0030 - mse: 3.1453e-05 - val_loss: 0.0030 - val_mse: 4.2030e-05\n",
      "Epoch 173/400\n",
      "103/103 [==============================] - 21s 200ms/step - loss: 0.0029 - mse: 2.9117e-05 - val_loss: 0.0028 - val_mse: 2.8934e-05\n",
      "Epoch 174/400\n",
      "103/103 [==============================] - 20s 198ms/step - loss: 0.0030 - mse: 3.0454e-05 - val_loss: 0.0028 - val_mse: 3.2079e-05\n",
      "Epoch 175/400\n",
      "103/103 [==============================] - 21s 200ms/step - loss: 0.0029 - mse: 2.8985e-05 - val_loss: 0.0026 - val_mse: 2.8465e-05\n",
      "Epoch 176/400\n",
      "103/103 [==============================] - 21s 199ms/step - loss: 0.0029 - mse: 2.9457e-05 - val_loss: 0.0028 - val_mse: 3.0574e-05\n",
      "Epoch 177/400\n",
      "103/103 [==============================] - 20s 198ms/step - loss: 0.0029 - mse: 2.8675e-05 - val_loss: 0.0028 - val_mse: 3.0263e-05\n",
      "Epoch 178/400\n",
      "103/103 [==============================] - 20s 198ms/step - loss: 0.0029 - mse: 2.8823e-05 - val_loss: 0.0029 - val_mse: 3.4797e-05\n",
      "Epoch 179/400\n",
      "103/103 [==============================] - 20s 198ms/step - loss: 0.0029 - mse: 2.8745e-05 - val_loss: 0.0028 - val_mse: 3.2192e-05\n",
      "Epoch 180/400\n",
      "103/103 [==============================] - 21s 200ms/step - loss: 0.0028 - mse: 2.7910e-05 - val_loss: 0.0028 - val_mse: 2.9406e-05\n",
      "Epoch 181/400\n",
      "103/103 [==============================] - 20s 197ms/step - loss: 0.0030 - mse: 3.0305e-05 - val_loss: 0.0028 - val_mse: 3.0851e-05\n",
      "Epoch 182/400\n",
      "103/103 [==============================] - 20s 198ms/step - loss: 0.0029 - mse: 2.8922e-05 - val_loss: 0.0028 - val_mse: 3.2594e-05\n",
      "Epoch 183/400\n",
      "103/103 [==============================] - 20s 198ms/step - loss: 0.0029 - mse: 2.8302e-05 - val_loss: 0.0029 - val_mse: 3.0056e-05\n",
      "Epoch 184/400\n",
      "103/103 [==============================] - 21s 200ms/step - loss: 0.0029 - mse: 2.8909e-05 - val_loss: 0.0028 - val_mse: 3.2232e-05\n",
      "Epoch 185/400\n",
      "103/103 [==============================] - 20s 198ms/step - loss: 0.0028 - mse: 2.7366e-05 - val_loss: 0.0028 - val_mse: 3.1911e-05\n",
      "Epoch 186/400\n",
      "103/103 [==============================] - 21s 199ms/step - loss: 0.0028 - mse: 2.7356e-05 - val_loss: 0.0029 - val_mse: 3.8798e-05\n",
      "Epoch 187/400\n",
      "103/103 [==============================] - 20s 198ms/step - loss: 0.0029 - mse: 2.8263e-05 - val_loss: 0.0028 - val_mse: 3.2013e-05\n",
      "Epoch 188/400\n",
      "103/103 [==============================] - 20s 196ms/step - loss: 0.0028 - mse: 2.8503e-05 - val_loss: 0.0028 - val_mse: 2.9042e-05\n",
      "Epoch 189/400\n",
      "103/103 [==============================] - 20s 198ms/step - loss: 0.0028 - mse: 2.7344e-05 - val_loss: 0.0028 - val_mse: 2.9741e-05\n",
      "Epoch 190/400\n",
      "103/103 [==============================] - 21s 199ms/step - loss: 0.0028 - mse: 2.7074e-05 - val_loss: 0.0027 - val_mse: 2.7757e-05\n",
      "Epoch 191/400\n",
      "103/103 [==============================] - 20s 199ms/step - loss: 0.0028 - mse: 2.7528e-05 - val_loss: 0.0028 - val_mse: 3.1424e-05\n",
      "Epoch 192/400\n",
      "103/103 [==============================] - 20s 198ms/step - loss: 0.0028 - mse: 2.7461e-05 - val_loss: 0.0028 - val_mse: 2.8971e-05\n",
      "Epoch 193/400\n",
      "103/103 [==============================] - 20s 199ms/step - loss: 0.0027 - mse: 2.5924e-05 - val_loss: 0.0027 - val_mse: 3.0727e-05\n",
      "Epoch 194/400\n",
      "103/103 [==============================] - 20s 199ms/step - loss: 0.0028 - mse: 2.6531e-05 - val_loss: 0.0027 - val_mse: 2.9684e-05\n",
      "Epoch 195/400\n",
      "103/103 [==============================] - 20s 199ms/step - loss: 0.0027 - mse: 2.5746e-05 - val_loss: 0.0027 - val_mse: 2.8538e-05\n",
      "Epoch 196/400\n",
      "103/103 [==============================] - 21s 201ms/step - loss: 0.0028 - mse: 2.6845e-05 - val_loss: 0.0028 - val_mse: 3.1981e-05\n",
      "Epoch 197/400\n",
      "103/103 [==============================] - 21s 200ms/step - loss: 0.0027 - mse: 2.6367e-05 - val_loss: 0.0027 - val_mse: 3.1968e-05\n",
      "Epoch 198/400\n",
      "103/103 [==============================] - 20s 198ms/step - loss: 0.0027 - mse: 2.6137e-05 - val_loss: 0.0027 - val_mse: 2.8755e-05\n",
      "Epoch 199/400\n",
      "103/103 [==============================] - 20s 198ms/step - loss: 0.0027 - mse: 2.6387e-05 - val_loss: 0.0027 - val_mse: 2.8898e-05\n",
      "Epoch 200/400\n",
      "103/103 [==============================] - 21s 199ms/step - loss: 0.0027 - mse: 2.6018e-05 - val_loss: 0.0029 - val_mse: 2.9236e-05\n",
      "Epoch 201/400\n",
      "103/103 [==============================] - 20s 199ms/step - loss: 0.0028 - mse: 2.9099e-05 - val_loss: 0.0028 - val_mse: 3.2209e-05\n",
      "Epoch 202/400\n",
      "103/103 [==============================] - 21s 201ms/step - loss: 0.0026 - mse: 2.4362e-05 - val_loss: 0.0029 - val_mse: 3.7882e-05\n",
      "Epoch 203/400\n",
      "103/103 [==============================] - 21s 200ms/step - loss: 0.0027 - mse: 2.5994e-05 - val_loss: 0.0027 - val_mse: 3.0105e-05\n",
      "Epoch 204/400\n",
      "103/103 [==============================] - 21s 200ms/step - loss: 0.0027 - mse: 2.5050e-05 - val_loss: 0.0027 - val_mse: 2.8570e-05\n",
      "Epoch 205/400\n",
      "103/103 [==============================] - 20s 198ms/step - loss: 0.0026 - mse: 2.4059e-05 - val_loss: 0.0028 - val_mse: 3.5087e-05\n",
      "Epoch 206/400\n",
      "103/103 [==============================] - 21s 199ms/step - loss: 0.0026 - mse: 2.4491e-05 - val_loss: 0.0027 - val_mse: 3.2167e-05\n",
      "Epoch 207/400\n",
      "103/103 [==============================] - 20s 198ms/step - loss: 0.0027 - mse: 2.4963e-05 - val_loss: 0.0028 - val_mse: 3.1242e-05\n",
      "Epoch 208/400\n",
      "103/103 [==============================] - 20s 198ms/step - loss: 0.0026 - mse: 2.3966e-05 - val_loss: 0.0027 - val_mse: 2.8717e-05\n",
      "Epoch 209/400\n",
      "103/103 [==============================] - 20s 197ms/step - loss: 0.0026 - mse: 2.3436e-05 - val_loss: 0.0027 - val_mse: 2.8151e-05\n",
      "Epoch 210/400\n",
      "103/103 [==============================] - 21s 200ms/step - loss: 0.0026 - mse: 2.4394e-05 - val_loss: 0.0026 - val_mse: 2.7489e-05\n",
      "Epoch 211/400\n",
      "103/103 [==============================] - 20s 198ms/step - loss: 0.0026 - mse: 2.4415e-05 - val_loss: 0.0027 - val_mse: 2.8385e-05\n",
      "Epoch 212/400\n",
      "103/103 [==============================] - 20s 197ms/step - loss: 0.0026 - mse: 2.4288e-05 - val_loss: 0.0028 - val_mse: 3.3361e-05\n",
      "Epoch 213/400\n",
      "103/103 [==============================] - 21s 200ms/step - loss: 0.0026 - mse: 2.3455e-05 - val_loss: 0.0028 - val_mse: 3.5296e-05\n",
      "Epoch 214/400\n",
      "103/103 [==============================] - 20s 198ms/step - loss: 0.0026 - mse: 2.3986e-05 - val_loss: 0.0029 - val_mse: 3.1744e-05\n",
      "Epoch 215/400\n",
      "103/103 [==============================] - 20s 197ms/step - loss: 0.0027 - mse: 2.9109e-05 - val_loss: 0.0027 - val_mse: 2.8156e-05\n",
      "Epoch 216/400\n",
      "103/103 [==============================] - 20s 199ms/step - loss: 0.0026 - mse: 2.3837e-05 - val_loss: 0.0026 - val_mse: 2.5709e-05\n",
      "Epoch 217/400\n",
      "103/103 [==============================] - 21s 200ms/step - loss: 0.0026 - mse: 2.3708e-05 - val_loss: 0.0027 - val_mse: 2.9786e-05\n",
      "Epoch 218/400\n",
      "103/103 [==============================] - 20s 198ms/step - loss: 0.0025 - mse: 2.2839e-05 - val_loss: 0.0027 - val_mse: 2.7547e-05\n",
      "Epoch 219/400\n",
      "103/103 [==============================] - 20s 197ms/step - loss: 0.0025 - mse: 2.2788e-05 - val_loss: 0.0027 - val_mse: 2.8210e-05\n",
      "Epoch 220/400\n",
      "103/103 [==============================] - 21s 200ms/step - loss: 0.0026 - mse: 2.3078e-05 - val_loss: 0.0027 - val_mse: 2.9065e-05\n",
      "Epoch 221/400\n",
      "103/103 [==============================] - 20s 196ms/step - loss: 0.0025 - mse: 2.2715e-05 - val_loss: 0.0027 - val_mse: 2.7199e-05\n",
      "Epoch 222/400\n",
      "103/103 [==============================] - 21s 200ms/step - loss: 0.0026 - mse: 2.3182e-05 - val_loss: 0.0027 - val_mse: 2.7347e-05\n",
      "Epoch 223/400\n",
      "103/103 [==============================] - 20s 198ms/step - loss: 0.0025 - mse: 2.2835e-05 - val_loss: 0.0029 - val_mse: 3.2388e-05\n",
      "Epoch 224/400\n",
      "103/103 [==============================] - 21s 199ms/step - loss: 0.0025 - mse: 2.2482e-05 - val_loss: 0.0027 - val_mse: 3.0832e-05\n",
      "Epoch 225/400\n"
     ]
    },
    {
     "name": "stdout",
     "output_type": "stream",
     "text": [
      "103/103 [==============================] - 20s 198ms/step - loss: 0.0026 - mse: 2.3263e-05 - val_loss: 0.0028 - val_mse: 3.5350e-05\n",
      "Epoch 226/400\n",
      "103/103 [==============================] - 20s 198ms/step - loss: 0.0025 - mse: 2.2908e-05 - val_loss: 0.0027 - val_mse: 2.6708e-05\n",
      "Epoch 227/400\n",
      "103/103 [==============================] - 20s 198ms/step - loss: 0.0025 - mse: 2.1753e-05 - val_loss: 0.0027 - val_mse: 2.6425e-05\n",
      "Epoch 228/400\n",
      "103/103 [==============================] - 20s 199ms/step - loss: 0.0026 - mse: 2.2945e-05 - val_loss: 0.0026 - val_mse: 2.7115e-05\n",
      "Epoch 229/400\n",
      "103/103 [==============================] - 21s 200ms/step - loss: 0.0025 - mse: 2.2214e-05 - val_loss: 0.0026 - val_mse: 2.7659e-05\n",
      "Epoch 230/400\n",
      "103/103 [==============================] - 20s 197ms/step - loss: 0.0025 - mse: 2.1667e-05 - val_loss: 0.0028 - val_mse: 3.3148e-05\n",
      "Epoch 231/400\n",
      "103/103 [==============================] - 21s 201ms/step - loss: 0.0025 - mse: 2.3836e-05 - val_loss: 0.0028 - val_mse: 2.7924e-05\n",
      "Epoch 232/400\n",
      "103/103 [==============================] - 20s 198ms/step - loss: 0.0025 - mse: 2.1327e-05 - val_loss: 0.0026 - val_mse: 2.5859e-05\n",
      "Epoch 233/400\n",
      "103/103 [==============================] - 20s 197ms/step - loss: 0.0025 - mse: 2.2133e-05 - val_loss: 0.0027 - val_mse: 3.0078e-05\n",
      "Epoch 234/400\n",
      "103/103 [==============================] - 20s 197ms/step - loss: 0.0025 - mse: 2.2057e-05 - val_loss: 0.0026 - val_mse: 2.7393e-05\n",
      "Epoch 235/400\n",
      "103/103 [==============================] - 20s 198ms/step - loss: 0.0025 - mse: 2.1795e-05 - val_loss: 0.0026 - val_mse: 2.6474e-05\n",
      "Epoch 236/400\n",
      "103/103 [==============================] - 20s 196ms/step - loss: 0.0024 - mse: 2.0870e-05 - val_loss: 0.0026 - val_mse: 2.7530e-05\n",
      "Epoch 237/400\n",
      "103/103 [==============================] - 21s 200ms/step - loss: 0.0024 - mse: 2.0782e-05 - val_loss: 0.0028 - val_mse: 3.4250e-05\n",
      "Epoch 238/400\n",
      "103/103 [==============================] - 21s 200ms/step - loss: 0.0025 - mse: 2.1721e-05 - val_loss: 0.0026 - val_mse: 2.5798e-05\n",
      "Epoch 239/400\n",
      "103/103 [==============================] - 20s 194ms/step - loss: 0.0024 - mse: 2.0639e-05 - val_loss: 0.0025 - val_mse: 2.4942e-05\n",
      "Epoch 240/400\n",
      "103/103 [==============================] - 20s 199ms/step - loss: 0.0025 - mse: 2.1664e-05 - val_loss: 0.0026 - val_mse: 2.7090e-05\n",
      "Epoch 241/400\n",
      "103/103 [==============================] - 20s 199ms/step - loss: 0.0024 - mse: 2.0967e-05 - val_loss: 0.0028 - val_mse: 3.5600e-05\n",
      "Epoch 242/400\n",
      "103/103 [==============================] - 21s 199ms/step - loss: 0.0024 - mse: 2.1984e-05 - val_loss: 0.0026 - val_mse: 2.9552e-05\n",
      "Epoch 243/400\n",
      "103/103 [==============================] - 21s 200ms/step - loss: 0.0024 - mse: 2.0739e-05 - val_loss: 0.0027 - val_mse: 2.7141e-05\n",
      "Epoch 244/400\n",
      "103/103 [==============================] - 20s 199ms/step - loss: 0.0024 - mse: 2.0301e-05 - val_loss: 0.0025 - val_mse: 2.5996e-05\n",
      "Epoch 245/400\n",
      "103/103 [==============================] - 20s 197ms/step - loss: 0.0024 - mse: 2.0009e-05 - val_loss: 0.0026 - val_mse: 2.5708e-05\n",
      "Epoch 246/400\n",
      "103/103 [==============================] - 21s 201ms/step - loss: 0.0024 - mse: 1.9968e-05 - val_loss: 0.0027 - val_mse: 2.9835e-05\n",
      "Epoch 247/400\n",
      "103/103 [==============================] - 21s 200ms/step - loss: 0.0025 - mse: 2.2644e-05 - val_loss: 0.0026 - val_mse: 2.4785e-05\n",
      "Epoch 248/400\n",
      "103/103 [==============================] - 20s 197ms/step - loss: 0.0024 - mse: 2.0687e-05 - val_loss: 0.0026 - val_mse: 2.4489e-05\n",
      "Epoch 249/400\n",
      "103/103 [==============================] - 20s 199ms/step - loss: 0.0024 - mse: 2.0796e-05 - val_loss: 0.0027 - val_mse: 2.7298e-05\n",
      "Epoch 250/400\n",
      "103/103 [==============================] - 20s 198ms/step - loss: 0.0025 - mse: 2.1439e-05 - val_loss: 0.0026 - val_mse: 2.5156e-05\n",
      "Epoch 251/400\n",
      "103/103 [==============================] - 21s 199ms/step - loss: 0.0023 - mse: 1.9152e-05 - val_loss: 0.0026 - val_mse: 2.5370e-05\n",
      "Epoch 252/400\n",
      "103/103 [==============================] - 21s 199ms/step - loss: 0.0025 - mse: 2.2681e-05 - val_loss: 0.0026 - val_mse: 2.6057e-05\n",
      "Epoch 253/400\n",
      "103/103 [==============================] - 21s 199ms/step - loss: 0.0024 - mse: 2.0250e-05 - val_loss: 0.0028 - val_mse: 3.3051e-05\n",
      "Epoch 254/400\n",
      "103/103 [==============================] - 21s 199ms/step - loss: 0.0024 - mse: 2.2815e-05 - val_loss: 0.0027 - val_mse: 2.7057e-05\n",
      "Epoch 255/400\n",
      "103/103 [==============================] - 20s 199ms/step - loss: 0.0023 - mse: 1.9446e-05 - val_loss: 0.0027 - val_mse: 2.9521e-05\n",
      "Epoch 256/400\n",
      "103/103 [==============================] - 20s 199ms/step - loss: 0.0025 - mse: 2.2183e-05 - val_loss: 0.0025 - val_mse: 2.6186e-05\n",
      "Epoch 257/400\n",
      "103/103 [==============================] - 21s 200ms/step - loss: 0.0023 - mse: 1.9370e-05 - val_loss: 0.0025 - val_mse: 2.5591e-05\n",
      "Epoch 258/400\n",
      "103/103 [==============================] - 20s 199ms/step - loss: 0.0023 - mse: 1.8833e-05 - val_loss: 0.0025 - val_mse: 2.6386e-05\n",
      "Epoch 259/400\n",
      "103/103 [==============================] - 21s 200ms/step - loss: 0.0024 - mse: 2.0178e-05 - val_loss: 0.0026 - val_mse: 2.6518e-05\n",
      "Epoch 260/400\n",
      "103/103 [==============================] - 20s 199ms/step - loss: 0.0023 - mse: 1.9220e-05 - val_loss: 0.0026 - val_mse: 2.7405e-05\n",
      "Epoch 261/400\n",
      "103/103 [==============================] - 20s 199ms/step - loss: 0.0022 - mse: 1.8120e-05 - val_loss: 0.0026 - val_mse: 2.5990e-05\n",
      "Epoch 262/400\n",
      "103/103 [==============================] - 20s 199ms/step - loss: 0.0023 - mse: 2.0763e-05 - val_loss: 0.0026 - val_mse: 2.4876e-05\n",
      "Epoch 263/400\n",
      "103/103 [==============================] - 20s 199ms/step - loss: 0.0022 - mse: 1.8523e-05 - val_loss: 0.0025 - val_mse: 2.5887e-05\n",
      "Epoch 264/400\n",
      "103/103 [==============================] - 21s 200ms/step - loss: 0.0023 - mse: 1.9049e-05 - val_loss: 0.0025 - val_mse: 2.3671e-05\n",
      "Epoch 265/400\n",
      "103/103 [==============================] - 21s 200ms/step - loss: 0.0023 - mse: 1.8970e-05 - val_loss: 0.0026 - val_mse: 2.4947e-05\n",
      "Epoch 266/400\n",
      "103/103 [==============================] - 21s 202ms/step - loss: 0.0023 - mse: 1.8960e-05 - val_loss: 0.0026 - val_mse: 2.5198e-05\n",
      "Epoch 267/400\n",
      "103/103 [==============================] - 21s 202ms/step - loss: 0.0022 - mse: 1.8415e-05 - val_loss: 0.0025 - val_mse: 2.3851e-05\n",
      "Epoch 268/400\n",
      "103/103 [==============================] - 21s 201ms/step - loss: 0.0022 - mse: 1.8570e-05 - val_loss: 0.0025 - val_mse: 2.3654e-05\n",
      "Epoch 269/400\n",
      "103/103 [==============================] - 21s 200ms/step - loss: 0.0023 - mse: 1.8862e-05 - val_loss: 0.0024 - val_mse: 2.3665e-05\n",
      "Epoch 270/400\n",
      "103/103 [==============================] - 20s 198ms/step - loss: 0.0023 - mse: 1.8844e-05 - val_loss: 0.0027 - val_mse: 2.8071e-05\n",
      "Epoch 271/400\n",
      "103/103 [==============================] - 20s 199ms/step - loss: 0.0023 - mse: 1.9095e-05 - val_loss: 0.0025 - val_mse: 2.4889e-05\n",
      "Epoch 272/400\n",
      "103/103 [==============================] - 20s 198ms/step - loss: 0.0022 - mse: 1.8261e-05 - val_loss: 0.0026 - val_mse: 2.6386e-05\n",
      "Epoch 273/400\n",
      "103/103 [==============================] - 21s 200ms/step - loss: 0.0023 - mse: 1.8756e-05 - val_loss: 0.0026 - val_mse: 2.4903e-05\n",
      "Epoch 274/400\n",
      "103/103 [==============================] - 21s 200ms/step - loss: 0.0022 - mse: 1.7631e-05 - val_loss: 0.0026 - val_mse: 2.8835e-05\n",
      "Epoch 275/400\n",
      "103/103 [==============================] - 21s 199ms/step - loss: 0.0023 - mse: 2.0216e-05 - val_loss: 0.0026 - val_mse: 2.4855e-05\n",
      "Epoch 276/400\n",
      "103/103 [==============================] - 20s 199ms/step - loss: 0.0022 - mse: 1.7337e-05 - val_loss: 0.0026 - val_mse: 2.5560e-05\n",
      "Epoch 277/400\n",
      "103/103 [==============================] - 20s 196ms/step - loss: 0.0022 - mse: 1.7549e-05 - val_loss: 0.0027 - val_mse: 2.5165e-05\n",
      "Epoch 278/400\n",
      "103/103 [==============================] - 21s 200ms/step - loss: 0.0022 - mse: 1.8427e-05 - val_loss: 0.0026 - val_mse: 2.6536e-05\n",
      "Epoch 279/400\n",
      "103/103 [==============================] - 21s 201ms/step - loss: 0.0022 - mse: 1.7829e-05 - val_loss: 0.0025 - val_mse: 2.5635e-05\n",
      "Epoch 280/400\n",
      "103/103 [==============================] - 21s 199ms/step - loss: 0.0022 - mse: 1.7798e-05 - val_loss: 0.0027 - val_mse: 2.4493e-05\n",
      "Epoch 281/400\n",
      "103/103 [==============================] - 20s 197ms/step - loss: 0.0022 - mse: 1.7740e-05 - val_loss: 0.0025 - val_mse: 2.3852e-05\n",
      "Epoch 282/400\n",
      "103/103 [==============================] - 20s 199ms/step - loss: 0.0022 - mse: 1.8071e-05 - val_loss: 0.0024 - val_mse: 2.2293e-05\n",
      "Epoch 283/400\n",
      "103/103 [==============================] - 20s 199ms/step - loss: 0.0022 - mse: 1.7290e-05 - val_loss: 0.0024 - val_mse: 2.3299e-05\n",
      "Epoch 284/400\n",
      "103/103 [==============================] - 20s 199ms/step - loss: 0.0022 - mse: 1.7520e-05 - val_loss: 0.0025 - val_mse: 2.4098e-05\n",
      "Epoch 285/400\n",
      "103/103 [==============================] - 20s 198ms/step - loss: 0.0021 - mse: 1.6902e-05 - val_loss: 0.0025 - val_mse: 2.3623e-05\n",
      "Epoch 286/400\n",
      "103/103 [==============================] - 21s 199ms/step - loss: 0.0022 - mse: 1.7611e-05 - val_loss: 0.0024 - val_mse: 2.3039e-05\n",
      "Epoch 287/400\n",
      "103/103 [==============================] - 21s 200ms/step - loss: 0.0021 - mse: 1.7369e-05 - val_loss: 0.0025 - val_mse: 2.2881e-05\n",
      "Epoch 288/400\n",
      "103/103 [==============================] - 20s 199ms/step - loss: 0.0022 - mse: 1.8076e-05 - val_loss: 0.0025 - val_mse: 2.3606e-05\n",
      "Epoch 289/400\n",
      "103/103 [==============================] - 20s 198ms/step - loss: 0.0022 - mse: 1.8447e-05 - val_loss: 0.0025 - val_mse: 2.4131e-05\n",
      "Epoch 290/400\n",
      "103/103 [==============================] - 21s 202ms/step - loss: 0.0022 - mse: 1.7200e-05 - val_loss: 0.0027 - val_mse: 2.6218e-05\n",
      "Epoch 291/400\n",
      "103/103 [==============================] - 21s 200ms/step - loss: 0.0022 - mse: 1.8087e-05 - val_loss: 0.0024 - val_mse: 2.2809e-05\n",
      "Epoch 292/400\n",
      "103/103 [==============================] - 20s 196ms/step - loss: 0.0021 - mse: 1.6675e-05 - val_loss: 0.0024 - val_mse: 2.2832e-05\n",
      "Epoch 293/400\n",
      "103/103 [==============================] - 21s 200ms/step - loss: 0.0022 - mse: 1.8343e-05 - val_loss: 0.0024 - val_mse: 2.2819e-05\n",
      "Epoch 294/400\n",
      "103/103 [==============================] - 21s 200ms/step - loss: 0.0021 - mse: 1.6297e-05 - val_loss: 0.0025 - val_mse: 2.3888e-05\n",
      "Epoch 295/400\n",
      "103/103 [==============================] - 20s 199ms/step - loss: 0.0022 - mse: 1.8552e-05 - val_loss: 0.0025 - val_mse: 2.3426e-05\n",
      "Epoch 296/400\n",
      "103/103 [==============================] - 20s 198ms/step - loss: 0.0021 - mse: 1.6984e-05 - val_loss: 0.0025 - val_mse: 2.3315e-05\n",
      "Epoch 297/400\n",
      "103/103 [==============================] - 20s 197ms/step - loss: 0.0021 - mse: 1.6720e-05 - val_loss: 0.0024 - val_mse: 2.2809e-05\n",
      "Epoch 298/400\n",
      "103/103 [==============================] - 21s 203ms/step - loss: 0.0021 - mse: 1.6763e-05 - val_loss: 0.0024 - val_mse: 2.3256e-05\n",
      "Epoch 299/400\n",
      "103/103 [==============================] - 21s 200ms/step - loss: 0.0021 - mse: 1.6895e-05 - val_loss: 0.0026 - val_mse: 2.4544e-05\n",
      "Epoch 300/400\n",
      "103/103 [==============================] - 20s 199ms/step - loss: 0.0022 - mse: 1.7808e-05 - val_loss: 0.0025 - val_mse: 2.3567e-05\n",
      "Epoch 301/400\n",
      "103/103 [==============================] - 20s 197ms/step - loss: 0.0021 - mse: 1.7015e-05 - val_loss: 0.0025 - val_mse: 2.4051e-05\n",
      "Epoch 302/400\n",
      "103/103 [==============================] - 20s 198ms/step - loss: 0.0021 - mse: 1.6701e-05 - val_loss: 0.0026 - val_mse: 2.5241e-05\n",
      "Epoch 303/400\n",
      "103/103 [==============================] - 20s 198ms/step - loss: 0.0021 - mse: 1.6356e-05 - val_loss: 0.0025 - val_mse: 2.2621e-05\n",
      "Epoch 304/400\n",
      "103/103 [==============================] - 20s 198ms/step - loss: 0.0021 - mse: 1.6064e-05 - val_loss: 0.0025 - val_mse: 2.3165e-05\n",
      "Epoch 305/400\n",
      "103/103 [==============================] - 20s 195ms/step - loss: 0.0021 - mse: 1.6279e-05 - val_loss: 0.0024 - val_mse: 2.3296e-05\n",
      "Epoch 306/400\n",
      "103/103 [==============================] - 20s 198ms/step - loss: 0.0022 - mse: 1.7909e-05 - val_loss: 0.0024 - val_mse: 2.3551e-05\n",
      "Epoch 307/400\n",
      "103/103 [==============================] - 20s 197ms/step - loss: 0.0021 - mse: 1.6523e-05 - val_loss: 0.0025 - val_mse: 2.3453e-05\n",
      "Epoch 308/400\n",
      "103/103 [==============================] - 21s 199ms/step - loss: 0.0021 - mse: 1.6924e-05 - val_loss: 0.0024 - val_mse: 2.3477e-05\n",
      "Epoch 309/400\n",
      "103/103 [==============================] - 20s 197ms/step - loss: 0.0021 - mse: 1.6605e-05 - val_loss: 0.0024 - val_mse: 2.3440e-05\n",
      "Epoch 310/400\n",
      "103/103 [==============================] - 21s 199ms/step - loss: 0.0021 - mse: 1.5910e-05 - val_loss: 0.0025 - val_mse: 2.4638e-05\n",
      "Epoch 311/400\n",
      "103/103 [==============================] - 20s 199ms/step - loss: 0.0021 - mse: 1.7652e-05 - val_loss: 0.0024 - val_mse: 2.2149e-05\n",
      "Epoch 312/400\n",
      "103/103 [==============================] - 20s 199ms/step - loss: 0.0021 - mse: 1.6066e-05 - val_loss: 0.0024 - val_mse: 2.2487e-05\n",
      "Epoch 313/400\n",
      "103/103 [==============================] - 20s 199ms/step - loss: 0.0021 - mse: 1.7150e-05 - val_loss: 0.0024 - val_mse: 2.2731e-05\n",
      "Epoch 314/400\n",
      "103/103 [==============================] - 20s 197ms/step - loss: 0.0021 - mse: 1.5910e-05 - val_loss: 0.0024 - val_mse: 2.2526e-05\n",
      "Epoch 315/400\n",
      "103/103 [==============================] - 20s 197ms/step - loss: 0.0021 - mse: 1.7574e-05 - val_loss: 0.0024 - val_mse: 2.2373e-05\n",
      "Epoch 316/400\n",
      "103/103 [==============================] - 20s 198ms/step - loss: 0.0021 - mse: 1.6843e-05 - val_loss: 0.0024 - val_mse: 2.2243e-05\n",
      "Epoch 317/400\n",
      "103/103 [==============================] - 20s 198ms/step - loss: 0.0021 - mse: 1.6992e-05 - val_loss: 0.0024 - val_mse: 2.2928e-05\n",
      "Epoch 318/400\n",
      "103/103 [==============================] - 21s 201ms/step - loss: 0.0021 - mse: 1.6514e-05 - val_loss: 0.0027 - val_mse: 2.4425e-05\n",
      "Epoch 319/400\n",
      "103/103 [==============================] - 20s 199ms/step - loss: 0.0022 - mse: 1.8617e-05 - val_loss: 0.0024 - val_mse: 2.2644e-05\n",
      "Epoch 320/400\n",
      "103/103 [==============================] - 21s 199ms/step - loss: 0.0021 - mse: 1.6343e-05 - val_loss: 0.0024 - val_mse: 2.2682e-05\n",
      "Epoch 321/400\n",
      "103/103 [==============================] - 20s 198ms/step - loss: 0.0024 - mse: 2.3482e-05 - val_loss: 0.0026 - val_mse: 2.3890e-05\n",
      "Epoch 322/400\n",
      "103/103 [==============================] - 20s 197ms/step - loss: 0.0022 - mse: 1.8522e-05 - val_loss: 0.0025 - val_mse: 2.4603e-05\n",
      "Epoch 323/400\n",
      "103/103 [==============================] - 20s 197ms/step - loss: 0.0021 - mse: 1.7458e-05 - val_loss: 0.0024 - val_mse: 2.2026e-05\n",
      "Epoch 324/400\n",
      "103/103 [==============================] - 20s 197ms/step - loss: 0.0021 - mse: 1.7005e-05 - val_loss: 0.0024 - val_mse: 2.2598e-05\n",
      "Epoch 325/400\n",
      "103/103 [==============================] - 21s 199ms/step - loss: 0.0021 - mse: 1.6240e-05 - val_loss: 0.0025 - val_mse: 2.4092e-05\n",
      "Epoch 326/400\n",
      "103/103 [==============================] - 20s 199ms/step - loss: 0.0021 - mse: 1.5953e-05 - val_loss: 0.0025 - val_mse: 2.3627e-05\n",
      "Epoch 327/400\n",
      "103/103 [==============================] - 20s 197ms/step - loss: 0.0021 - mse: 1.6697e-05 - val_loss: 0.0024 - val_mse: 2.3605e-05\n",
      "Epoch 328/400\n",
      "103/103 [==============================] - 21s 200ms/step - loss: 0.0021 - mse: 1.6682e-05 - val_loss: 0.0024 - val_mse: 2.1872e-05\n",
      "Epoch 329/400\n",
      "103/103 [==============================] - 20s 199ms/step - loss: 0.0021 - mse: 1.6529e-05 - val_loss: 0.0025 - val_mse: 2.3840e-05\n",
      "Epoch 330/400\n",
      "103/103 [==============================] - 21s 201ms/step - loss: 0.0021 - mse: 1.6461e-05 - val_loss: 0.0024 - val_mse: 2.2028e-05\n",
      "Epoch 331/400\n",
      "103/103 [==============================] - 20s 199ms/step - loss: 0.0020 - mse: 1.5892e-05 - val_loss: 0.0025 - val_mse: 2.5426e-05\n",
      "Epoch 332/400\n",
      "103/103 [==============================] - 20s 199ms/step - loss: 0.0021 - mse: 1.7483e-05 - val_loss: 0.0024 - val_mse: 2.4204e-05\n",
      "Epoch 333/400\n",
      "103/103 [==============================] - 20s 199ms/step - loss: 0.0021 - mse: 1.6762e-05 - val_loss: 0.0024 - val_mse: 2.1475e-05\n",
      "Epoch 334/400\n",
      "103/103 [==============================] - 20s 198ms/step - loss: 0.0021 - mse: 1.5955e-05 - val_loss: 0.0025 - val_mse: 2.2610e-05\n",
      "Epoch 335/400\n",
      "103/103 [==============================] - 20s 197ms/step - loss: 0.0021 - mse: 1.6443e-05 - val_loss: 0.0024 - val_mse: 2.2320e-05\n",
      "Epoch 336/400\n",
      "103/103 [==============================] - 20s 199ms/step - loss: 0.0020 - mse: 1.5932e-05 - val_loss: 0.0025 - val_mse: 2.3784e-05\n",
      "Epoch 337/400\n"
     ]
    },
    {
     "name": "stdout",
     "output_type": "stream",
     "text": [
      "103/103 [==============================] - 21s 200ms/step - loss: 0.0021 - mse: 1.6336e-05 - val_loss: 0.0023 - val_mse: 2.1774e-05\n",
      "Epoch 338/400\n",
      "103/103 [==============================] - 20s 199ms/step - loss: 0.0020 - mse: 1.5629e-05 - val_loss: 0.0024 - val_mse: 2.2124e-05\n",
      "Epoch 339/400\n",
      "103/103 [==============================] - 20s 199ms/step - loss: 0.0020 - mse: 1.5342e-05 - val_loss: 0.0024 - val_mse: 2.3839e-05\n",
      "Epoch 340/400\n",
      "103/103 [==============================] - 20s 197ms/step - loss: 0.0021 - mse: 1.6447e-05 - val_loss: 0.0023 - val_mse: 2.1173e-05\n",
      "Epoch 341/400\n",
      "103/103 [==============================] - 20s 198ms/step - loss: 0.0020 - mse: 1.6175e-05 - val_loss: 0.0024 - val_mse: 2.2038e-05\n",
      "Epoch 342/400\n",
      "103/103 [==============================] - 20s 198ms/step - loss: 0.0020 - mse: 1.5636e-05 - val_loss: 0.0024 - val_mse: 2.1324e-05\n",
      "Epoch 343/400\n",
      "103/103 [==============================] - 20s 199ms/step - loss: 0.0020 - mse: 1.6051e-05 - val_loss: 0.0024 - val_mse: 2.2738e-05\n",
      "Epoch 344/400\n",
      "103/103 [==============================] - 20s 198ms/step - loss: 0.0020 - mse: 1.5467e-05 - val_loss: 0.0024 - val_mse: 2.2257e-05\n",
      "Epoch 345/400\n",
      "103/103 [==============================] - 20s 198ms/step - loss: 0.0020 - mse: 1.5495e-05 - val_loss: 0.0025 - val_mse: 2.3174e-05\n",
      "Epoch 346/400\n",
      "103/103 [==============================] - 20s 199ms/step - loss: 0.0021 - mse: 1.6911e-05 - val_loss: 0.0024 - val_mse: 2.3746e-05\n",
      "Epoch 347/400\n",
      "103/103 [==============================] - 20s 196ms/step - loss: 0.0021 - mse: 1.6658e-05 - val_loss: 0.0025 - val_mse: 2.3065e-05\n",
      "Epoch 348/400\n",
      "103/103 [==============================] - 20s 198ms/step - loss: 0.0022 - mse: 1.7567e-05 - val_loss: 0.0024 - val_mse: 2.1710e-05\n",
      "Epoch 349/400\n",
      "103/103 [==============================] - 20s 199ms/step - loss: 0.0020 - mse: 1.6467e-05 - val_loss: 0.0024 - val_mse: 2.3686e-05\n",
      "Epoch 350/400\n",
      "103/103 [==============================] - 21s 200ms/step - loss: 0.0020 - mse: 1.6697e-05 - val_loss: 0.0024 - val_mse: 2.2044e-05\n",
      "Epoch 351/400\n",
      "103/103 [==============================] - 20s 197ms/step - loss: 0.0020 - mse: 1.5465e-05 - val_loss: 0.0024 - val_mse: 2.1699e-05\n",
      "Epoch 352/400\n",
      "103/103 [==============================] - 20s 198ms/step - loss: 0.0020 - mse: 1.6064e-05 - val_loss: 0.0025 - val_mse: 2.3853e-05\n",
      "Epoch 353/400\n",
      "103/103 [==============================] - 21s 199ms/step - loss: 0.0021 - mse: 1.6512e-05 - val_loss: 0.0025 - val_mse: 2.4924e-05\n",
      "Epoch 354/400\n",
      "103/103 [==============================] - 20s 198ms/step - loss: 0.0020 - mse: 1.5657e-05 - val_loss: 0.0024 - val_mse: 2.1815e-05\n",
      "Epoch 355/400\n",
      "103/103 [==============================] - 21s 199ms/step - loss: 0.0020 - mse: 1.5739e-05 - val_loss: 0.0024 - val_mse: 2.1364e-05\n",
      "Epoch 356/400\n",
      "103/103 [==============================] - 20s 198ms/step - loss: 0.0020 - mse: 1.5001e-05 - val_loss: 0.0025 - val_mse: 2.4511e-05\n",
      "Epoch 357/400\n",
      "103/103 [==============================] - 20s 198ms/step - loss: 0.0021 - mse: 1.6636e-05 - val_loss: 0.0024 - val_mse: 2.3246e-05\n",
      "Epoch 358/400\n",
      "103/103 [==============================] - 20s 198ms/step - loss: 0.0020 - mse: 1.5459e-05 - val_loss: 0.0024 - val_mse: 2.3569e-05\n",
      "Epoch 359/400\n",
      "103/103 [==============================] - 20s 198ms/step - loss: 0.0020 - mse: 1.5589e-05 - val_loss: 0.0024 - val_mse: 2.1787e-05\n",
      "Epoch 360/400\n",
      "103/103 [==============================] - 20s 198ms/step - loss: 0.0020 - mse: 1.4668e-05 - val_loss: 0.0024 - val_mse: 2.3023e-05\n",
      "Epoch 361/400\n",
      "103/103 [==============================] - 20s 199ms/step - loss: 0.0020 - mse: 1.6015e-05 - val_loss: 0.0024 - val_mse: 2.2362e-05\n",
      "Epoch 362/400\n",
      "103/103 [==============================] - 20s 196ms/step - loss: 0.0020 - mse: 1.5482e-05 - val_loss: 0.0024 - val_mse: 2.3650e-05\n",
      "Epoch 363/400\n",
      "103/103 [==============================] - 20s 199ms/step - loss: 0.0020 - mse: 1.5831e-05 - val_loss: 0.0024 - val_mse: 2.2243e-05\n",
      "Epoch 364/400\n",
      "103/103 [==============================] - 21s 199ms/step - loss: 0.0020 - mse: 1.5769e-05 - val_loss: 0.0024 - val_mse: 2.2156e-05\n",
      "Epoch 365/400\n",
      "103/103 [==============================] - 20s 199ms/step - loss: 0.0021 - mse: 1.7042e-05 - val_loss: 0.0024 - val_mse: 2.1254e-05\n",
      "Epoch 366/400\n",
      "103/103 [==============================] - 21s 200ms/step - loss: 0.0021 - mse: 1.5947e-05 - val_loss: 0.0024 - val_mse: 2.1120e-05\n",
      "Epoch 367/400\n",
      "103/103 [==============================] - 21s 200ms/step - loss: 0.0020 - mse: 1.6145e-05 - val_loss: 0.0024 - val_mse: 2.3660e-05\n",
      "Epoch 368/400\n",
      "103/103 [==============================] - 20s 197ms/step - loss: 0.0020 - mse: 1.5839e-05 - val_loss: 0.0024 - val_mse: 2.1965e-05\n",
      "Epoch 369/400\n",
      "103/103 [==============================] - 20s 197ms/step - loss: 0.0020 - mse: 1.5426e-05 - val_loss: 0.0024 - val_mse: 2.1312e-05\n",
      "Epoch 370/400\n",
      "103/103 [==============================] - 21s 200ms/step - loss: 0.0020 - mse: 1.5628e-05 - val_loss: 0.0024 - val_mse: 2.1447e-05\n",
      "Epoch 371/400\n",
      "103/103 [==============================] - 20s 198ms/step - loss: 0.0020 - mse: 1.5423e-05 - val_loss: 0.0024 - val_mse: 2.1287e-05\n",
      "Epoch 372/400\n",
      "103/103 [==============================] - 21s 200ms/step - loss: 0.0020 - mse: 1.5367e-05 - val_loss: 0.0023 - val_mse: 2.1577e-05\n",
      "Epoch 373/400\n",
      "103/103 [==============================] - 21s 200ms/step - loss: 0.0020 - mse: 1.5319e-05 - val_loss: 0.0024 - val_mse: 2.2265e-05\n",
      "Epoch 374/400\n",
      "103/103 [==============================] - 20s 199ms/step - loss: 0.0020 - mse: 1.5349e-05 - val_loss: 0.0025 - val_mse: 2.4690e-05\n",
      "Epoch 375/400\n",
      "103/103 [==============================] - 21s 199ms/step - loss: 0.0021 - mse: 1.6226e-05 - val_loss: 0.0023 - val_mse: 2.1559e-05\n",
      "Epoch 376/400\n",
      "103/103 [==============================] - 21s 200ms/step - loss: 0.0020 - mse: 1.5831e-05 - val_loss: 0.0023 - val_mse: 2.1059e-05\n",
      "Epoch 377/400\n",
      "103/103 [==============================] - 20s 199ms/step - loss: 0.0020 - mse: 1.5272e-05 - val_loss: 0.0024 - val_mse: 2.3460e-05\n",
      "Epoch 378/400\n",
      "103/103 [==============================] - 21s 201ms/step - loss: 0.0020 - mse: 1.6063e-05 - val_loss: 0.0024 - val_mse: 2.3798e-05\n",
      "Epoch 379/400\n",
      "103/103 [==============================] - 20s 197ms/step - loss: 0.0020 - mse: 1.5706e-05 - val_loss: 0.0024 - val_mse: 2.3316e-05\n",
      "Epoch 380/400\n",
      "103/103 [==============================] - 21s 200ms/step - loss: 0.0021 - mse: 1.5712e-05 - val_loss: 0.0023 - val_mse: 2.1570e-05\n",
      "Epoch 381/400\n",
      "103/103 [==============================] - 21s 199ms/step - loss: 0.0021 - mse: 1.7488e-05 - val_loss: 0.0024 - val_mse: 2.3675e-05\n",
      "Epoch 382/400\n",
      "103/103 [==============================] - 21s 199ms/step - loss: 0.0020 - mse: 1.5035e-05 - val_loss: 0.0023 - val_mse: 2.1021e-05\n",
      "Epoch 383/400\n",
      "103/103 [==============================] - 20s 198ms/step - loss: 0.0020 - mse: 1.5307e-05 - val_loss: 0.0023 - val_mse: 2.1724e-05\n",
      "Epoch 384/400\n",
      "103/103 [==============================] - 20s 196ms/step - loss: 0.0021 - mse: 1.6172e-05 - val_loss: 0.0025 - val_mse: 2.4093e-05\n",
      "Epoch 385/400\n",
      "103/103 [==============================] - 20s 199ms/step - loss: 0.0021 - mse: 1.6878e-05 - val_loss: 0.0023 - val_mse: 2.0919e-05\n",
      "Epoch 386/400\n",
      "103/103 [==============================] - 20s 197ms/step - loss: 0.0020 - mse: 1.4735e-05 - val_loss: 0.0023 - val_mse: 2.0919e-05\n",
      "Epoch 387/400\n",
      "103/103 [==============================] - 20s 198ms/step - loss: 0.0020 - mse: 1.5266e-05 - val_loss: 0.0025 - val_mse: 2.4089e-05\n",
      "Epoch 388/400\n",
      "103/103 [==============================] - 20s 197ms/step - loss: 0.0021 - mse: 1.7233e-05 - val_loss: 0.0024 - val_mse: 2.1869e-05\n",
      "Epoch 389/400\n",
      "103/103 [==============================] - 20s 197ms/step - loss: 0.0020 - mse: 1.5137e-05 - val_loss: 0.0025 - val_mse: 2.3234e-05\n",
      "Epoch 390/400\n",
      "103/103 [==============================] - 20s 195ms/step - loss: 0.0022 - mse: 1.7989e-05 - val_loss: 0.0024 - val_mse: 2.2681e-05\n",
      "Epoch 391/400\n",
      "103/103 [==============================] - 20s 195ms/step - loss: 0.0020 - mse: 1.5693e-05 - val_loss: 0.0023 - val_mse: 2.1179e-05\n",
      "Epoch 392/400\n",
      "103/103 [==============================] - 20s 194ms/step - loss: 0.0020 - mse: 1.5127e-05 - val_loss: 0.0024 - val_mse: 2.1612e-05\n",
      "Epoch 393/400\n",
      "103/103 [==============================] - 20s 196ms/step - loss: 0.0020 - mse: 1.5512e-05 - val_loss: 0.0023 - val_mse: 2.0620e-05\n",
      "Epoch 394/400\n",
      "103/103 [==============================] - 20s 195ms/step - loss: 0.0020 - mse: 1.7627e-05 - val_loss: 0.0024 - val_mse: 2.1590e-05\n",
      "Epoch 395/400\n",
      "103/103 [==============================] - 20s 197ms/step - loss: 0.0020 - mse: 1.5931e-05 - val_loss: 0.0024 - val_mse: 2.1479e-05\n",
      "Epoch 396/400\n",
      "103/103 [==============================] - 20s 195ms/step - loss: 0.0020 - mse: 1.5295e-05 - val_loss: 0.0023 - val_mse: 2.1525e-05\n",
      "Epoch 397/400\n",
      "103/103 [==============================] - 20s 194ms/step - loss: 0.0020 - mse: 1.5586e-05 - val_loss: 0.0023 - val_mse: 2.1085e-05\n",
      "Epoch 398/400\n",
      "103/103 [==============================] - 20s 196ms/step - loss: 0.0020 - mse: 1.5392e-05 - val_loss: 0.0023 - val_mse: 2.1313e-05\n",
      "Epoch 399/400\n",
      "103/103 [==============================] - 20s 195ms/step - loss: 0.0020 - mse: 1.5123e-05 - val_loss: 0.0023 - val_mse: 2.0558e-05\n",
      "Epoch 400/400\n",
      "103/103 [==============================] - 20s 195ms/step - loss: 0.0020 - mse: 1.5457e-05 - val_loss: 0.0023 - val_mse: 2.1146e-05\n"
     ]
    }
   ],
   "source": [
    "history = model.fit(\n",
    "    trainX,\n",
    "    trainY,\n",
    "    epochs=400,\n",
    "    batch_size=60,\n",
    "    shuffle=True,\n",
    "    validation_data=(testX, testY),\n",
    ")"
   ]
  },
  {
   "cell_type": "code",
   "execution_count": 40,
   "metadata": {},
   "outputs": [
    {
     "name": "stdout",
     "output_type": "stream",
     "text": [
      "Model: \"model\"\n",
      "_________________________________________________________________\n",
      "Layer (type)                 Output Shape              Param #   \n",
      "=================================================================\n",
      "input_1 (InputLayer)         [(None, 2844, 12)]        0         \n",
      "_________________________________________________________________\n",
      "tf.expand_dims (TFOpLambda)  (None, 2844, 12, 1)       0         \n",
      "_________________________________________________________________\n",
      "reshape (Reshape)            (None, 2844, 12)          0         \n",
      "_________________________________________________________________\n",
      "fixed_adjacency_graph_convol (None, 2844, 16)          8091372   \n",
      "_________________________________________________________________\n",
      "fixed_adjacency_graph_convol (None, 2844, 10)          8091340   \n",
      "_________________________________________________________________\n",
      "reshape_1 (Reshape)          (None, 2844, 10, 1)       0         \n",
      "_________________________________________________________________\n",
      "permute (Permute)            (None, 10, 2844, 1)       0         \n",
      "_________________________________________________________________\n",
      "reshape_2 (Reshape)          (None, 10, 2844)          0         \n",
      "_________________________________________________________________\n",
      "lstm (LSTM)                  (None, 10, 200)           2436000   \n",
      "_________________________________________________________________\n",
      "lstm_1 (LSTM)                (None, 200)               320800    \n",
      "_________________________________________________________________\n",
      "dropout (Dropout)            (None, 200)               0         \n",
      "_________________________________________________________________\n",
      "dense (Dense)                (None, 2844)              571644    \n",
      "=================================================================\n",
      "Total params: 19,511,156\n",
      "Trainable params: 3,334,484\n",
      "Non-trainable params: 16,176,672\n",
      "_________________________________________________________________\n"
     ]
    }
   ],
   "source": [
    "model.summary()"
   ]
  },
  {
   "cell_type": "code",
   "execution_count": 41,
   "metadata": {},
   "outputs": [
    {
     "name": "stdout",
     "output_type": "stream",
     "text": [
      "Train loss:  0.00198770291171968 \n",
      "Test loss: 0.0023099237587302923\n"
     ]
    }
   ],
   "source": [
    "print(\n",
    "    \"Train loss: \",\n",
    "    history.history[\"loss\"][-1],\n",
    "    \"\\nTest loss:\",\n",
    "    history.history[\"val_loss\"][-1],\n",
    ")"
   ]
  },
  {
   "cell_type": "code",
   "execution_count": 42,
   "metadata": {},
   "outputs": [
    {
     "data": {
      "image/png": "[encoded data removed]",
      "text/plain": [
       "<Figure size 504x576 with 2 Axes>"
      ]
     },
     "metadata": {
      "needs_background": "light"
     },
     "output_type": "display_data"
    }
   ],
   "source": [
    "sg.utils.plot_history(history)"
   ]
  },
  {
   "cell_type": "code",
   "execution_count": 43,
   "metadata": {},
   "outputs": [],
   "source": [
    "ythat = model.predict(trainX)\n",
    "yhat = model.predict(testX)"
   ]
  },
  {
   "cell_type": "markdown",
   "metadata": {},
   "source": [
    "## Rescale values\n",
    "\n",
    "Rescale the predicted values to the original value range of the timeseries."
   ]
  },
  {
   "cell_type": "code",
   "execution_count": 44,
   "metadata": {},
   "outputs": [],
   "source": [
    "## Rescale values\n",
    "max_speed = train_data.max()\n",
    "min_speed = train_data.min()\n",
    "\n",
    "## actual train and test values\n",
    "train_rescref = np.array(trainY * max_speed)\n",
    "test_rescref = np.array(testY * max_speed)"
   ]
  },
  {
   "cell_type": "code",
   "execution_count": 45,
   "metadata": {},
   "outputs": [],
   "source": [
    "## Rescale model predicted values\n",
    "train_rescpred = np.array((ythat) * max_speed)\n",
    "test_rescpred = np.array((yhat) * max_speed)"
   ]
  },
  {
   "cell_type": "code",
   "execution_count": 46,
   "metadata": {},
   "outputs": [
    {
     "name": "stdout",
     "output_type": "stream",
     "text": [
      "(6121, 2844) (670, 2844)\n"
     ]
    }
   ],
   "source": [
    "print(train_rescpred.shape, test_rescpred.shape)"
   ]
  },
  {
   "cell_type": "markdown",
   "metadata": {},
   "source": [
    "## Measuring the performance of the model"
   ]
  },
  {
   "cell_type": "markdown",
   "metadata": {},
   "source": [
    "### Naive prediction benchmark (using latest observed value)"
   ]
  },
  {
   "cell_type": "code",
   "execution_count": 47,
   "metadata": {},
   "outputs": [],
   "source": [
    "\n",
    "testnpred = np.array(testX)[\n",
    "    :, :, -1\n",
    "]  # picking the last speed of the 10 sequence for each segment in each sample\n",
    "testnpredc = (testnpred) * max_speed"
   ]
  },
  {
   "cell_type": "code",
   "execution_count": 48,
   "metadata": {},
   "outputs": [
    {
     "name": "stdout",
     "output_type": "stream",
     "text": [
      "(670, 2844) (670, 2844)\n"
     ]
    }
   ],
   "source": [
    "print(test_rescref.shape, test_rescpred.shape)"
   ]
  },
  {
   "cell_type": "code",
   "execution_count": 49,
   "metadata": {},
   "outputs": [
    {
     "data": {
      "text/plain": [
       "12"
      ]
     },
     "execution_count": 49,
     "metadata": {},
     "output_type": "execute_result"
    }
   ],
   "source": [
    "testX.shape[-1]"
   ]
  },
  {
   "cell_type": "code",
   "execution_count": 50,
   "metadata": {},
   "outputs": [
    {
     "data": {
      "text/plain": [
       "(2844, 670)"
      ]
     },
     "execution_count": 50,
     "metadata": {},
     "output_type": "execute_result"
    }
   ],
   "source": [
    "test_rescref.T.shape"
   ]
  },
  {
   "cell_type": "code",
   "execution_count": 51,
   "metadata": {},
   "outputs": [
    {
     "data": {
      "text/plain": [
       "(670,)"
      ]
     },
     "execution_count": 51,
     "metadata": {},
     "output_type": "execute_result"
    }
   ],
   "source": [
    "test_rescref.T[0].shape"
   ]
  },
  {
   "cell_type": "code",
   "execution_count": 52,
   "metadata": {},
   "outputs": [
    {
     "data": {
      "text/plain": [
       "(2844, 670)"
      ]
     },
     "execution_count": 52,
     "metadata": {},
     "output_type": "execute_result"
    }
   ],
   "source": [
    "test_rescpred.T.shape"
   ]
  },
  {
   "cell_type": "code",
   "execution_count": 53,
   "metadata": {},
   "outputs": [],
   "source": [
    "test_metrics = []\n",
    "\n",
    "for j in range(testX.shape[-2]):\n",
    "    gnn_mae_ = mean_absolute_error(test_rescref.T[j], test_rescpred.T[j])\n",
    "    gnn_mse_ = mean_squared_error(test_rescref.T[j], test_rescpred.T[j])\n",
    "    gnn_rmse_ = mean_squared_error(test_rescref.T[j], test_rescpred.T[j], squared = False)\n",
    "    \n",
    "    naive_mae_ = mean_absolute_error(test_rescref.T[j], testnpredc.T[j])\n",
    "    naive_mse_ = mean_squared_error(test_rescref.T[j], testnpredc.T[j])\n",
    "    naive_rmse_ = mean_squared_error(test_rescref.T[j], testnpredc.T[j], squared = False) \n",
    "    \n",
    "    test_metrics.append((trips_data.iloc[j].name, gnn_mae_, gnn_mse_, gnn_rmse_, naive_mae_, naive_mse_, naive_rmse_))\n"
   ]
  },
  {
   "cell_type": "code",
   "execution_count": 54,
   "metadata": {},
   "outputs": [],
   "source": [
    "test_metrics_df = pd.DataFrame.from_records(test_metrics, \n",
    "                                            columns='area_id gnn-MAE gnn-MSE gnn-RMSE naive-MAE naive-MSE naive-RMSE'.split())"
   ]
  },
  {
   "cell_type": "code",
   "execution_count": 55,
   "metadata": {},
   "outputs": [
    {
     "data": {
      "text/html": [
       "<div>\n",
       "<style scoped>\n",
       "    .dataframe tbody tr th:only-of-type {\n",
       "        vertical-align: middle;\n",
       "    }\n",
       "\n",
       "    .dataframe tbody tr th {\n",
       "        vertical-align: top;\n",
       "    }\n",
       "\n",
       "    .dataframe thead th {\n",
       "        text-align: right;\n",
       "    }\n",
       "</style>\n",
       "<table border=\"1\" class=\"dataframe\">\n",
       "  <thead>\n",
       "    <tr style=\"text-align: right;\">\n",
       "      <th></th>\n",
       "      <th>area_id</th>\n",
       "      <th>gnn-MAE</th>\n",
       "      <th>gnn-MSE</th>\n",
       "      <th>gnn-RMSE</th>\n",
       "      <th>naive-MAE</th>\n",
       "      <th>naive-MSE</th>\n",
       "      <th>naive-RMSE</th>\n",
       "    </tr>\n",
       "  </thead>\n",
       "  <tbody>\n",
       "    <tr>\n",
       "      <th>0</th>\n",
       "      <td>01001_AM</td>\n",
       "      <td>97.028504</td>\n",
       "      <td>18698.806028</td>\n",
       "      <td>136.743578</td>\n",
       "      <td>156.029249</td>\n",
       "      <td>45910.420469</td>\n",
       "      <td>214.267171</td>\n",
       "    </tr>\n",
       "    <tr>\n",
       "      <th>1</th>\n",
       "      <td>01002</td>\n",
       "      <td>77.622980</td>\n",
       "      <td>10563.873059</td>\n",
       "      <td>102.780704</td>\n",
       "      <td>119.004543</td>\n",
       "      <td>24503.809545</td>\n",
       "      <td>156.536927</td>\n",
       "    </tr>\n",
       "    <tr>\n",
       "      <th>2</th>\n",
       "      <td>01010_AM</td>\n",
       "      <td>66.552801</td>\n",
       "      <td>8167.135691</td>\n",
       "      <td>90.372206</td>\n",
       "      <td>99.341722</td>\n",
       "      <td>18573.031657</td>\n",
       "      <td>136.282910</td>\n",
       "    </tr>\n",
       "    <tr>\n",
       "      <th>3</th>\n",
       "      <td>01031_AM</td>\n",
       "      <td>112.686855</td>\n",
       "      <td>23646.023189</td>\n",
       "      <td>153.772635</td>\n",
       "      <td>111.199473</td>\n",
       "      <td>22496.806037</td>\n",
       "      <td>149.989353</td>\n",
       "    </tr>\n",
       "    <tr>\n",
       "      <th>4</th>\n",
       "      <td>01036</td>\n",
       "      <td>112.154167</td>\n",
       "      <td>21547.425136</td>\n",
       "      <td>146.790412</td>\n",
       "      <td>146.149875</td>\n",
       "      <td>39890.098894</td>\n",
       "      <td>199.725058</td>\n",
       "    </tr>\n",
       "  </tbody>\n",
       "</table>\n",
       "</div>"
      ],
      "text/plain": [
       "    area_id     gnn-MAE       gnn-MSE    gnn-RMSE   naive-MAE     naive-MSE  \\\n",
       "0  01001_AM   97.028504  18698.806028  136.743578  156.029249  45910.420469   \n",
       "1     01002   77.622980  10563.873059  102.780704  119.004543  24503.809545   \n",
       "2  01010_AM   66.552801   8167.135691   90.372206   99.341722  18573.031657   \n",
       "3  01031_AM  112.686855  23646.023189  153.772635  111.199473  22496.806037   \n",
       "4     01036  112.154167  21547.425136  146.790412  146.149875  39890.098894   \n",
       "\n",
       "   naive-RMSE  \n",
       "0  214.267171  \n",
       "1  156.536927  \n",
       "2  136.282910  \n",
       "3  149.989353  \n",
       "4  199.725058  "
      ]
     },
     "execution_count": 55,
     "metadata": {},
     "output_type": "execute_result"
    }
   ],
   "source": [
    "test_metrics_df.head()"
   ]
  },
  {
   "cell_type": "code",
   "execution_count": 56,
   "metadata": {},
   "outputs": [
    {
     "data": {
      "text/plain": [
       "(2844, 7)"
      ]
     },
     "execution_count": 56,
     "metadata": {},
     "output_type": "execute_result"
    }
   ],
   "source": [
    "test_metrics_df.shape"
   ]
  },
  {
   "cell_type": "code",
   "execution_count": 57,
   "metadata": {},
   "outputs": [],
   "source": [
    "test_metrics_df.to_csv(os.path.join('data', 'gnn_naive_test_metrics_{}.csv'.format(matrix_type)))"
   ]
  },
  {
   "cell_type": "code",
   "execution_count": 58,
   "metadata": {},
   "outputs": [
    {
     "name": "stdout",
     "output_type": "stream",
     "text": [
      "Total (ave) MAE for NN: 139.65429948830675\n",
      "Total (ave) MAE for naive prediction: 240.0559539800995\n",
      "Total (ave) MASE for per-segment NN/naive MAE: 0.6854885348666154\n",
      "...note that MASE<1 (for a given segment) means that the NN prediction is better than the naive prediction.\n"
     ]
    }
   ],
   "source": [
    "## Performance measures\n",
    "\n",
    "seg_mael = []\n",
    "seg_masel = []\n",
    "seg_nmael = []\n",
    "\n",
    "for j in range(testX.shape[-1]):\n",
    "\n",
    "    seg_mael.append(\n",
    "        np.mean(np.abs(test_rescref.T[j] - test_rescpred.T[j]))\n",
    "    )  # Mean Absolute Error for NN\n",
    "    seg_nmael.append(\n",
    "        np.mean(np.abs(test_rescref.T[j] - testnpredc.T[j]))\n",
    "    )  # Mean Absolute Error for naive prediction\n",
    "    if seg_nmael[-1] != 0:\n",
    "        seg_masel.append(\n",
    "            seg_mael[-1] / seg_nmael[-1]\n",
    "        )  # Ratio of the two: Mean Absolute Scaled Error\n",
    "    else:\n",
    "        seg_masel.append(np.NaN)\n",
    "\n",
    "print(\"Total (ave) MAE for NN: \" + str(np.mean(np.array(seg_mael))))\n",
    "print(\"Total (ave) MAE for naive prediction: \" + str(np.mean(np.array(seg_nmael))))\n",
    "print(\n",
    "    \"Total (ave) MASE for per-segment NN/naive MAE: \"\n",
    "    + str(np.nanmean(np.array(seg_masel)))\n",
    ")\n",
    "print(\n",
    "    \"...note that MASE<1 (for a given segment) means that the NN prediction is better than the naive prediction.\"\n",
    ")"
   ]
  },
  {
   "cell_type": "code",
   "execution_count": 59,
   "metadata": {},
   "outputs": [
    {
     "data": {
      "image/png": "[encoded data removed]",
      "text/plain": [
       "<Figure size 432x288 with 1 Axes>"
      ]
     },
     "metadata": {
      "needs_background": "light"
     },
     "output_type": "display_data"
    }
   ],
   "source": [
    "# plot violin plot of MAE for naive and NN predictions\n",
    "fig, ax = plt.subplots()\n",
    "# xl = minsl\n",
    "\n",
    "ax.violinplot(\n",
    "    list(seg_mael), showmeans=True, showmedians=False, showextrema=False, widths=1.0\n",
    ")\n",
    "\n",
    "ax.violinplot(\n",
    "    list(seg_nmael), showmeans=True, showmedians=False, showextrema=False, widths=1.0\n",
    ")\n",
    "\n",
    "line1 = mlines.Line2D([], [], label=\"NN\")\n",
    "line2 = mlines.Line2D([], [], color=\"C1\", label=\"Instantaneous\")\n",
    "\n",
    "ax.set_xlabel(\"Scaled distribution amplitude (after Gaussian convolution)\")\n",
    "ax.set_ylabel(\"Mean Absolute Error\")\n",
    "ax.set_title(\"Distribution over segments: NN pred (blue) and naive pred (orange)\")\n",
    "plt.legend(handles=(line1, line2), title=\"Prediction Model\", loc=2)\n",
    "plt.show()"
   ]
  },
  {
   "cell_type": "markdown",
   "metadata": {},
   "source": [
    "#### Plot of actual and predicted outgoing trips on a sample MA"
   ]
  },
  {
   "cell_type": "code",
   "execution_count": 60,
   "metadata": {},
   "outputs": [
    {
     "data": {
      "image/png": "[encoded data removed]",
      "text/plain": [
       "<Figure size 1080x576 with 1 Axes>"
      ]
     },
     "metadata": {
      "needs_background": "light"
     },
     "output_type": "display_data"
    }
   ],
   "source": [
    "##all test result visualization\n",
    "fig1 = plt.figure(figsize=(15, 8))\n",
    "#    ax1 = fig1.add_subplot(1,1,1)\n",
    "a_pred = test_rescpred[:, 20]\n",
    "a_true = test_rescref[:, 20]\n",
    "plt.plot(a_pred, \"r-\", label=\"prediction\")\n",
    "plt.plot(a_true, \"b-\", label=\"true\")\n",
    "plt.xlabel(\"time\")\n",
    "plt.ylabel(\"Num.of trips\")\n",
    "plt.legend(loc=\"best\", fontsize=10)\n",
    "plt.show()"
   ]
  },
  {
   "cell_type": "markdown",
   "metadata": {},
   "source": [
    "#### Plot of actual and predicted outgoing trips from Spain"
   ]
  },
  {
   "cell_type": "code",
   "execution_count": 61,
   "metadata": {},
   "outputs": [],
   "source": [
    "test_rescpred_df =pd.DataFrame(test_rescpred).T\n",
    "test_rescref_df =pd.DataFrame(test_rescref).T"
   ]
  },
  {
   "cell_type": "code",
   "execution_count": 62,
   "metadata": {},
   "outputs": [],
   "source": [
    "test_rescpred_df.loc['total']= test_rescpred_df.sum(axis=0)\n",
    "test_rescref_df.loc['total']= test_rescref_df.sum(axis=0)"
   ]
  },
  {
   "cell_type": "code",
   "execution_count": 63,
   "metadata": {},
   "outputs": [
    {
     "data": {
      "text/html": [
       "<div>\n",
       "<style scoped>\n",
       "    .dataframe tbody tr th:only-of-type {\n",
       "        vertical-align: middle;\n",
       "    }\n",
       "\n",
       "    .dataframe tbody tr th {\n",
       "        vertical-align: top;\n",
       "    }\n",
       "\n",
       "    .dataframe thead th {\n",
       "        text-align: right;\n",
       "    }\n",
       "</style>\n",
       "<table border=\"1\" class=\"dataframe\">\n",
       "  <thead>\n",
       "    <tr style=\"text-align: right;\">\n",
       "      <th></th>\n",
       "      <th>0</th>\n",
       "      <th>1</th>\n",
       "      <th>2</th>\n",
       "      <th>3</th>\n",
       "      <th>4</th>\n",
       "      <th>5</th>\n",
       "      <th>6</th>\n",
       "      <th>7</th>\n",
       "      <th>8</th>\n",
       "      <th>9</th>\n",
       "      <th>...</th>\n",
       "      <th>660</th>\n",
       "      <th>661</th>\n",
       "      <th>662</th>\n",
       "      <th>663</th>\n",
       "      <th>664</th>\n",
       "      <th>665</th>\n",
       "      <th>666</th>\n",
       "      <th>667</th>\n",
       "      <th>668</th>\n",
       "      <th>669</th>\n",
       "    </tr>\n",
       "  </thead>\n",
       "  <tbody>\n",
       "    <tr>\n",
       "      <th>2842</th>\n",
       "      <td>3.393614e+00</td>\n",
       "      <td>5.227687e+00</td>\n",
       "      <td>2.100592e+01</td>\n",
       "      <td>5.840582e+01</td>\n",
       "      <td>9.562261e+01</td>\n",
       "      <td>1.016797e+02</td>\n",
       "      <td>9.768353e+01</td>\n",
       "      <td>1.351947e+02</td>\n",
       "      <td>1.479498e+02</td>\n",
       "      <td>1.469786e+02</td>\n",
       "      <td>...</td>\n",
       "      <td>8.065044e+01</td>\n",
       "      <td>1.309778e+02</td>\n",
       "      <td>1.490467e+02</td>\n",
       "      <td>1.497020e+02</td>\n",
       "      <td>1.017784e+02</td>\n",
       "      <td>6.589909e+01</td>\n",
       "      <td>3.075398e+01</td>\n",
       "      <td>1.911016e+01</td>\n",
       "      <td>1.245527e+01</td>\n",
       "      <td>2.391516e+00</td>\n",
       "    </tr>\n",
       "    <tr>\n",
       "      <th>2843</th>\n",
       "      <td>1.642350e-08</td>\n",
       "      <td>4.790803e-08</td>\n",
       "      <td>2.985816e-06</td>\n",
       "      <td>2.231154e-04</td>\n",
       "      <td>2.774638e-02</td>\n",
       "      <td>1.687714e+00</td>\n",
       "      <td>4.067307e+00</td>\n",
       "      <td>8.487820e+00</td>\n",
       "      <td>9.257971e+00</td>\n",
       "      <td>1.208365e+01</td>\n",
       "      <td>...</td>\n",
       "      <td>2.537534e+00</td>\n",
       "      <td>9.735500e+00</td>\n",
       "      <td>1.189336e+01</td>\n",
       "      <td>1.034408e+01</td>\n",
       "      <td>6.258662e+00</td>\n",
       "      <td>3.463119e+00</td>\n",
       "      <td>5.006306e-01</td>\n",
       "      <td>6.597226e-02</td>\n",
       "      <td>3.914164e-03</td>\n",
       "      <td>1.101110e-05</td>\n",
       "    </tr>\n",
       "    <tr>\n",
       "      <th>total</th>\n",
       "      <td>7.801235e+05</td>\n",
       "      <td>9.067448e+05</td>\n",
       "      <td>1.290275e+06</td>\n",
       "      <td>1.873736e+06</td>\n",
       "      <td>3.070585e+06</td>\n",
       "      <td>4.703642e+06</td>\n",
       "      <td>4.903812e+06</td>\n",
       "      <td>4.356148e+06</td>\n",
       "      <td>4.076291e+06</td>\n",
       "      <td>4.266393e+06</td>\n",
       "      <td>...</td>\n",
       "      <td>5.660836e+06</td>\n",
       "      <td>5.002108e+06</td>\n",
       "      <td>4.619662e+06</td>\n",
       "      <td>4.906812e+06</td>\n",
       "      <td>5.141929e+06</td>\n",
       "      <td>4.787308e+06</td>\n",
       "      <td>3.750224e+06</td>\n",
       "      <td>3.026360e+06</td>\n",
       "      <td>2.268822e+06</td>\n",
       "      <td>1.446574e+06</td>\n",
       "    </tr>\n",
       "  </tbody>\n",
       "</table>\n",
       "<p>3 rows × 670 columns</p>\n",
       "</div>"
      ],
      "text/plain": [
       "                0             1             2             3             4    \\\n",
       "2842   3.393614e+00  5.227687e+00  2.100592e+01  5.840582e+01  9.562261e+01   \n",
       "2843   1.642350e-08  4.790803e-08  2.985816e-06  2.231154e-04  2.774638e-02   \n",
       "total  7.801235e+05  9.067448e+05  1.290275e+06  1.873736e+06  3.070585e+06   \n",
       "\n",
       "                5             6             7             8             9    \\\n",
       "2842   1.016797e+02  9.768353e+01  1.351947e+02  1.479498e+02  1.469786e+02   \n",
       "2843   1.687714e+00  4.067307e+00  8.487820e+00  9.257971e+00  1.208365e+01   \n",
       "total  4.703642e+06  4.903812e+06  4.356148e+06  4.076291e+06  4.266393e+06   \n",
       "\n",
       "       ...           660           661           662           663  \\\n",
       "2842   ...  8.065044e+01  1.309778e+02  1.490467e+02  1.497020e+02   \n",
       "2843   ...  2.537534e+00  9.735500e+00  1.189336e+01  1.034408e+01   \n",
       "total  ...  5.660836e+06  5.002108e+06  4.619662e+06  4.906812e+06   \n",
       "\n",
       "                664           665           666           667           668  \\\n",
       "2842   1.017784e+02  6.589909e+01  3.075398e+01  1.911016e+01  1.245527e+01   \n",
       "2843   6.258662e+00  3.463119e+00  5.006306e-01  6.597226e-02  3.914164e-03   \n",
       "total  5.141929e+06  4.787308e+06  3.750224e+06  3.026360e+06  2.268822e+06   \n",
       "\n",
       "                669  \n",
       "2842   2.391516e+00  \n",
       "2843   1.101110e-05  \n",
       "total  1.446574e+06  \n",
       "\n",
       "[3 rows x 670 columns]"
      ]
     },
     "execution_count": 63,
     "metadata": {},
     "output_type": "execute_result"
    }
   ],
   "source": [
    "test_rescpred_df.tail(3)"
   ]
  },
  {
   "cell_type": "code",
   "execution_count": 64,
   "metadata": {},
   "outputs": [
    {
     "data": {
      "text/html": [
       "<div>\n",
       "<style scoped>\n",
       "    .dataframe tbody tr th:only-of-type {\n",
       "        vertical-align: middle;\n",
       "    }\n",
       "\n",
       "    .dataframe tbody tr th {\n",
       "        vertical-align: top;\n",
       "    }\n",
       "\n",
       "    .dataframe thead th {\n",
       "        text-align: right;\n",
       "    }\n",
       "</style>\n",
       "<table border=\"1\" class=\"dataframe\">\n",
       "  <thead>\n",
       "    <tr style=\"text-align: right;\">\n",
       "      <th></th>\n",
       "      <th>0</th>\n",
       "      <th>1</th>\n",
       "      <th>2</th>\n",
       "      <th>3</th>\n",
       "      <th>4</th>\n",
       "      <th>5</th>\n",
       "      <th>6</th>\n",
       "      <th>7</th>\n",
       "      <th>8</th>\n",
       "      <th>9</th>\n",
       "      <th>...</th>\n",
       "      <th>660</th>\n",
       "      <th>661</th>\n",
       "      <th>662</th>\n",
       "      <th>663</th>\n",
       "      <th>664</th>\n",
       "      <th>665</th>\n",
       "      <th>666</th>\n",
       "      <th>667</th>\n",
       "      <th>668</th>\n",
       "      <th>669</th>\n",
       "    </tr>\n",
       "  </thead>\n",
       "  <tbody>\n",
       "    <tr>\n",
       "      <th>2842</th>\n",
       "      <td>0.000</td>\n",
       "      <td>13.482</td>\n",
       "      <td>78.649</td>\n",
       "      <td>117.685</td>\n",
       "      <td>164.973</td>\n",
       "      <td>149.283</td>\n",
       "      <td>271.321</td>\n",
       "      <td>145.313</td>\n",
       "      <td>40.938</td>\n",
       "      <td>199.951</td>\n",
       "      <td>...</td>\n",
       "      <td>280.769</td>\n",
       "      <td>263.079</td>\n",
       "      <td>312.210</td>\n",
       "      <td>233.029</td>\n",
       "      <td>58.550</td>\n",
       "      <td>178.702</td>\n",
       "      <td>64.342</td>\n",
       "      <td>9.760</td>\n",
       "      <td>11.840</td>\n",
       "      <td>0.000</td>\n",
       "    </tr>\n",
       "    <tr>\n",
       "      <th>2843</th>\n",
       "      <td>0.000</td>\n",
       "      <td>0.000</td>\n",
       "      <td>0.000</td>\n",
       "      <td>0.000</td>\n",
       "      <td>0.000</td>\n",
       "      <td>0.000</td>\n",
       "      <td>0.000</td>\n",
       "      <td>0.000</td>\n",
       "      <td>0.000</td>\n",
       "      <td>0.000</td>\n",
       "      <td>...</td>\n",
       "      <td>0.000</td>\n",
       "      <td>0.000</td>\n",
       "      <td>0.000</td>\n",
       "      <td>0.000</td>\n",
       "      <td>0.000</td>\n",
       "      <td>0.000</td>\n",
       "      <td>0.000</td>\n",
       "      <td>0.000</td>\n",
       "      <td>0.000</td>\n",
       "      <td>0.000</td>\n",
       "    </tr>\n",
       "    <tr>\n",
       "      <th>total</th>\n",
       "      <td>797509.599</td>\n",
       "      <td>868282.061</td>\n",
       "      <td>1225825.058</td>\n",
       "      <td>2065455.666</td>\n",
       "      <td>3159665.704</td>\n",
       "      <td>4794189.252</td>\n",
       "      <td>4950684.439</td>\n",
       "      <td>4370690.021</td>\n",
       "      <td>4124186.980</td>\n",
       "      <td>4294147.600</td>\n",
       "      <td>...</td>\n",
       "      <td>5832511.146</td>\n",
       "      <td>5060517.688</td>\n",
       "      <td>4719101.508</td>\n",
       "      <td>4925188.213</td>\n",
       "      <td>4992998.135</td>\n",
       "      <td>4451594.013</td>\n",
       "      <td>3834109.629</td>\n",
       "      <td>3071823.504</td>\n",
       "      <td>2149818.919</td>\n",
       "      <td>1210790.486</td>\n",
       "    </tr>\n",
       "  </tbody>\n",
       "</table>\n",
       "<p>3 rows × 670 columns</p>\n",
       "</div>"
      ],
      "text/plain": [
       "              0           1            2            3            4    \\\n",
       "2842        0.000      13.482       78.649      117.685      164.973   \n",
       "2843        0.000       0.000        0.000        0.000        0.000   \n",
       "total  797509.599  868282.061  1225825.058  2065455.666  3159665.704   \n",
       "\n",
       "               5            6            7            8            9    ...  \\\n",
       "2842       149.283      271.321      145.313       40.938      199.951  ...   \n",
       "2843         0.000        0.000        0.000        0.000        0.000  ...   \n",
       "total  4794189.252  4950684.439  4370690.021  4124186.980  4294147.600  ...   \n",
       "\n",
       "               660          661          662          663          664  \\\n",
       "2842       280.769      263.079      312.210      233.029       58.550   \n",
       "2843         0.000        0.000        0.000        0.000        0.000   \n",
       "total  5832511.146  5060517.688  4719101.508  4925188.213  4992998.135   \n",
       "\n",
       "               665          666          667          668          669  \n",
       "2842       178.702       64.342        9.760       11.840        0.000  \n",
       "2843         0.000        0.000        0.000        0.000        0.000  \n",
       "total  4451594.013  3834109.629  3071823.504  2149818.919  1210790.486  \n",
       "\n",
       "[3 rows x 670 columns]"
      ]
     },
     "execution_count": 64,
     "metadata": {},
     "output_type": "execute_result"
    }
   ],
   "source": [
    "test_rescref_df.tail(3)"
   ]
  },
  {
   "cell_type": "code",
   "execution_count": 67,
   "metadata": {},
   "outputs": [
    {
     "data": {
      "image/png": "[encoded data removed]",
      "text/plain": [
       "<Figure size 1440x360 with 1 Axes>"
      ]
     },
     "metadata": {
      "needs_background": "light"
     },
     "output_type": "display_data"
    }
   ],
   "source": [
    "ax=test_rescpred_df.loc['total'].plot(figsize=(20,5), label='Predicted')\n",
    "test_rescref_df.loc['total'].plot(ax=ax, grid=True, label='Reference')\n",
    "ax.set_ylabel('Number of trips')\n",
    "ax.set_xlabel('Time (h)')\n",
    "ax.xaxis.label.set_size(20)\n",
    "ax.yaxis.label.set_size(20)\n",
    "ax.legend(loc='lower left');\n",
    "plt.savefig(os.path.join('figs','true_vs_predicted_global.png'))"
   ]
  },
  {
   "cell_type": "code",
   "execution_count": 66,
   "metadata": {
    "nbsphinx": "hidden",
    "tags": [
     "CloudRunner"
    ]
   },
   "outputs": [
    {
     "name": "stdout",
     "output_type": "stream",
     "text": [
      "That's all folks\n"
     ]
    }
   ],
   "source": [
    "print(\"That's all folks\")"
   ]
  }
 ],
 "metadata": {
  "kernelspec": {
   "display_name": "Python 3",
   "language": "python",
   "name": "python3"
  },
  "language_info": {
   "codemirror_mode": {
    "name": "ipython",
    "version": 3
   },
   "file_extension": ".py",
   "mimetype": "text/x-python",
   "name": "python",
   "nbconvert_exporter": "python",
   "pygments_lexer": "ipython3",
   "version": "3.6.5"
  }
 },
 "nbformat": 4,
 "nbformat_minor": 4
}
