{
 "cells": [
  {
   "cell_type": "markdown",
   "metadata": {},
   "source": [
    "# Forecasting using spatio-temporal and weather with combined Graph Convolution + LSTM model (multivariate approach)"
   ]
  },
  {
   "cell_type": "code",
   "execution_count": 1,
   "metadata": {},
   "outputs": [
    {
     "name": "stderr",
     "output_type": "stream",
     "text": [
      "/home/fterroso/python/lib/python3.6/site-packages/geopandas/_compat.py:88: UserWarning: The Shapely GEOS version (3.8.0-CAPI-1.13.1 ) is incompatible with the GEOS version PyGEOS was compiled with (3.8.1-CAPI-1.13.3). Conversions between both will be slow.\n",
      "  shapely_geos_version, geos_capi_version_string\n"
     ]
    }
   ],
   "source": [
    "import os\n",
    "import sys\n",
    "\n",
    "import pandas as pd\n",
    "import geopandas as gpd\n",
    "\n",
    "import numpy as np\n",
    "import matplotlib.pyplot as plt\n",
    "import matplotlib.lines as mlines\n",
    "\n",
    "from sklearn.metrics import mean_absolute_error\n",
    "from sklearn.metrics import mean_squared_error\n",
    "\n",
    "from libpysal.weights import Queen\n",
    "\n",
    "import tensorflow as tf\n",
    "from tensorflow import keras\n",
    "from tensorflow.keras import Sequential, Model\n",
    "from tensorflow.keras.layers import LSTM, Dense, Dropout, Input\n",
    "from tensorflow.keras.callbacks import EarlyStopping\n",
    "\n",
    "\n",
    "import stellargraph_ad_hoc as sg"
   ]
  },
  {
   "cell_type": "code",
   "execution_count": 2,
   "metadata": {},
   "outputs": [],
   "source": [
    "from numpy.random import seed\n",
    "seed(1)"
   ]
  },
  {
   "cell_type": "code",
   "execution_count": 3,
   "metadata": {},
   "outputs": [],
   "source": [
    "data_path = os.path.join('/','home','fterroso','data','Spain-INE-mobility-study-2020')"
   ]
  },
  {
   "cell_type": "markdown",
   "metadata": {},
   "source": [
    "## Loading and preprocessing the data"
   ]
  },
  {
   "cell_type": "markdown",
   "metadata": {},
   "source": [
    "### Trips data"
   ]
  },
  {
   "cell_type": "code",
   "execution_count": 4,
   "metadata": {},
   "outputs": [],
   "source": [
    "trips_data = pd.read_csv(os.path.join('data','trips_time_series_all_inter.csv'),index_col=0)\n",
    "trips_data= trips_data.fillna(0)"
   ]
  },
  {
   "cell_type": "code",
   "execution_count": 5,
   "metadata": {},
   "outputs": [
    {
     "data": {
      "text/plain": [
       "(2844, 6815)"
      ]
     },
     "execution_count": 5,
     "metadata": {},
     "output_type": "execute_result"
    }
   ],
   "source": [
    "trips_data.shape"
   ]
  },
  {
   "cell_type": "code",
   "execution_count": 6,
   "metadata": {},
   "outputs": [],
   "source": [
    "target_areas = trips_data.index.tolist()"
   ]
  },
  {
   "cell_type": "code",
   "execution_count": 7,
   "metadata": {},
   "outputs": [
    {
     "data": {
      "text/html": [
       "<div>\n",
       "<style scoped>\n",
       "    .dataframe tbody tr th:only-of-type {\n",
       "        vertical-align: middle;\n",
       "    }\n",
       "\n",
       "    .dataframe tbody tr th {\n",
       "        vertical-align: top;\n",
       "    }\n",
       "\n",
       "    .dataframe thead th {\n",
       "        text-align: right;\n",
       "    }\n",
       "</style>\n",
       "<table border=\"1\" class=\"dataframe\">\n",
       "  <thead>\n",
       "    <tr style=\"text-align: right;\">\n",
       "      <th></th>\n",
       "      <th>20200221_00</th>\n",
       "      <th>20200221_01</th>\n",
       "      <th>20200221_02</th>\n",
       "      <th>20200221_03</th>\n",
       "      <th>20200221_04</th>\n",
       "      <th>20200221_05</th>\n",
       "      <th>20200221_06</th>\n",
       "      <th>20200221_07</th>\n",
       "      <th>20200221_08</th>\n",
       "      <th>20200221_09</th>\n",
       "      <th>...</th>\n",
       "      <th>20201130_14</th>\n",
       "      <th>20201130_15</th>\n",
       "      <th>20201130_16</th>\n",
       "      <th>20201130_17</th>\n",
       "      <th>20201130_18</th>\n",
       "      <th>20201130_19</th>\n",
       "      <th>20201130_20</th>\n",
       "      <th>20201130_21</th>\n",
       "      <th>20201130_22</th>\n",
       "      <th>20201130_23</th>\n",
       "    </tr>\n",
       "  </thead>\n",
       "  <tbody>\n",
       "    <tr>\n",
       "      <th>01001_AM</th>\n",
       "      <td>291.654</td>\n",
       "      <td>129.650</td>\n",
       "      <td>123.822</td>\n",
       "      <td>280.810</td>\n",
       "      <td>282.418</td>\n",
       "      <td>518.179</td>\n",
       "      <td>736.074</td>\n",
       "      <td>1253.000</td>\n",
       "      <td>981.544</td>\n",
       "      <td>893.510</td>\n",
       "      <td>...</td>\n",
       "      <td>1307.238</td>\n",
       "      <td>1026.083</td>\n",
       "      <td>1073.847</td>\n",
       "      <td>1147.206</td>\n",
       "      <td>650.740</td>\n",
       "      <td>648.024</td>\n",
       "      <td>563.314</td>\n",
       "      <td>735.201</td>\n",
       "      <td>258.461</td>\n",
       "      <td>230.591</td>\n",
       "    </tr>\n",
       "    <tr>\n",
       "      <th>01002</th>\n",
       "      <td>192.529</td>\n",
       "      <td>149.992</td>\n",
       "      <td>50.547</td>\n",
       "      <td>73.097</td>\n",
       "      <td>208.114</td>\n",
       "      <td>616.786</td>\n",
       "      <td>732.075</td>\n",
       "      <td>779.587</td>\n",
       "      <td>638.112</td>\n",
       "      <td>734.767</td>\n",
       "      <td>...</td>\n",
       "      <td>701.593</td>\n",
       "      <td>598.760</td>\n",
       "      <td>615.822</td>\n",
       "      <td>826.882</td>\n",
       "      <td>580.843</td>\n",
       "      <td>378.512</td>\n",
       "      <td>381.695</td>\n",
       "      <td>407.566</td>\n",
       "      <td>124.729</td>\n",
       "      <td>106.744</td>\n",
       "    </tr>\n",
       "    <tr>\n",
       "      <th>01010_AM</th>\n",
       "      <td>92.726</td>\n",
       "      <td>50.822</td>\n",
       "      <td>37.895</td>\n",
       "      <td>19.586</td>\n",
       "      <td>91.560</td>\n",
       "      <td>396.531</td>\n",
       "      <td>457.180</td>\n",
       "      <td>591.326</td>\n",
       "      <td>516.919</td>\n",
       "      <td>471.008</td>\n",
       "      <td>...</td>\n",
       "      <td>495.460</td>\n",
       "      <td>610.121</td>\n",
       "      <td>559.796</td>\n",
       "      <td>476.880</td>\n",
       "      <td>354.807</td>\n",
       "      <td>215.711</td>\n",
       "      <td>216.593</td>\n",
       "      <td>277.574</td>\n",
       "      <td>119.830</td>\n",
       "      <td>52.331</td>\n",
       "    </tr>\n",
       "    <tr>\n",
       "      <th>01031_AM</th>\n",
       "      <td>97.674</td>\n",
       "      <td>64.901</td>\n",
       "      <td>92.150</td>\n",
       "      <td>62.669</td>\n",
       "      <td>109.056</td>\n",
       "      <td>208.462</td>\n",
       "      <td>469.924</td>\n",
       "      <td>691.565</td>\n",
       "      <td>645.793</td>\n",
       "      <td>789.906</td>\n",
       "      <td>...</td>\n",
       "      <td>1085.613</td>\n",
       "      <td>628.526</td>\n",
       "      <td>682.578</td>\n",
       "      <td>582.456</td>\n",
       "      <td>603.958</td>\n",
       "      <td>344.157</td>\n",
       "      <td>286.541</td>\n",
       "      <td>269.655</td>\n",
       "      <td>159.443</td>\n",
       "      <td>118.029</td>\n",
       "    </tr>\n",
       "    <tr>\n",
       "      <th>01036</th>\n",
       "      <td>173.565</td>\n",
       "      <td>118.227</td>\n",
       "      <td>204.784</td>\n",
       "      <td>219.318</td>\n",
       "      <td>409.485</td>\n",
       "      <td>779.103</td>\n",
       "      <td>1091.613</td>\n",
       "      <td>969.506</td>\n",
       "      <td>845.084</td>\n",
       "      <td>875.701</td>\n",
       "      <td>...</td>\n",
       "      <td>1070.542</td>\n",
       "      <td>815.612</td>\n",
       "      <td>681.116</td>\n",
       "      <td>746.917</td>\n",
       "      <td>704.784</td>\n",
       "      <td>413.711</td>\n",
       "      <td>441.988</td>\n",
       "      <td>575.437</td>\n",
       "      <td>319.760</td>\n",
       "      <td>68.968</td>\n",
       "    </tr>\n",
       "  </tbody>\n",
       "</table>\n",
       "<p>5 rows × 6815 columns</p>\n",
       "</div>"
      ],
      "text/plain": [
       "          20200221_00  20200221_01  20200221_02  20200221_03  20200221_04  \\\n",
       "01001_AM      291.654      129.650      123.822      280.810      282.418   \n",
       "01002         192.529      149.992       50.547       73.097      208.114   \n",
       "01010_AM       92.726       50.822       37.895       19.586       91.560   \n",
       "01031_AM       97.674       64.901       92.150       62.669      109.056   \n",
       "01036         173.565      118.227      204.784      219.318      409.485   \n",
       "\n",
       "          20200221_05  20200221_06  20200221_07  20200221_08  20200221_09  \\\n",
       "01001_AM      518.179      736.074     1253.000      981.544      893.510   \n",
       "01002         616.786      732.075      779.587      638.112      734.767   \n",
       "01010_AM      396.531      457.180      591.326      516.919      471.008   \n",
       "01031_AM      208.462      469.924      691.565      645.793      789.906   \n",
       "01036         779.103     1091.613      969.506      845.084      875.701   \n",
       "\n",
       "          ...  20201130_14  20201130_15  20201130_16  20201130_17  \\\n",
       "01001_AM  ...     1307.238     1026.083     1073.847     1147.206   \n",
       "01002     ...      701.593      598.760      615.822      826.882   \n",
       "01010_AM  ...      495.460      610.121      559.796      476.880   \n",
       "01031_AM  ...     1085.613      628.526      682.578      582.456   \n",
       "01036     ...     1070.542      815.612      681.116      746.917   \n",
       "\n",
       "          20201130_18  20201130_19  20201130_20  20201130_21  20201130_22  \\\n",
       "01001_AM      650.740      648.024      563.314      735.201      258.461   \n",
       "01002         580.843      378.512      381.695      407.566      124.729   \n",
       "01010_AM      354.807      215.711      216.593      277.574      119.830   \n",
       "01031_AM      603.958      344.157      286.541      269.655      159.443   \n",
       "01036         704.784      413.711      441.988      575.437      319.760   \n",
       "\n",
       "          20201130_23  \n",
       "01001_AM      230.591  \n",
       "01002         106.744  \n",
       "01010_AM       52.331  \n",
       "01031_AM      118.029  \n",
       "01036          68.968  \n",
       "\n",
       "[5 rows x 6815 columns]"
      ]
     },
     "execution_count": 7,
     "metadata": {},
     "output_type": "execute_result"
    }
   ],
   "source": [
    "trips_data.head()"
   ]
  },
  {
   "cell_type": "code",
   "execution_count": 8,
   "metadata": {},
   "outputs": [
    {
     "name": "stdout",
     "output_type": "stream",
     "text": [
      "<class 'pandas.core.frame.DataFrame'>\n",
      "Index: 2844 entries, 01001_AM to 20903\n",
      "Columns: 6815 entries, 20200221_00 to 20201130_23\n",
      "dtypes: float64(6815)\n",
      "memory usage: 147.9+ MB\n"
     ]
    }
   ],
   "source": [
    "trips_data.info()"
   ]
  },
  {
   "cell_type": "code",
   "execution_count": 9,
   "metadata": {},
   "outputs": [],
   "source": [
    "trips_mtx = trips_data.values"
   ]
  },
  {
   "cell_type": "code",
   "execution_count": 10,
   "metadata": {},
   "outputs": [
    {
     "data": {
      "text/plain": [
       "array([[291.654, 129.65 , 123.822, ..., 735.201, 258.461, 230.591],\n",
       "       [192.529, 149.992,  50.547, ..., 407.566, 124.729, 106.744],\n",
       "       [ 92.726,  50.822,  37.895, ..., 277.574, 119.83 ,  52.331],\n",
       "       ...,\n",
       "       [  0.   ,   0.   ,   0.   , ...,   0.   ,   0.   ,   0.   ],\n",
       "       [  0.   ,   0.   ,   0.   , ...,   9.76 ,  11.84 ,   0.   ],\n",
       "       [  0.   ,   0.   ,   0.   , ...,   0.   ,   0.   ,   0.   ]])"
      ]
     },
     "execution_count": 10,
     "metadata": {},
     "output_type": "execute_result"
    }
   ],
   "source": [
    "trips_mtx"
   ]
  },
  {
   "cell_type": "code",
   "execution_count": 11,
   "metadata": {},
   "outputs": [
    {
     "data": {
      "text/plain": [
       "(2844, 6815)"
      ]
     },
     "execution_count": 11,
     "metadata": {},
     "output_type": "execute_result"
    }
   ],
   "source": [
    "trips_mtx.shape"
   ]
  },
  {
   "cell_type": "markdown",
   "metadata": {},
   "source": [
    "### Weather data"
   ]
  },
  {
   "cell_type": "code",
   "execution_count": 12,
   "metadata": {},
   "outputs": [],
   "source": [
    "#weather_data = trips_data.copy()\n",
    "#weather_data = weather_data +1"
   ]
  },
  {
   "cell_type": "code",
   "execution_count": 13,
   "metadata": {},
   "outputs": [],
   "source": [
    "weather_data = pd.read_csv(os.path.join('data', 'weather_airports', 'weather_time_series_all.csv'), index_col=0)"
   ]
  },
  {
   "cell_type": "code",
   "execution_count": 14,
   "metadata": {},
   "outputs": [
    {
     "data": {
      "text/html": [
       "<div>\n",
       "<style scoped>\n",
       "    .dataframe tbody tr th:only-of-type {\n",
       "        vertical-align: middle;\n",
       "    }\n",
       "\n",
       "    .dataframe tbody tr th {\n",
       "        vertical-align: top;\n",
       "    }\n",
       "\n",
       "    .dataframe thead th {\n",
       "        text-align: right;\n",
       "    }\n",
       "</style>\n",
       "<table border=\"1\" class=\"dataframe\">\n",
       "  <thead>\n",
       "    <tr style=\"text-align: right;\">\n",
       "      <th></th>\n",
       "      <th>20200221_00</th>\n",
       "      <th>20200221_01</th>\n",
       "      <th>20200221_02</th>\n",
       "      <th>20200221_03</th>\n",
       "      <th>20200221_04</th>\n",
       "      <th>20200221_05</th>\n",
       "      <th>20200221_06</th>\n",
       "      <th>20200221_07</th>\n",
       "      <th>20200221_08</th>\n",
       "      <th>20200221_09</th>\n",
       "      <th>...</th>\n",
       "      <th>20201130_14</th>\n",
       "      <th>20201130_15</th>\n",
       "      <th>20201130_16</th>\n",
       "      <th>20201130_17</th>\n",
       "      <th>20201130_18</th>\n",
       "      <th>20201130_19</th>\n",
       "      <th>20201130_20</th>\n",
       "      <th>20201130_21</th>\n",
       "      <th>20201130_22</th>\n",
       "      <th>20201130_23</th>\n",
       "    </tr>\n",
       "    <tr>\n",
       "      <th>ID</th>\n",
       "      <th></th>\n",
       "      <th></th>\n",
       "      <th></th>\n",
       "      <th></th>\n",
       "      <th></th>\n",
       "      <th></th>\n",
       "      <th></th>\n",
       "      <th></th>\n",
       "      <th></th>\n",
       "      <th></th>\n",
       "      <th></th>\n",
       "      <th></th>\n",
       "      <th></th>\n",
       "      <th></th>\n",
       "      <th></th>\n",
       "      <th></th>\n",
       "      <th></th>\n",
       "      <th></th>\n",
       "      <th></th>\n",
       "      <th></th>\n",
       "      <th></th>\n",
       "    </tr>\n",
       "  </thead>\n",
       "  <tbody>\n",
       "    <tr>\n",
       "      <th>2408910</th>\n",
       "      <td>4.5</td>\n",
       "      <td>4.0</td>\n",
       "      <td>1.0</td>\n",
       "      <td>2.0</td>\n",
       "      <td>1.0</td>\n",
       "      <td>0.0</td>\n",
       "      <td>-1.5</td>\n",
       "      <td>-2.0</td>\n",
       "      <td>-3.5</td>\n",
       "      <td>2.0</td>\n",
       "      <td>...</td>\n",
       "      <td>11.500000</td>\n",
       "      <td>12.0</td>\n",
       "      <td>13.0</td>\n",
       "      <td>12.5</td>\n",
       "      <td>5.5</td>\n",
       "      <td>1.5</td>\n",
       "      <td>3.0</td>\n",
       "      <td>4.5</td>\n",
       "      <td>4.0</td>\n",
       "      <td>1.5</td>\n",
       "    </tr>\n",
       "    <tr>\n",
       "      <th>22117_AM</th>\n",
       "      <td>4.0</td>\n",
       "      <td>4.5</td>\n",
       "      <td>6.0</td>\n",
       "      <td>4.0</td>\n",
       "      <td>2.5</td>\n",
       "      <td>2.0</td>\n",
       "      <td>1.0</td>\n",
       "      <td>0.0</td>\n",
       "      <td>1.5</td>\n",
       "      <td>4.5</td>\n",
       "      <td>...</td>\n",
       "      <td>8.333333</td>\n",
       "      <td>8.0</td>\n",
       "      <td>8.0</td>\n",
       "      <td>8.0</td>\n",
       "      <td>8.0</td>\n",
       "      <td>8.0</td>\n",
       "      <td>8.0</td>\n",
       "      <td>8.0</td>\n",
       "      <td>8.0</td>\n",
       "      <td>7.0</td>\n",
       "    </tr>\n",
       "    <tr>\n",
       "      <th>2305009</th>\n",
       "      <td>8.0</td>\n",
       "      <td>7.0</td>\n",
       "      <td>6.5</td>\n",
       "      <td>6.0</td>\n",
       "      <td>5.5</td>\n",
       "      <td>5.0</td>\n",
       "      <td>3.5</td>\n",
       "      <td>3.5</td>\n",
       "      <td>3.0</td>\n",
       "      <td>5.5</td>\n",
       "      <td>...</td>\n",
       "      <td>17.000000</td>\n",
       "      <td>18.0</td>\n",
       "      <td>17.5</td>\n",
       "      <td>17.5</td>\n",
       "      <td>15.0</td>\n",
       "      <td>13.0</td>\n",
       "      <td>10.0</td>\n",
       "      <td>9.0</td>\n",
       "      <td>8.5</td>\n",
       "      <td>8.0</td>\n",
       "    </tr>\n",
       "    <tr>\n",
       "      <th>07058_AM</th>\n",
       "      <td>7.0</td>\n",
       "      <td>7.0</td>\n",
       "      <td>7.0</td>\n",
       "      <td>7.0</td>\n",
       "      <td>6.5</td>\n",
       "      <td>6.0</td>\n",
       "      <td>6.0</td>\n",
       "      <td>6.0</td>\n",
       "      <td>6.5</td>\n",
       "      <td>10.0</td>\n",
       "      <td>...</td>\n",
       "      <td>19.000000</td>\n",
       "      <td>19.0</td>\n",
       "      <td>18.0</td>\n",
       "      <td>16.5</td>\n",
       "      <td>15.0</td>\n",
       "      <td>13.5</td>\n",
       "      <td>12.5</td>\n",
       "      <td>12.0</td>\n",
       "      <td>12.0</td>\n",
       "      <td>11.0</td>\n",
       "    </tr>\n",
       "    <tr>\n",
       "      <th>2305006</th>\n",
       "      <td>8.0</td>\n",
       "      <td>7.0</td>\n",
       "      <td>6.5</td>\n",
       "      <td>6.0</td>\n",
       "      <td>5.5</td>\n",
       "      <td>5.0</td>\n",
       "      <td>3.5</td>\n",
       "      <td>3.5</td>\n",
       "      <td>3.0</td>\n",
       "      <td>5.5</td>\n",
       "      <td>...</td>\n",
       "      <td>17.000000</td>\n",
       "      <td>18.0</td>\n",
       "      <td>17.5</td>\n",
       "      <td>17.5</td>\n",
       "      <td>15.0</td>\n",
       "      <td>13.0</td>\n",
       "      <td>10.0</td>\n",
       "      <td>9.0</td>\n",
       "      <td>8.5</td>\n",
       "      <td>8.0</td>\n",
       "    </tr>\n",
       "  </tbody>\n",
       "</table>\n",
       "<p>5 rows × 6816 columns</p>\n",
       "</div>"
      ],
      "text/plain": [
       "          20200221_00  20200221_01  20200221_02  20200221_03  20200221_04  \\\n",
       "ID                                                                          \n",
       "2408910           4.5          4.0          1.0          2.0          1.0   \n",
       "22117_AM          4.0          4.5          6.0          4.0          2.5   \n",
       "2305009           8.0          7.0          6.5          6.0          5.5   \n",
       "07058_AM          7.0          7.0          7.0          7.0          6.5   \n",
       "2305006           8.0          7.0          6.5          6.0          5.5   \n",
       "\n",
       "          20200221_05  20200221_06  20200221_07  20200221_08  20200221_09  \\\n",
       "ID                                                                          \n",
       "2408910           0.0         -1.5         -2.0         -3.5          2.0   \n",
       "22117_AM          2.0          1.0          0.0          1.5          4.5   \n",
       "2305009           5.0          3.5          3.5          3.0          5.5   \n",
       "07058_AM          6.0          6.0          6.0          6.5         10.0   \n",
       "2305006           5.0          3.5          3.5          3.0          5.5   \n",
       "\n",
       "          ...  20201130_14  20201130_15  20201130_16  20201130_17  \\\n",
       "ID        ...                                                       \n",
       "2408910   ...    11.500000         12.0         13.0         12.5   \n",
       "22117_AM  ...     8.333333          8.0          8.0          8.0   \n",
       "2305009   ...    17.000000         18.0         17.5         17.5   \n",
       "07058_AM  ...    19.000000         19.0         18.0         16.5   \n",
       "2305006   ...    17.000000         18.0         17.5         17.5   \n",
       "\n",
       "          20201130_18  20201130_19  20201130_20  20201130_21  20201130_22  \\\n",
       "ID                                                                          \n",
       "2408910           5.5          1.5          3.0          4.5          4.0   \n",
       "22117_AM          8.0          8.0          8.0          8.0          8.0   \n",
       "2305009          15.0         13.0         10.0          9.0          8.5   \n",
       "07058_AM         15.0         13.5         12.5         12.0         12.0   \n",
       "2305006          15.0         13.0         10.0          9.0          8.5   \n",
       "\n",
       "          20201130_23  \n",
       "ID                     \n",
       "2408910           1.5  \n",
       "22117_AM          7.0  \n",
       "2305009           8.0  \n",
       "07058_AM         11.0  \n",
       "2305006           8.0  \n",
       "\n",
       "[5 rows x 6816 columns]"
      ]
     },
     "execution_count": 14,
     "metadata": {},
     "output_type": "execute_result"
    }
   ],
   "source": [
    "weather_data.head()"
   ]
  },
  {
   "cell_type": "code",
   "execution_count": 15,
   "metadata": {},
   "outputs": [],
   "source": [
    "weather_data = weather_data.loc[trips_data.index,trips_data.columns]"
   ]
  },
  {
   "cell_type": "code",
   "execution_count": 16,
   "metadata": {},
   "outputs": [
    {
     "data": {
      "text/html": [
       "<div>\n",
       "<style scoped>\n",
       "    .dataframe tbody tr th:only-of-type {\n",
       "        vertical-align: middle;\n",
       "    }\n",
       "\n",
       "    .dataframe tbody tr th {\n",
       "        vertical-align: top;\n",
       "    }\n",
       "\n",
       "    .dataframe thead th {\n",
       "        text-align: right;\n",
       "    }\n",
       "</style>\n",
       "<table border=\"1\" class=\"dataframe\">\n",
       "  <thead>\n",
       "    <tr style=\"text-align: right;\">\n",
       "      <th></th>\n",
       "      <th>20200221_00</th>\n",
       "      <th>20200221_01</th>\n",
       "      <th>20200221_02</th>\n",
       "      <th>20200221_03</th>\n",
       "      <th>20200221_04</th>\n",
       "      <th>20200221_05</th>\n",
       "      <th>20200221_06</th>\n",
       "      <th>20200221_07</th>\n",
       "      <th>20200221_08</th>\n",
       "      <th>20200221_09</th>\n",
       "      <th>...</th>\n",
       "      <th>20201130_14</th>\n",
       "      <th>20201130_15</th>\n",
       "      <th>20201130_16</th>\n",
       "      <th>20201130_17</th>\n",
       "      <th>20201130_18</th>\n",
       "      <th>20201130_19</th>\n",
       "      <th>20201130_20</th>\n",
       "      <th>20201130_21</th>\n",
       "      <th>20201130_22</th>\n",
       "      <th>20201130_23</th>\n",
       "    </tr>\n",
       "  </thead>\n",
       "  <tbody>\n",
       "    <tr>\n",
       "      <th>01001_AM</th>\n",
       "      <td>3.0</td>\n",
       "      <td>2.0</td>\n",
       "      <td>0.5</td>\n",
       "      <td>-1.0</td>\n",
       "      <td>0.0</td>\n",
       "      <td>1.5</td>\n",
       "      <td>2.5</td>\n",
       "      <td>3.0</td>\n",
       "      <td>4.0</td>\n",
       "      <td>4.5</td>\n",
       "      <td>...</td>\n",
       "      <td>5.0</td>\n",
       "      <td>5.5</td>\n",
       "      <td>6.0</td>\n",
       "      <td>5.5</td>\n",
       "      <td>4.5</td>\n",
       "      <td>4.0</td>\n",
       "      <td>8.0</td>\n",
       "      <td>7.5</td>\n",
       "      <td>7.0</td>\n",
       "      <td>5.5</td>\n",
       "    </tr>\n",
       "    <tr>\n",
       "      <th>01002</th>\n",
       "      <td>5.5</td>\n",
       "      <td>6.5</td>\n",
       "      <td>7.0</td>\n",
       "      <td>7.5</td>\n",
       "      <td>8.0</td>\n",
       "      <td>8.0</td>\n",
       "      <td>8.5</td>\n",
       "      <td>8.0</td>\n",
       "      <td>9.0</td>\n",
       "      <td>9.5</td>\n",
       "      <td>...</td>\n",
       "      <td>12.0</td>\n",
       "      <td>12.0</td>\n",
       "      <td>13.0</td>\n",
       "      <td>13.0</td>\n",
       "      <td>13.5</td>\n",
       "      <td>12.0</td>\n",
       "      <td>10.5</td>\n",
       "      <td>9.0</td>\n",
       "      <td>8.5</td>\n",
       "      <td>9.0</td>\n",
       "    </tr>\n",
       "    <tr>\n",
       "      <th>01010_AM</th>\n",
       "      <td>5.5</td>\n",
       "      <td>6.5</td>\n",
       "      <td>7.0</td>\n",
       "      <td>7.5</td>\n",
       "      <td>8.0</td>\n",
       "      <td>8.0</td>\n",
       "      <td>8.5</td>\n",
       "      <td>8.0</td>\n",
       "      <td>9.0</td>\n",
       "      <td>9.5</td>\n",
       "      <td>...</td>\n",
       "      <td>12.0</td>\n",
       "      <td>12.0</td>\n",
       "      <td>13.0</td>\n",
       "      <td>13.0</td>\n",
       "      <td>13.5</td>\n",
       "      <td>12.0</td>\n",
       "      <td>10.5</td>\n",
       "      <td>9.0</td>\n",
       "      <td>8.5</td>\n",
       "      <td>9.0</td>\n",
       "    </tr>\n",
       "    <tr>\n",
       "      <th>01031_AM</th>\n",
       "      <td>3.0</td>\n",
       "      <td>2.0</td>\n",
       "      <td>0.5</td>\n",
       "      <td>-1.0</td>\n",
       "      <td>0.0</td>\n",
       "      <td>1.5</td>\n",
       "      <td>2.5</td>\n",
       "      <td>3.0</td>\n",
       "      <td>4.0</td>\n",
       "      <td>4.5</td>\n",
       "      <td>...</td>\n",
       "      <td>5.0</td>\n",
       "      <td>5.5</td>\n",
       "      <td>6.0</td>\n",
       "      <td>5.5</td>\n",
       "      <td>4.5</td>\n",
       "      <td>4.0</td>\n",
       "      <td>8.0</td>\n",
       "      <td>7.5</td>\n",
       "      <td>7.0</td>\n",
       "      <td>5.5</td>\n",
       "    </tr>\n",
       "    <tr>\n",
       "      <th>01036</th>\n",
       "      <td>5.5</td>\n",
       "      <td>6.5</td>\n",
       "      <td>7.0</td>\n",
       "      <td>7.5</td>\n",
       "      <td>8.0</td>\n",
       "      <td>8.0</td>\n",
       "      <td>8.5</td>\n",
       "      <td>8.0</td>\n",
       "      <td>9.0</td>\n",
       "      <td>9.5</td>\n",
       "      <td>...</td>\n",
       "      <td>12.0</td>\n",
       "      <td>12.0</td>\n",
       "      <td>13.0</td>\n",
       "      <td>13.0</td>\n",
       "      <td>13.5</td>\n",
       "      <td>12.0</td>\n",
       "      <td>10.5</td>\n",
       "      <td>9.0</td>\n",
       "      <td>8.5</td>\n",
       "      <td>9.0</td>\n",
       "    </tr>\n",
       "  </tbody>\n",
       "</table>\n",
       "<p>5 rows × 6815 columns</p>\n",
       "</div>"
      ],
      "text/plain": [
       "          20200221_00  20200221_01  20200221_02  20200221_03  20200221_04  \\\n",
       "01001_AM          3.0          2.0          0.5         -1.0          0.0   \n",
       "01002             5.5          6.5          7.0          7.5          8.0   \n",
       "01010_AM          5.5          6.5          7.0          7.5          8.0   \n",
       "01031_AM          3.0          2.0          0.5         -1.0          0.0   \n",
       "01036             5.5          6.5          7.0          7.5          8.0   \n",
       "\n",
       "          20200221_05  20200221_06  20200221_07  20200221_08  20200221_09  \\\n",
       "01001_AM          1.5          2.5          3.0          4.0          4.5   \n",
       "01002             8.0          8.5          8.0          9.0          9.5   \n",
       "01010_AM          8.0          8.5          8.0          9.0          9.5   \n",
       "01031_AM          1.5          2.5          3.0          4.0          4.5   \n",
       "01036             8.0          8.5          8.0          9.0          9.5   \n",
       "\n",
       "          ...  20201130_14  20201130_15  20201130_16  20201130_17  \\\n",
       "01001_AM  ...          5.0          5.5          6.0          5.5   \n",
       "01002     ...         12.0         12.0         13.0         13.0   \n",
       "01010_AM  ...         12.0         12.0         13.0         13.0   \n",
       "01031_AM  ...          5.0          5.5          6.0          5.5   \n",
       "01036     ...         12.0         12.0         13.0         13.0   \n",
       "\n",
       "          20201130_18  20201130_19  20201130_20  20201130_21  20201130_22  \\\n",
       "01001_AM          4.5          4.0          8.0          7.5          7.0   \n",
       "01002            13.5         12.0         10.5          9.0          8.5   \n",
       "01010_AM         13.5         12.0         10.5          9.0          8.5   \n",
       "01031_AM          4.5          4.0          8.0          7.5          7.0   \n",
       "01036            13.5         12.0         10.5          9.0          8.5   \n",
       "\n",
       "          20201130_23  \n",
       "01001_AM          5.5  \n",
       "01002             9.0  \n",
       "01010_AM          9.0  \n",
       "01031_AM          5.5  \n",
       "01036             9.0  \n",
       "\n",
       "[5 rows x 6815 columns]"
      ]
     },
     "execution_count": 16,
     "metadata": {},
     "output_type": "execute_result"
    }
   ],
   "source": [
    "weather_data.head()"
   ]
  },
  {
   "cell_type": "code",
   "execution_count": 17,
   "metadata": {},
   "outputs": [],
   "source": [
    "weather_mean = weather_data.mean()\n",
    "weather_data = weather_data.fillna(weather_mean)"
   ]
  },
  {
   "cell_type": "code",
   "execution_count": 18,
   "metadata": {},
   "outputs": [
    {
     "data": {
      "text/html": [
       "<div>\n",
       "<style scoped>\n",
       "    .dataframe tbody tr th:only-of-type {\n",
       "        vertical-align: middle;\n",
       "    }\n",
       "\n",
       "    .dataframe tbody tr th {\n",
       "        vertical-align: top;\n",
       "    }\n",
       "\n",
       "    .dataframe thead th {\n",
       "        text-align: right;\n",
       "    }\n",
       "</style>\n",
       "<table border=\"1\" class=\"dataframe\">\n",
       "  <thead>\n",
       "    <tr style=\"text-align: right;\">\n",
       "      <th></th>\n",
       "      <th>20200221_00</th>\n",
       "      <th>20200221_01</th>\n",
       "      <th>20200221_02</th>\n",
       "      <th>20200221_03</th>\n",
       "      <th>20200221_04</th>\n",
       "      <th>20200221_05</th>\n",
       "      <th>20200221_06</th>\n",
       "      <th>20200221_07</th>\n",
       "      <th>20200221_08</th>\n",
       "      <th>20200221_09</th>\n",
       "      <th>...</th>\n",
       "      <th>20201130_14</th>\n",
       "      <th>20201130_15</th>\n",
       "      <th>20201130_16</th>\n",
       "      <th>20201130_17</th>\n",
       "      <th>20201130_18</th>\n",
       "      <th>20201130_19</th>\n",
       "      <th>20201130_20</th>\n",
       "      <th>20201130_21</th>\n",
       "      <th>20201130_22</th>\n",
       "      <th>20201130_23</th>\n",
       "    </tr>\n",
       "  </thead>\n",
       "  <tbody>\n",
       "    <tr>\n",
       "      <th>01001_AM</th>\n",
       "      <td>3.0</td>\n",
       "      <td>2.0</td>\n",
       "      <td>0.5</td>\n",
       "      <td>-1.0</td>\n",
       "      <td>0.0</td>\n",
       "      <td>1.5</td>\n",
       "      <td>2.5</td>\n",
       "      <td>3.0</td>\n",
       "      <td>4.0</td>\n",
       "      <td>4.5</td>\n",
       "      <td>...</td>\n",
       "      <td>5.0</td>\n",
       "      <td>5.5</td>\n",
       "      <td>6.0</td>\n",
       "      <td>5.5</td>\n",
       "      <td>4.5</td>\n",
       "      <td>4.0</td>\n",
       "      <td>8.0</td>\n",
       "      <td>7.5</td>\n",
       "      <td>7.0</td>\n",
       "      <td>5.5</td>\n",
       "    </tr>\n",
       "    <tr>\n",
       "      <th>01002</th>\n",
       "      <td>5.5</td>\n",
       "      <td>6.5</td>\n",
       "      <td>7.0</td>\n",
       "      <td>7.5</td>\n",
       "      <td>8.0</td>\n",
       "      <td>8.0</td>\n",
       "      <td>8.5</td>\n",
       "      <td>8.0</td>\n",
       "      <td>9.0</td>\n",
       "      <td>9.5</td>\n",
       "      <td>...</td>\n",
       "      <td>12.0</td>\n",
       "      <td>12.0</td>\n",
       "      <td>13.0</td>\n",
       "      <td>13.0</td>\n",
       "      <td>13.5</td>\n",
       "      <td>12.0</td>\n",
       "      <td>10.5</td>\n",
       "      <td>9.0</td>\n",
       "      <td>8.5</td>\n",
       "      <td>9.0</td>\n",
       "    </tr>\n",
       "    <tr>\n",
       "      <th>01010_AM</th>\n",
       "      <td>5.5</td>\n",
       "      <td>6.5</td>\n",
       "      <td>7.0</td>\n",
       "      <td>7.5</td>\n",
       "      <td>8.0</td>\n",
       "      <td>8.0</td>\n",
       "      <td>8.5</td>\n",
       "      <td>8.0</td>\n",
       "      <td>9.0</td>\n",
       "      <td>9.5</td>\n",
       "      <td>...</td>\n",
       "      <td>12.0</td>\n",
       "      <td>12.0</td>\n",
       "      <td>13.0</td>\n",
       "      <td>13.0</td>\n",
       "      <td>13.5</td>\n",
       "      <td>12.0</td>\n",
       "      <td>10.5</td>\n",
       "      <td>9.0</td>\n",
       "      <td>8.5</td>\n",
       "      <td>9.0</td>\n",
       "    </tr>\n",
       "    <tr>\n",
       "      <th>01031_AM</th>\n",
       "      <td>3.0</td>\n",
       "      <td>2.0</td>\n",
       "      <td>0.5</td>\n",
       "      <td>-1.0</td>\n",
       "      <td>0.0</td>\n",
       "      <td>1.5</td>\n",
       "      <td>2.5</td>\n",
       "      <td>3.0</td>\n",
       "      <td>4.0</td>\n",
       "      <td>4.5</td>\n",
       "      <td>...</td>\n",
       "      <td>5.0</td>\n",
       "      <td>5.5</td>\n",
       "      <td>6.0</td>\n",
       "      <td>5.5</td>\n",
       "      <td>4.5</td>\n",
       "      <td>4.0</td>\n",
       "      <td>8.0</td>\n",
       "      <td>7.5</td>\n",
       "      <td>7.0</td>\n",
       "      <td>5.5</td>\n",
       "    </tr>\n",
       "    <tr>\n",
       "      <th>01036</th>\n",
       "      <td>5.5</td>\n",
       "      <td>6.5</td>\n",
       "      <td>7.0</td>\n",
       "      <td>7.5</td>\n",
       "      <td>8.0</td>\n",
       "      <td>8.0</td>\n",
       "      <td>8.5</td>\n",
       "      <td>8.0</td>\n",
       "      <td>9.0</td>\n",
       "      <td>9.5</td>\n",
       "      <td>...</td>\n",
       "      <td>12.0</td>\n",
       "      <td>12.0</td>\n",
       "      <td>13.0</td>\n",
       "      <td>13.0</td>\n",
       "      <td>13.5</td>\n",
       "      <td>12.0</td>\n",
       "      <td>10.5</td>\n",
       "      <td>9.0</td>\n",
       "      <td>8.5</td>\n",
       "      <td>9.0</td>\n",
       "    </tr>\n",
       "  </tbody>\n",
       "</table>\n",
       "<p>5 rows × 6815 columns</p>\n",
       "</div>"
      ],
      "text/plain": [
       "          20200221_00  20200221_01  20200221_02  20200221_03  20200221_04  \\\n",
       "01001_AM          3.0          2.0          0.5         -1.0          0.0   \n",
       "01002             5.5          6.5          7.0          7.5          8.0   \n",
       "01010_AM          5.5          6.5          7.0          7.5          8.0   \n",
       "01031_AM          3.0          2.0          0.5         -1.0          0.0   \n",
       "01036             5.5          6.5          7.0          7.5          8.0   \n",
       "\n",
       "          20200221_05  20200221_06  20200221_07  20200221_08  20200221_09  \\\n",
       "01001_AM          1.5          2.5          3.0          4.0          4.5   \n",
       "01002             8.0          8.5          8.0          9.0          9.5   \n",
       "01010_AM          8.0          8.5          8.0          9.0          9.5   \n",
       "01031_AM          1.5          2.5          3.0          4.0          4.5   \n",
       "01036             8.0          8.5          8.0          9.0          9.5   \n",
       "\n",
       "          ...  20201130_14  20201130_15  20201130_16  20201130_17  \\\n",
       "01001_AM  ...          5.0          5.5          6.0          5.5   \n",
       "01002     ...         12.0         12.0         13.0         13.0   \n",
       "01010_AM  ...         12.0         12.0         13.0         13.0   \n",
       "01031_AM  ...          5.0          5.5          6.0          5.5   \n",
       "01036     ...         12.0         12.0         13.0         13.0   \n",
       "\n",
       "          20201130_18  20201130_19  20201130_20  20201130_21  20201130_22  \\\n",
       "01001_AM          4.5          4.0          8.0          7.5          7.0   \n",
       "01002            13.5         12.0         10.5          9.0          8.5   \n",
       "01010_AM         13.5         12.0         10.5          9.0          8.5   \n",
       "01031_AM          4.5          4.0          8.0          7.5          7.0   \n",
       "01036            13.5         12.0         10.5          9.0          8.5   \n",
       "\n",
       "          20201130_23  \n",
       "01001_AM          5.5  \n",
       "01002             9.0  \n",
       "01010_AM          9.0  \n",
       "01031_AM          5.5  \n",
       "01036             9.0  \n",
       "\n",
       "[5 rows x 6815 columns]"
      ]
     },
     "execution_count": 18,
     "metadata": {},
     "output_type": "execute_result"
    }
   ],
   "source": [
    "weather_data.head()"
   ]
  },
  {
   "cell_type": "code",
   "execution_count": 19,
   "metadata": {},
   "outputs": [
    {
     "data": {
      "text/html": [
       "<div>\n",
       "<style scoped>\n",
       "    .dataframe tbody tr th:only-of-type {\n",
       "        vertical-align: middle;\n",
       "    }\n",
       "\n",
       "    .dataframe tbody tr th {\n",
       "        vertical-align: top;\n",
       "    }\n",
       "\n",
       "    .dataframe thead th {\n",
       "        text-align: right;\n",
       "    }\n",
       "</style>\n",
       "<table border=\"1\" class=\"dataframe\">\n",
       "  <thead>\n",
       "    <tr style=\"text-align: right;\">\n",
       "      <th></th>\n",
       "      <th>20200221_00</th>\n",
       "      <th>20200221_01</th>\n",
       "      <th>20200221_02</th>\n",
       "      <th>20200221_03</th>\n",
       "      <th>20200221_04</th>\n",
       "      <th>20200221_05</th>\n",
       "      <th>20200221_06</th>\n",
       "      <th>20200221_07</th>\n",
       "      <th>20200221_08</th>\n",
       "      <th>20200221_09</th>\n",
       "      <th>...</th>\n",
       "      <th>20201130_14</th>\n",
       "      <th>20201130_15</th>\n",
       "      <th>20201130_16</th>\n",
       "      <th>20201130_17</th>\n",
       "      <th>20201130_18</th>\n",
       "      <th>20201130_19</th>\n",
       "      <th>20201130_20</th>\n",
       "      <th>20201130_21</th>\n",
       "      <th>20201130_22</th>\n",
       "      <th>20201130_23</th>\n",
       "    </tr>\n",
       "  </thead>\n",
       "  <tbody>\n",
       "    <tr>\n",
       "      <th>38013_AM</th>\n",
       "      <td>17.0</td>\n",
       "      <td>17.0</td>\n",
       "      <td>17.0</td>\n",
       "      <td>16.5</td>\n",
       "      <td>16.0</td>\n",
       "      <td>16.0</td>\n",
       "      <td>16.0</td>\n",
       "      <td>15.0</td>\n",
       "      <td>15.5</td>\n",
       "      <td>18.0</td>\n",
       "      <td>...</td>\n",
       "      <td>21.000000</td>\n",
       "      <td>21.500000</td>\n",
       "      <td>20.500000</td>\n",
       "      <td>20.500000</td>\n",
       "      <td>19.500000</td>\n",
       "      <td>18.500000</td>\n",
       "      <td>18.000000</td>\n",
       "      <td>18.000000</td>\n",
       "      <td>18.000000</td>\n",
       "      <td>18.000000</td>\n",
       "    </tr>\n",
       "    <tr>\n",
       "      <th>05220_AM</th>\n",
       "      <td>0.5</td>\n",
       "      <td>0.0</td>\n",
       "      <td>0.0</td>\n",
       "      <td>0.5</td>\n",
       "      <td>0.0</td>\n",
       "      <td>0.0</td>\n",
       "      <td>-1.5</td>\n",
       "      <td>-2.5</td>\n",
       "      <td>-3.0</td>\n",
       "      <td>0.0</td>\n",
       "      <td>...</td>\n",
       "      <td>13.500000</td>\n",
       "      <td>13.000000</td>\n",
       "      <td>12.000000</td>\n",
       "      <td>11.000000</td>\n",
       "      <td>8.500000</td>\n",
       "      <td>7.000000</td>\n",
       "      <td>6.000000</td>\n",
       "      <td>4.500000</td>\n",
       "      <td>3.500000</td>\n",
       "      <td>2.000000</td>\n",
       "    </tr>\n",
       "    <tr>\n",
       "      <th>40149_AM</th>\n",
       "      <td>9.0</td>\n",
       "      <td>11.0</td>\n",
       "      <td>13.0</td>\n",
       "      <td>14.0</td>\n",
       "      <td>15.0</td>\n",
       "      <td>15.0</td>\n",
       "      <td>16.0</td>\n",
       "      <td>17.0</td>\n",
       "      <td>17.0</td>\n",
       "      <td>17.0</td>\n",
       "      <td>...</td>\n",
       "      <td>15.145435</td>\n",
       "      <td>15.463174</td>\n",
       "      <td>15.403283</td>\n",
       "      <td>14.536643</td>\n",
       "      <td>13.055383</td>\n",
       "      <td>11.810008</td>\n",
       "      <td>11.108134</td>\n",
       "      <td>10.454133</td>\n",
       "      <td>9.845933</td>\n",
       "      <td>9.306222</td>\n",
       "    </tr>\n",
       "    <tr>\n",
       "      <th>31092_AM</th>\n",
       "      <td>6.5</td>\n",
       "      <td>5.5</td>\n",
       "      <td>4.0</td>\n",
       "      <td>3.0</td>\n",
       "      <td>2.5</td>\n",
       "      <td>2.0</td>\n",
       "      <td>1.0</td>\n",
       "      <td>1.0</td>\n",
       "      <td>2.0</td>\n",
       "      <td>5.0</td>\n",
       "      <td>...</td>\n",
       "      <td>9.000000</td>\n",
       "      <td>11.500000</td>\n",
       "      <td>12.000000</td>\n",
       "      <td>11.000000</td>\n",
       "      <td>11.000000</td>\n",
       "      <td>10.000000</td>\n",
       "      <td>9.000000</td>\n",
       "      <td>8.000000</td>\n",
       "      <td>8.000000</td>\n",
       "      <td>7.500000</td>\n",
       "    </tr>\n",
       "    <tr>\n",
       "      <th>20903</th>\n",
       "      <td>8.0</td>\n",
       "      <td>8.0</td>\n",
       "      <td>8.5</td>\n",
       "      <td>9.0</td>\n",
       "      <td>9.0</td>\n",
       "      <td>9.0</td>\n",
       "      <td>9.0</td>\n",
       "      <td>9.5</td>\n",
       "      <td>9.0</td>\n",
       "      <td>10.0</td>\n",
       "      <td>...</td>\n",
       "      <td>13.000000</td>\n",
       "      <td>13.000000</td>\n",
       "      <td>13.000000</td>\n",
       "      <td>13.000000</td>\n",
       "      <td>12.500000</td>\n",
       "      <td>12.000000</td>\n",
       "      <td>11.500000</td>\n",
       "      <td>10.500000</td>\n",
       "      <td>10.000000</td>\n",
       "      <td>9.500000</td>\n",
       "    </tr>\n",
       "  </tbody>\n",
       "</table>\n",
       "<p>5 rows × 6815 columns</p>\n",
       "</div>"
      ],
      "text/plain": [
       "          20200221_00  20200221_01  20200221_02  20200221_03  20200221_04  \\\n",
       "38013_AM         17.0         17.0         17.0         16.5         16.0   \n",
       "05220_AM          0.5          0.0          0.0          0.5          0.0   \n",
       "40149_AM          9.0         11.0         13.0         14.0         15.0   \n",
       "31092_AM          6.5          5.5          4.0          3.0          2.5   \n",
       "20903             8.0          8.0          8.5          9.0          9.0   \n",
       "\n",
       "          20200221_05  20200221_06  20200221_07  20200221_08  20200221_09  \\\n",
       "38013_AM         16.0         16.0         15.0         15.5         18.0   \n",
       "05220_AM          0.0         -1.5         -2.5         -3.0          0.0   \n",
       "40149_AM         15.0         16.0         17.0         17.0         17.0   \n",
       "31092_AM          2.0          1.0          1.0          2.0          5.0   \n",
       "20903             9.0          9.0          9.5          9.0         10.0   \n",
       "\n",
       "          ...  20201130_14  20201130_15  20201130_16  20201130_17  \\\n",
       "38013_AM  ...    21.000000    21.500000    20.500000    20.500000   \n",
       "05220_AM  ...    13.500000    13.000000    12.000000    11.000000   \n",
       "40149_AM  ...    15.145435    15.463174    15.403283    14.536643   \n",
       "31092_AM  ...     9.000000    11.500000    12.000000    11.000000   \n",
       "20903     ...    13.000000    13.000000    13.000000    13.000000   \n",
       "\n",
       "          20201130_18  20201130_19  20201130_20  20201130_21  20201130_22  \\\n",
       "38013_AM    19.500000    18.500000    18.000000    18.000000    18.000000   \n",
       "05220_AM     8.500000     7.000000     6.000000     4.500000     3.500000   \n",
       "40149_AM    13.055383    11.810008    11.108134    10.454133     9.845933   \n",
       "31092_AM    11.000000    10.000000     9.000000     8.000000     8.000000   \n",
       "20903       12.500000    12.000000    11.500000    10.500000    10.000000   \n",
       "\n",
       "          20201130_23  \n",
       "38013_AM    18.000000  \n",
       "05220_AM     2.000000  \n",
       "40149_AM     9.306222  \n",
       "31092_AM     7.500000  \n",
       "20903        9.500000  \n",
       "\n",
       "[5 rows x 6815 columns]"
      ]
     },
     "execution_count": 19,
     "metadata": {},
     "output_type": "execute_result"
    }
   ],
   "source": [
    "weather_data.tail()"
   ]
  },
  {
   "cell_type": "markdown",
   "metadata": {},
   "source": [
    "Number of nan values in the dataframe"
   ]
  },
  {
   "cell_type": "code",
   "execution_count": 20,
   "metadata": {},
   "outputs": [
    {
     "data": {
      "text/plain": [
       "0"
      ]
     },
     "execution_count": 20,
     "metadata": {},
     "output_type": "execute_result"
    }
   ],
   "source": [
    "weather_data.isnull().sum().sum()"
   ]
  },
  {
   "cell_type": "code",
   "execution_count": 21,
   "metadata": {},
   "outputs": [
    {
     "name": "stdout",
     "output_type": "stream",
     "text": [
      "<class 'pandas.core.frame.DataFrame'>\n",
      "Index: 2844 entries, 01001_AM to 20903\n",
      "Columns: 6815 entries, 20200221_00 to 20201130_23\n",
      "dtypes: float64(6815)\n",
      "memory usage: 147.9+ MB\n"
     ]
    }
   ],
   "source": [
    "weather_data.info()"
   ]
  },
  {
   "cell_type": "markdown",
   "metadata": {},
   "source": [
    "### Zones data"
   ]
  },
  {
   "cell_type": "code",
   "execution_count": 22,
   "metadata": {},
   "outputs": [],
   "source": [
    "zones_gdf = gpd.read_file(os.path.join(data_path,'zonificacion','distritos_mitma.shp'))"
   ]
  },
  {
   "cell_type": "code",
   "execution_count": 23,
   "metadata": {},
   "outputs": [],
   "source": [
    "zones_gdf = zones_gdf[zones_gdf['ID'].isin(target_areas)]"
   ]
  },
  {
   "cell_type": "code",
   "execution_count": 24,
   "metadata": {},
   "outputs": [
    {
     "data": {
      "text/html": [
       "<div>\n",
       "<style scoped>\n",
       "    .dataframe tbody tr th:only-of-type {\n",
       "        vertical-align: middle;\n",
       "    }\n",
       "\n",
       "    .dataframe tbody tr th {\n",
       "        vertical-align: top;\n",
       "    }\n",
       "\n",
       "    .dataframe thead th {\n",
       "        text-align: right;\n",
       "    }\n",
       "</style>\n",
       "<table border=\"1\" class=\"dataframe\">\n",
       "  <thead>\n",
       "    <tr style=\"text-align: right;\">\n",
       "      <th></th>\n",
       "      <th>ID</th>\n",
       "      <th>geometry</th>\n",
       "    </tr>\n",
       "  </thead>\n",
       "  <tbody>\n",
       "    <tr>\n",
       "      <th>0</th>\n",
       "      <td>2408910</td>\n",
       "      <td>POLYGON ((290940.137 4719080.203, 290956.704 4...</td>\n",
       "    </tr>\n",
       "    <tr>\n",
       "      <th>1</th>\n",
       "      <td>22117_AM</td>\n",
       "      <td>POLYGON ((774184.362 4662152.523, 774452.348 4...</td>\n",
       "    </tr>\n",
       "    <tr>\n",
       "      <th>2</th>\n",
       "      <td>2305009</td>\n",
       "      <td>POLYGON ((429744.982 4179976.538, 429716.997 4...</td>\n",
       "    </tr>\n",
       "    <tr>\n",
       "      <th>3</th>\n",
       "      <td>07058_AM</td>\n",
       "      <td>POLYGON ((1000859.396 4415059.160, 1000625.088...</td>\n",
       "    </tr>\n",
       "    <tr>\n",
       "      <th>4</th>\n",
       "      <td>2305006</td>\n",
       "      <td>POLYGON ((429795.125 4180956.539, 429860.816 4...</td>\n",
       "    </tr>\n",
       "  </tbody>\n",
       "</table>\n",
       "</div>"
      ],
      "text/plain": [
       "         ID                                           geometry\n",
       "0   2408910  POLYGON ((290940.137 4719080.203, 290956.704 4...\n",
       "1  22117_AM  POLYGON ((774184.362 4662152.523, 774452.348 4...\n",
       "2   2305009  POLYGON ((429744.982 4179976.538, 429716.997 4...\n",
       "3  07058_AM  POLYGON ((1000859.396 4415059.160, 1000625.088...\n",
       "4   2305006  POLYGON ((429795.125 4180956.539, 429860.816 4..."
      ]
     },
     "execution_count": 24,
     "metadata": {},
     "output_type": "execute_result"
    }
   ],
   "source": [
    "zones_gdf.head()"
   ]
  },
  {
   "cell_type": "code",
   "execution_count": 25,
   "metadata": {},
   "outputs": [
    {
     "name": "stdout",
     "output_type": "stream",
     "text": [
      "<class 'geopandas.geodataframe.GeoDataFrame'>\n",
      "Int64Index: 2844 entries, 0 to 2849\n",
      "Data columns (total 2 columns):\n",
      " #   Column    Non-Null Count  Dtype   \n",
      "---  ------    --------------  -----   \n",
      " 0   ID        2844 non-null   object  \n",
      " 1   geometry  2844 non-null   geometry\n",
      "dtypes: geometry(1), object(1)\n",
      "memory usage: 66.7+ KB\n"
     ]
    }
   ],
   "source": [
    "zones_gdf.info()"
   ]
  },
  {
   "cell_type": "markdown",
   "metadata": {},
   "source": [
    "## Define adjacency/distance matrix"
   ]
  },
  {
   "cell_type": "code",
   "execution_count": 26,
   "metadata": {},
   "outputs": [],
   "source": [
    "def get_adj_matrix_fn(type_):\n",
    "    matrix_ = None\n",
    "    if type_=='distance':\n",
    "        matrix_ = pd.read_csv(os.path.join('data', 'distances.csv'), index_col=0)\n",
    "        matrix_ = matrix_.loc[target_areas][target_areas].values\n",
    "    elif type_ =='contiguity': #contiguity matrix\n",
    "        qW = Queen.from_dataframe(zones_gdf)\n",
    "        matrix_ = 1- qW.full()[0]\n",
    "    elif type_ == 'gravity_model':\n",
    "        matrix_ = pd.read_csv(os.path.join('data', 'gravity_model_adjacency_matrix.csv'), index_col=0)\n",
    "        matrix_ = matrix_.replace(0,1)\n",
    "        matrix_ = matrix_.loc[target_areas][target_areas].values\n",
    "        np.fill_diagonal(matrix_,0)\n",
    "    elif type_== 'ylag':\n",
    "        matrix_ = pd.read_csv(os.path.join('data', 'ylag_adjacency_matrix.csv'), index_col=0)\n",
    "        matrix_ = matrix_.loc[target_areas][target_areas].values\n",
    "    elif type_== 'queen_gravity_model':\n",
    "        matrix_ = pd.read_csv(os.path.join('data', 'queen_gravity_model_adjacency_matrix.csv'), index_col=0)\n",
    "        matrix_ = matrix_.loc[target_areas][target_areas].values\n",
    "\n",
    "    return matrix_"
   ]
  },
  {
   "cell_type": "code",
   "execution_count": 27,
   "metadata": {},
   "outputs": [],
   "source": [
    "matrix_type= 'gravity_model' #or 'distance', 'gravity_model', 'contiguity', 'ylag', 'queen_gravity_model'"
   ]
  },
  {
   "cell_type": "code",
   "execution_count": 28,
   "metadata": {},
   "outputs": [],
   "source": [
    "adj_matrix = get_adj_matrix_fn(matrix_type)"
   ]
  },
  {
   "cell_type": "code",
   "execution_count": 29,
   "metadata": {},
   "outputs": [
    {
     "data": {
      "text/plain": [
       "(2844, 2844)"
      ]
     },
     "execution_count": 29,
     "metadata": {},
     "output_type": "execute_result"
    }
   ],
   "source": [
    "adj_matrix.shape"
   ]
  },
  {
   "cell_type": "code",
   "execution_count": 30,
   "metadata": {
    "tags": [
     "DataLoading"
    ]
   },
   "outputs": [
    {
     "name": "stdout",
     "output_type": "stream",
     "text": [
      "No. of areas: 2844 \n",
      "No of timesteps: 6815\n"
     ]
    }
   ],
   "source": [
    "#speed_data, sensor_dist_adj = dataset.load()\n",
    "num_nodes, time_len = trips_data.shape\n",
    "print(\"No. of areas:\", num_nodes, \"\\nNo of timesteps:\", time_len)"
   ]
  },
  {
   "cell_type": "markdown",
   "metadata": {},
   "source": [
    "**Merge trips and weather data.**"
   ]
  },
  {
   "cell_type": "code",
   "execution_count": 31,
   "metadata": {},
   "outputs": [],
   "source": [
    "def scale_data(raw_data):\n",
    "    max_value = raw_data.max()\n",
    "    min_value = raw_data.min()\n",
    "    data_scaled = (raw_data - min_value) / (max_value - min_value)\n",
    "    return data_scaled"
   ]
  },
  {
   "cell_type": "code",
   "execution_count": 32,
   "metadata": {},
   "outputs": [
    {
     "data": {
      "text/plain": [
       "60237.72499999973"
      ]
     },
     "execution_count": 32,
     "metadata": {},
     "output_type": "execute_result"
    }
   ],
   "source": [
    "trips_data.values.max()"
   ]
  },
  {
   "cell_type": "code",
   "execution_count": 33,
   "metadata": {},
   "outputs": [],
   "source": [
    "trips_resc_mtx= scale_data(trips_data.values)"
   ]
  },
  {
   "cell_type": "code",
   "execution_count": 34,
   "metadata": {},
   "outputs": [
    {
     "data": {
      "text/plain": [
       "array([[0.00484172, 0.00215231, 0.00205556, ..., 0.01220499, 0.00429068,\n",
       "        0.00382802],\n",
       "       [0.00319615, 0.00249   , 0.00083913, ..., 0.00676596, 0.00207061,\n",
       "        0.00177205],\n",
       "       [0.00153933, 0.00084369, 0.00062909, ..., 0.00460798, 0.00198928,\n",
       "        0.00086874],\n",
       "       ...,\n",
       "       [0.        , 0.        , 0.        , ..., 0.        , 0.        ,\n",
       "        0.        ],\n",
       "       [0.        , 0.        , 0.        , ..., 0.00016202, 0.00019655,\n",
       "        0.        ],\n",
       "       [0.        , 0.        , 0.        , ..., 0.        , 0.        ,\n",
       "        0.        ]])"
      ]
     },
     "execution_count": 34,
     "metadata": {},
     "output_type": "execute_result"
    }
   ],
   "source": [
    "trips_resc_mtx"
   ]
  },
  {
   "cell_type": "code",
   "execution_count": 35,
   "metadata": {},
   "outputs": [],
   "source": [
    "weather_resc_mtx = scale_data(weather_data.values)"
   ]
  },
  {
   "cell_type": "code",
   "execution_count": 36,
   "metadata": {},
   "outputs": [
    {
     "data": {
      "text/plain": [
       "(2844, 6815)"
      ]
     },
     "execution_count": 36,
     "metadata": {},
     "output_type": "execute_result"
    }
   ],
   "source": [
    "weather_resc_mtx.shape"
   ]
  },
  {
   "cell_type": "code",
   "execution_count": 37,
   "metadata": {},
   "outputs": [
    {
     "data": {
      "text/plain": [
       "array([[0.18181818, 0.16161616, 0.13131313, ..., 0.27272727, 0.26262626,\n",
       "        0.23232323],\n",
       "       [0.23232323, 0.25252525, 0.26262626, ..., 0.3030303 , 0.29292929,\n",
       "        0.3030303 ],\n",
       "       [0.23232323, 0.25252525, 0.26262626, ..., 0.3030303 , 0.29292929,\n",
       "        0.3030303 ],\n",
       "       ...,\n",
       "       [0.3030303 , 0.34343434, 0.38383838, ..., 0.33240674, 0.32011986,\n",
       "        0.30921661],\n",
       "       [0.25252525, 0.23232323, 0.2020202 , ..., 0.28282828, 0.28282828,\n",
       "        0.27272727],\n",
       "       [0.28282828, 0.28282828, 0.29292929, ..., 0.33333333, 0.32323232,\n",
       "        0.31313131]])"
      ]
     },
     "execution_count": 37,
     "metadata": {},
     "output_type": "execute_result"
    }
   ],
   "source": [
    "weather_resc_mtx"
   ]
  },
  {
   "cell_type": "code",
   "execution_count": 38,
   "metadata": {},
   "outputs": [
    {
     "data": {
      "text/plain": [
       "(2844, 6815)"
      ]
     },
     "execution_count": 38,
     "metadata": {},
     "output_type": "execute_result"
    }
   ],
   "source": [
    "trips_resc_mtx.shape"
   ]
  },
  {
   "cell_type": "code",
   "execution_count": 39,
   "metadata": {},
   "outputs": [],
   "source": [
    "trips_weather_mtx = np.stack((trips_resc_mtx, weather_resc_mtx), axis=-1)"
   ]
  },
  {
   "cell_type": "code",
   "execution_count": 40,
   "metadata": {
    "scrolled": true
   },
   "outputs": [
    {
     "data": {
      "text/plain": [
       "(2844, 6815, 2)"
      ]
     },
     "execution_count": 40,
     "metadata": {},
     "output_type": "execute_result"
    }
   ],
   "source": [
    "trips_weather_mtx.shape"
   ]
  },
  {
   "cell_type": "code",
   "execution_count": 41,
   "metadata": {
    "scrolled": true
   },
   "outputs": [
    {
     "data": {
      "text/plain": [
       "array([[[4.84171671e-03, 1.81818182e-01],\n",
       "        [2.15230572e-03, 1.61616162e-01],\n",
       "        [2.05555572e-03, 1.31313131e-01],\n",
       "        ...,\n",
       "        [1.22049928e-02, 2.72727273e-01],\n",
       "        [4.29068329e-03, 2.62626263e-01],\n",
       "        [3.82801641e-03, 2.32323232e-01]],\n",
       "\n",
       "       [[3.19615324e-03, 2.32323232e-01],\n",
       "        [2.49000107e-03, 2.52525253e-01],\n",
       "        [8.39125316e-04, 2.62626263e-01],\n",
       "        ...,\n",
       "        [6.76595937e-03, 3.03030303e-01],\n",
       "        [2.07061273e-03, 2.92929293e-01],\n",
       "        [1.77204567e-03, 3.03030303e-01]],\n",
       "\n",
       "       [[1.53933436e-03, 2.32323232e-01],\n",
       "        [8.43690561e-04, 2.52525253e-01],\n",
       "        [6.29090823e-04, 2.62626263e-01],\n",
       "        ...,\n",
       "        [4.60797615e-03, 3.03030303e-01],\n",
       "        [1.98928495e-03, 2.92929293e-01],\n",
       "        [8.68741308e-04, 3.03030303e-01]],\n",
       "\n",
       "       ...,\n",
       "\n",
       "       [[0.00000000e+00, 3.03030303e-01],\n",
       "        [0.00000000e+00, 3.43434343e-01],\n",
       "        [0.00000000e+00, 3.83838384e-01],\n",
       "        ...,\n",
       "        [0.00000000e+00, 3.32406736e-01],\n",
       "        [0.00000000e+00, 3.20119859e-01],\n",
       "        [0.00000000e+00, 3.09216607e-01]],\n",
       "\n",
       "       [[0.00000000e+00, 2.52525253e-01],\n",
       "        [0.00000000e+00, 2.32323232e-01],\n",
       "        [0.00000000e+00, 2.02020202e-01],\n",
       "        ...,\n",
       "        [1.62024711e-04, 2.82828283e-01],\n",
       "        [1.96554568e-04, 2.82828283e-01],\n",
       "        [0.00000000e+00, 2.72727273e-01]],\n",
       "\n",
       "       [[0.00000000e+00, 2.82828283e-01],\n",
       "        [0.00000000e+00, 2.82828283e-01],\n",
       "        [0.00000000e+00, 2.92929293e-01],\n",
       "        ...,\n",
       "        [0.00000000e+00, 3.33333333e-01],\n",
       "        [0.00000000e+00, 3.23232323e-01],\n",
       "        [0.00000000e+00, 3.13131313e-01]]])"
      ]
     },
     "execution_count": 41,
     "metadata": {},
     "output_type": "execute_result"
    }
   ],
   "source": [
    "trips_weather_mtx"
   ]
  },
  {
   "cell_type": "code",
   "execution_count": 42,
   "metadata": {},
   "outputs": [],
   "source": [
    "node_features = sg.IndexedArray(trips_weather_mtx, index=trips_data.index)\n",
    "\n",
    "#node_features = sg.IndexedArray(trips_resc_mtx, index=trips_data.index)"
   ]
  },
  {
   "cell_type": "code",
   "execution_count": 43,
   "metadata": {},
   "outputs": [],
   "source": [
    "graph = sg.StellarGraph(node_features)"
   ]
  },
  {
   "cell_type": "markdown",
   "metadata": {},
   "source": [
    "### Forecasting with spatio-temporal data as a supervised learning problem "
   ]
  },
  {
   "cell_type": "markdown",
   "metadata": {},
   "source": [
    "### Train/test split and sequence preparation for LSTM\n",
    "* Each training observation are `seq_len` historical outgoing trips.\n",
    "* Each training prediction is the number of outgoing trips `pre_len` hour later."
   ]
  },
  {
   "cell_type": "code",
   "execution_count": 44,
   "metadata": {},
   "outputs": [],
   "source": [
    "train_rate = 0.9\n",
    "seq_len = 12\n",
    "pre_len = 12"
   ]
  },
  {
   "cell_type": "code",
   "execution_count": 45,
   "metadata": {},
   "outputs": [],
   "source": [
    "train_size=int(trips_data.shape[1]*0.9)"
   ]
  },
  {
   "cell_type": "code",
   "execution_count": 46,
   "metadata": {},
   "outputs": [],
   "source": [
    "generator = sg.mapper.SlidingFeaturesNodeGenerator(graph, seq_len, batch_size=32)\n",
    "train_gen = generator.flow(slice(0, train_size), target_distance=pre_len)\n",
    "test_gen = generator.flow(slice(train_size, None), target_distance=pre_len)"
   ]
  },
  {
   "cell_type": "code",
   "execution_count": 47,
   "metadata": {},
   "outputs": [
    {
     "data": {
      "text/plain": [
       "12"
      ]
     },
     "execution_count": 47,
     "metadata": {},
     "output_type": "execute_result"
    }
   ],
   "source": [
    "generator.window_size"
   ]
  },
  {
   "cell_type": "code",
   "execution_count": 48,
   "metadata": {},
   "outputs": [
    {
     "data": {
      "text/plain": [
       "2"
      ]
     },
     "execution_count": 48,
     "metadata": {},
     "output_type": "execute_result"
    }
   ],
   "source": [
    "generator.variates"
   ]
  },
  {
   "cell_type": "code",
   "execution_count": 49,
   "metadata": {},
   "outputs": [
    {
     "name": "stdout",
     "output_type": "stream",
     "text": [
      "Train data size:  6133\n",
      "Test data size:  682\n"
     ]
    }
   ],
   "source": [
    "print(\"Train data size: \", train_size)\n",
    "print(\"Test data size: \", trips_data.shape[1]-train_size)"
   ]
  },
  {
   "cell_type": "markdown",
   "metadata": {},
   "source": [
    "## StellarGraph Graph Convolution and LSTM model"
   ]
  },
  {
   "cell_type": "code",
   "execution_count": 50,
   "metadata": {},
   "outputs": [],
   "source": [
    "from stellargraph_ad_hoc.layer import GCN_LSTM"
   ]
  },
  {
   "cell_type": "code",
   "execution_count": 51,
   "metadata": {},
   "outputs": [
    {
     "name": "stderr",
     "output_type": "stream",
     "text": [
      "/home/fterroso/python/lib/python3.6/site-packages/ipykernel_launcher.py:8: ExperimentalWarning: GCN_LSTM is experimental: Lack of unit tests and code refinement (see: https://github.com/stellargraph/stellargraph/issues/1132, https://github.com/stellargraph/stellargraph/issues/1526, https://github.com/stellargraph/stellargraph/issues/1564). It may be difficult to use and may have major changes at any time.\n",
      "  \n"
     ]
    }
   ],
   "source": [
    "gcn_lstm = GCN_LSTM(\n",
    "    seq_len=None,\n",
    "    adj=adj_matrix,\n",
    "    gc_layer_sizes=[256],#, 128],# 64],\n",
    "    gc_activations=[\"relu\"],#\"relu\"],# \"relu\"],#\"relu\", \"relu\", \"relu\", \"relu\"],#, \"relu\", \"relu\"],\n",
    "    lstm_layer_sizes=[300],# 300],# 300],# 200, 100],#300, 300],\n",
    "    lstm_activations=[\"tanh\"], # \"tanh\"], #\"tanh\"],#\"tanh\",\"tanh\"],#\"tanh\", \"tanh\"],\n",
    "    generator=generator\n",
    ")"
   ]
  },
  {
   "cell_type": "code",
   "execution_count": 52,
   "metadata": {},
   "outputs": [],
   "source": [
    "x_input, x_output = gcn_lstm.in_out_tensors()"
   ]
  },
  {
   "cell_type": "code",
   "execution_count": 53,
   "metadata": {},
   "outputs": [],
   "source": [
    "model = Model(inputs=x_input, outputs=x_output)"
   ]
  },
  {
   "cell_type": "code",
   "execution_count": 54,
   "metadata": {},
   "outputs": [
    {
     "name": "stderr",
     "output_type": "stream",
     "text": [
      "Using TensorFlow backend.\n"
     ]
    }
   ],
   "source": [
    "import keras.backend as kbn"
   ]
  },
  {
   "cell_type": "code",
   "execution_count": 55,
   "metadata": {},
   "outputs": [],
   "source": [
    "#MAE only for the trips measurements (temperature is not considered)\n",
    "def mean_absolute_error_fn(y_true, y_pred):\n",
    "    #tf.print(y_pred.shape, y_true[:,:,0])\n",
    "    #tf.print(y_pred[:,:,0].shape, y_true[:,:,0].shape)\n",
    "    #tf.print(y_true)\n",
    "    #tf.print(\"----\")\n",
    "    #tf.print(y_true[:,:,0])\n",
    "    #tf.print(y_pred[:,:,0])\n",
    "    return kbn.mean(kbn.abs(y_true[:,:,0]- y_pred[:,:,0]))\n",
    "\n",
    "def mean_squared_error_fn(y_true, y_pred):\n",
    "    return kbn.mean(kbn.square(y_true[:,:,0] - y_pred[:,:,0]))\n",
    "\n",
    "def mean_root_square_error(y_true, y_pred):\n",
    "    return kbn.sqrt(kbn.mean(kbn.square(y_pred[:,:,0] - y_true[:,:,0])))"
   ]
  },
  {
   "cell_type": "code",
   "execution_count": 56,
   "metadata": {},
   "outputs": [],
   "source": [
    "#model.compile(optimizer=\"adam\", loss=mean_absolute_error_fn, metrics=[mean_squared_error_fn])#, mean_absolute_error_fn,mean_root_square_error])\n",
    "model.compile(optimizer=\"adam\", loss=\"mae\", metrics=[\"mse\"])"
   ]
  },
  {
   "cell_type": "code",
   "execution_count": 57,
   "metadata": {
    "scrolled": false
   },
   "outputs": [
    {
     "name": "stdout",
     "output_type": "stream",
     "text": [
      "Epoch 1/200\n",
      "191/191 [==============================] - 1063s 6s/step - loss: 0.1074 - mse: 0.0285 - val_loss: 0.0692 - val_mse: 0.0123\n",
      "Epoch 2/200\n",
      "191/191 [==============================] - 1022s 5s/step - loss: 0.0675 - mse: 0.0128 - val_loss: 0.0505 - val_mse: 0.0066\n",
      "Epoch 3/200\n",
      "191/191 [==============================] - 1017s 5s/step - loss: 0.0625 - mse: 0.0111 - val_loss: 0.0446 - val_mse: 0.0053\n",
      "Epoch 4/200\n",
      "191/191 [==============================] - 1018s 5s/step - loss: 0.0671 - mse: 0.0128 - val_loss: 0.0710 - val_mse: 0.0121\n",
      "Epoch 5/200\n",
      "191/191 [==============================] - 1023s 5s/step - loss: 0.0567 - mse: 0.0088 - val_loss: 0.0407 - val_mse: 0.0043\n",
      "Epoch 6/200\n",
      "191/191 [==============================] - 1032s 5s/step - loss: 0.0384 - mse: 0.0039 - val_loss: 0.0313 - val_mse: 0.0024\n",
      "Epoch 7/200\n",
      "191/191 [==============================] - 1031s 5s/step - loss: 0.0368 - mse: 0.0037 - val_loss: 0.0317 - val_mse: 0.0026\n",
      "Epoch 8/200\n",
      "191/191 [==============================] - 1019s 5s/step - loss: 0.0342 - mse: 0.0032 - val_loss: 0.0320 - val_mse: 0.0025\n",
      "Epoch 9/200\n",
      "191/191 [==============================] - 1021s 5s/step - loss: 0.0339 - mse: 0.0031 - val_loss: 0.0314 - val_mse: 0.0024\n",
      "Epoch 10/200\n",
      "191/191 [==============================] - 978s 5s/step - loss: 0.0327 - mse: 0.0029 - val_loss: 0.0287 - val_mse: 0.0021\n",
      "Epoch 11/200\n",
      "191/191 [==============================] - 953s 5s/step - loss: 0.0315 - mse: 0.0027 - val_loss: 0.0288 - val_mse: 0.0021\n",
      "Epoch 12/200\n",
      "191/191 [==============================] - 946s 5s/step - loss: 0.0325 - mse: 0.0029 - val_loss: 0.0321 - val_mse: 0.0027\n",
      "Epoch 13/200\n",
      "191/191 [==============================] - 934s 5s/step - loss: 0.0310 - mse: 0.0026 - val_loss: 0.0333 - val_mse: 0.0028\n",
      "Epoch 14/200\n",
      "191/191 [==============================] - 951s 5s/step - loss: 0.0312 - mse: 0.0027 - val_loss: 0.0286 - val_mse: 0.0020\n",
      "Epoch 15/200\n",
      "191/191 [==============================] - 945s 5s/step - loss: 0.0298 - mse: 0.0024 - val_loss: 0.0273 - val_mse: 0.0019\n",
      "Epoch 16/200\n",
      "191/191 [==============================] - 871s 5s/step - loss: 0.0292 - mse: 0.0023 - val_loss: 0.0277 - val_mse: 0.0020\n",
      "Epoch 17/200\n",
      "191/191 [==============================] - 582s 3s/step - loss: 0.0303 - mse: 0.0025 - val_loss: 0.0293 - val_mse: 0.0021\n",
      "Epoch 18/200\n",
      "191/191 [==============================] - 600s 3s/step - loss: 0.0306 - mse: 0.0025 - val_loss: 0.0267 - val_mse: 0.0018\n",
      "Epoch 19/200\n",
      "191/191 [==============================] - 596s 3s/step - loss: 0.0290 - mse: 0.0023 - val_loss: 0.0307 - val_mse: 0.0025\n",
      "Epoch 20/200\n",
      "191/191 [==============================] - 597s 3s/step - loss: 0.0279 - mse: 0.0021 - val_loss: 0.0261 - val_mse: 0.0018\n",
      "Epoch 21/200\n",
      "191/191 [==============================] - 598s 3s/step - loss: 0.0284 - mse: 0.0022 - val_loss: 0.0319 - val_mse: 0.0026\n",
      "Epoch 22/200\n",
      "191/191 [==============================] - 547s 3s/step - loss: 0.0300 - mse: 0.0024 - val_loss: 0.0298 - val_mse: 0.0023\n",
      "Epoch 23/200\n",
      "191/191 [==============================] - 531s 3s/step - loss: 0.0278 - mse: 0.0021 - val_loss: 0.0273 - val_mse: 0.0018\n",
      "Epoch 24/200\n",
      "191/191 [==============================] - 595s 3s/step - loss: 0.0277 - mse: 0.0021 - val_loss: 0.0271 - val_mse: 0.0018\n",
      "Epoch 25/200\n",
      "191/191 [==============================] - 549s 3s/step - loss: 0.0269 - mse: 0.0019 - val_loss: 0.0277 - val_mse: 0.0020\n",
      "Epoch 26/200\n",
      "191/191 [==============================] - 530s 3s/step - loss: 0.0258 - mse: 0.0018 - val_loss: 0.0266 - val_mse: 0.0018\n",
      "Epoch 27/200\n",
      "191/191 [==============================] - 529s 3s/step - loss: 0.0267 - mse: 0.0019 - val_loss: 0.0264 - val_mse: 0.0018\n",
      "Epoch 28/200\n",
      "191/191 [==============================] - 530s 3s/step - loss: 0.0267 - mse: 0.0019 - val_loss: 0.0252 - val_mse: 0.0016\n",
      "Epoch 29/200\n",
      "191/191 [==============================] - 529s 3s/step - loss: 0.0261 - mse: 0.0018 - val_loss: 0.0244 - val_mse: 0.0016\n",
      "Epoch 30/200\n",
      "191/191 [==============================] - 527s 3s/step - loss: 0.0260 - mse: 0.0018 - val_loss: 0.0280 - val_mse: 0.0020\n",
      "Epoch 31/200\n",
      "191/191 [==============================] - 534s 3s/step - loss: 0.0260 - mse: 0.0018 - val_loss: 0.0278 - val_mse: 0.0020\n",
      "Epoch 32/200\n",
      "191/191 [==============================] - 530s 3s/step - loss: 0.0274 - mse: 0.0020 - val_loss: 0.0275 - val_mse: 0.0019\n",
      "Epoch 33/200\n",
      "191/191 [==============================] - 529s 3s/step - loss: 0.0249 - mse: 0.0016 - val_loss: 0.0263 - val_mse: 0.0017\n",
      "Epoch 34/200\n",
      "191/191 [==============================] - 531s 3s/step - loss: 0.0265 - mse: 0.0019 - val_loss: 0.0251 - val_mse: 0.0017\n",
      "Epoch 35/200\n",
      "191/191 [==============================] - 527s 3s/step - loss: 0.0254 - mse: 0.0018 - val_loss: 0.0257 - val_mse: 0.0018\n",
      "Epoch 36/200\n",
      "191/191 [==============================] - 529s 3s/step - loss: 0.0261 - mse: 0.0018 - val_loss: 0.0281 - val_mse: 0.0020\n",
      "Epoch 37/200\n",
      "191/191 [==============================] - 532s 3s/step - loss: 0.0253 - mse: 0.0017 - val_loss: 0.0268 - val_mse: 0.0019\n",
      "Epoch 38/200\n",
      "191/191 [==============================] - 531s 3s/step - loss: 0.0250 - mse: 0.0017 - val_loss: 0.0273 - val_mse: 0.0020\n",
      "Epoch 39/200\n",
      "191/191 [==============================] - 527s 3s/step - loss: 0.0247 - mse: 0.0017 - val_loss: 0.0259 - val_mse: 0.0018\n",
      "Epoch 00039: early stopping\n"
     ]
    }
   ],
   "source": [
    "es = EarlyStopping(monitor='val_loss', mode='min', verbose=1, patience=10)\n",
    "\n",
    "history = model.fit(\n",
    "    train_gen,\n",
    "    epochs=200,\n",
    "    batch_size=32,\n",
    "    shuffle=True,\n",
    "    validation_data=test_gen,\n",
    "    callbacks=[es]\n",
    ")"
   ]
  },
  {
   "cell_type": "code",
   "execution_count": 58,
   "metadata": {
    "scrolled": true
   },
   "outputs": [
    {
     "name": "stdout",
     "output_type": "stream",
     "text": [
      "Model: \"model\"\n",
      "_________________________________________________________________\n",
      "Layer (type)                 Output Shape              Param #   \n",
      "=================================================================\n",
      "input_1 (InputLayer)         [(None, 2844, 12, 2)]     0         \n",
      "_________________________________________________________________\n",
      "reshape (Reshape)            (None, 2844, 24)          0         \n",
      "_________________________________________________________________\n",
      "fixed_adjacency_graph_convol (None, 2844, 512)         8103468   \n",
      "_________________________________________________________________\n",
      "reshape_1 (Reshape)          (None, 2844, 256, 2)      0         \n",
      "_________________________________________________________________\n",
      "permute (Permute)            (None, 256, 2844, 2)      0         \n",
      "_________________________________________________________________\n",
      "reshape_2 (Reshape)          (None, 256, 5688)         0         \n",
      "_________________________________________________________________\n",
      "lstm (LSTM)                  (None, 300)               7186800   \n",
      "_________________________________________________________________\n",
      "dropout (Dropout)            (None, 300)               0         \n",
      "_________________________________________________________________\n",
      "dense (Dense)                (None, 5688)              1712088   \n",
      "_________________________________________________________________\n",
      "reshape_3 (Reshape)          (None, 2844, 2)           0         \n",
      "=================================================================\n",
      "Total params: 17,002,356\n",
      "Trainable params: 8,914,020\n",
      "Non-trainable params: 8,088,336\n",
      "_________________________________________________________________\n"
     ]
    }
   ],
   "source": [
    "model.summary()"
   ]
  },
  {
   "cell_type": "code",
   "execution_count": 59,
   "metadata": {},
   "outputs": [
    {
     "name": "stdout",
     "output_type": "stream",
     "text": [
      "Train loss:  0.025273054838180542 \n",
      "Test loss: 0.02589007280766964\n"
     ]
    }
   ],
   "source": [
    "print(\n",
    "    \"Train loss: \",\n",
    "    history.history[\"loss\"][-1],\n",
    "    \"\\nTest loss:\",\n",
    "    history.history[\"val_loss\"][-1],\n",
    ")"
   ]
  },
  {
   "cell_type": "code",
   "execution_count": 60,
   "metadata": {},
   "outputs": [
    {
     "data": {
      "image/png": "[encoded data removed]",
      "text/plain": [
       "<Figure size 504x576 with 2 Axes>"
      ]
     },
     "metadata": {
      "needs_background": "light"
     },
     "output_type": "display_data"
    }
   ],
   "source": [
    "sg.utils.plot_history(history)"
   ]
  },
  {
   "cell_type": "code",
   "execution_count": 61,
   "metadata": {},
   "outputs": [],
   "source": [
    "yhat = model.predict(test_gen)"
   ]
  },
  {
   "cell_type": "code",
   "execution_count": 62,
   "metadata": {},
   "outputs": [
    {
     "data": {
      "text/plain": [
       "array([[[1.25497282e-02, 4.90507156e-01],\n",
       "        [6.53761625e-03, 4.99400735e-01],\n",
       "        [5.34757972e-03, 5.01376688e-01],\n",
       "        ...,\n",
       "        [1.40611719e-05, 4.74728942e-01],\n",
       "        [1.69059634e-03, 5.10692894e-01],\n",
       "        [1.98564721e-05, 4.90534157e-01]],\n",
       "\n",
       "       [[1.14650726e-02, 4.83286858e-01],\n",
       "        [5.65198064e-03, 4.90061373e-01],\n",
       "        [4.66212630e-03, 4.91972566e-01],\n",
       "        ...,\n",
       "        [1.23816335e-05, 4.72678602e-01],\n",
       "        [1.45232677e-03, 5.03642559e-01],\n",
       "        [1.75608493e-05, 4.82021958e-01]],\n",
       "\n",
       "       [[1.12415552e-02, 4.74747390e-01],\n",
       "        [5.47075272e-03, 4.82468665e-01],\n",
       "        [4.51356173e-03, 4.84185338e-01],\n",
       "        ...,\n",
       "        [1.34567190e-05, 4.67204750e-01],\n",
       "        [1.37731433e-03, 4.93874937e-01],\n",
       "        [1.89027614e-05, 4.75144446e-01]],\n",
       "\n",
       "       ...,\n",
       "\n",
       "       [[4.62248921e-03, 2.34152526e-01],\n",
       "        [2.27251649e-03, 2.97927737e-01],\n",
       "        [1.59275532e-03, 2.95052648e-01],\n",
       "        ...,\n",
       "        [2.53680337e-05, 2.64668018e-01],\n",
       "        [8.78453720e-05, 2.45623767e-01],\n",
       "        [2.66794959e-05, 2.96751231e-01]],\n",
       "\n",
       "       [[3.40530276e-03, 2.17455268e-01],\n",
       "        [1.63188577e-03, 2.86411941e-01],\n",
       "        [1.11526251e-03, 2.83454597e-01],\n",
       "        ...,\n",
       "        [1.64586891e-05, 2.62307763e-01],\n",
       "        [5.52147612e-05, 2.31966108e-01],\n",
       "        [1.74852648e-05, 2.86898553e-01]],\n",
       "\n",
       "       [[2.90739536e-03, 2.10856259e-01],\n",
       "        [1.38276815e-03, 2.82772481e-01],\n",
       "        [9.32872295e-04, 2.79754937e-01],\n",
       "        ...,\n",
       "        [1.30119506e-05, 2.64577001e-01],\n",
       "        [4.39477226e-05, 2.26405412e-01],\n",
       "        [1.39263302e-05, 2.83686399e-01]]], dtype=float32)"
      ]
     },
     "execution_count": 62,
     "metadata": {},
     "output_type": "execute_result"
    }
   ],
   "source": [
    "yhat"
   ]
  },
  {
   "cell_type": "code",
   "execution_count": 63,
   "metadata": {},
   "outputs": [
    {
     "data": {
      "text/plain": [
       "(659, 2844, 2)"
      ]
     },
     "execution_count": 63,
     "metadata": {},
     "output_type": "execute_result"
    }
   ],
   "source": [
    "yhat.shape"
   ]
  },
  {
   "cell_type": "code",
   "execution_count": 64,
   "metadata": {},
   "outputs": [
    {
     "data": {
      "text/plain": [
       "(2, 2844, 659)"
      ]
     },
     "execution_count": 64,
     "metadata": {},
     "output_type": "execute_result"
    }
   ],
   "source": [
    "yhat.T.shape"
   ]
  },
  {
   "cell_type": "code",
   "execution_count": 65,
   "metadata": {},
   "outputs": [],
   "source": [
    "yhat= yhat.T[0]"
   ]
  },
  {
   "cell_type": "code",
   "execution_count": 66,
   "metadata": {},
   "outputs": [
    {
     "data": {
      "text/plain": [
       "(2844, 659)"
      ]
     },
     "execution_count": 66,
     "metadata": {},
     "output_type": "execute_result"
    }
   ],
   "source": [
    "yhat.shape"
   ]
  },
  {
   "cell_type": "markdown",
   "metadata": {},
   "source": [
    "## Rescale values\n",
    "\n",
    "Rescale the predicted values to the original value range of the timeseries."
   ]
  },
  {
   "cell_type": "code",
   "execution_count": 67,
   "metadata": {
    "scrolled": true
   },
   "outputs": [],
   "source": [
    "## Rescale values\n",
    "max_speed = trips_data.values.max()\n",
    "\n",
    "## actual test values\n",
    "test_rescref = trips_resc_mtx[:,train_size+12+pre_len-1:] * max_speed"
   ]
  },
  {
   "cell_type": "code",
   "execution_count": 68,
   "metadata": {},
   "outputs": [
    {
     "data": {
      "text/plain": [
       "array([[ 920.595,  942.116, 1019.219, ...,  735.201,  258.461,  230.591],\n",
       "       [ 764.158, 1131.461,  492.119, ...,  407.566,  124.729,  106.744],\n",
       "       [ 490.639,  556.077,  409.794, ...,  277.574,  119.83 ,   52.331],\n",
       "       ...,\n",
       "       [   0.   ,    0.   ,    0.   , ...,    0.   ,    0.   ,    0.   ],\n",
       "       [ 136.181,  171.561,  247.85 , ...,    9.76 ,   11.84 ,    0.   ],\n",
       "       [   0.   ,    0.   ,    0.   , ...,    0.   ,    0.   ,    0.   ]])"
      ]
     },
     "execution_count": 68,
     "metadata": {},
     "output_type": "execute_result"
    }
   ],
   "source": [
    "test_rescref"
   ]
  },
  {
   "cell_type": "code",
   "execution_count": 69,
   "metadata": {},
   "outputs": [
    {
     "data": {
      "text/plain": [
       "(2844, 659)"
      ]
     },
     "execution_count": 69,
     "metadata": {},
     "output_type": "execute_result"
    }
   ],
   "source": [
    "test_rescref.shape"
   ]
  },
  {
   "cell_type": "code",
   "execution_count": 70,
   "metadata": {
    "scrolled": true
   },
   "outputs": [],
   "source": [
    "## Rescale model predicted values\n",
    "test_rescpred = np.array(yhat * max_speed)"
   ]
  },
  {
   "cell_type": "code",
   "execution_count": 71,
   "metadata": {},
   "outputs": [
    {
     "data": {
      "text/plain": [
       "array([[7.5596710e+02, 6.9062988e+02, 6.7716571e+02, ..., 2.7844824e+02,\n",
       "        2.0512770e+02, 1.7513489e+02],\n",
       "       [3.9381113e+02, 3.4046246e+02, 3.2954572e+02, ..., 1.3689122e+02,\n",
       "        9.8301086e+01, 8.3294807e+01],\n",
       "       [3.2212604e+02, 2.8083588e+02, 2.7188669e+02, ..., 9.5943962e+01,\n",
       "        6.7180878e+01, 5.6194107e+01],\n",
       "       ...,\n",
       "       [8.4701306e-01, 7.4584144e-01, 8.1060219e-01, ..., 1.5281126e+00,\n",
       "        9.9143404e-01, 7.8381032e-01],\n",
       "       [1.0183768e+02, 8.7484863e+01, 8.2966286e+01, ..., 5.2916055e+00,\n",
       "        3.3260117e+00, 2.6473110e+00],\n",
       "       [1.1961087e+00, 1.0578257e+00, 1.1386594e+00, ..., 1.6071122e+00,\n",
       "        1.0532726e+00, 8.3889049e-01]], dtype=float32)"
      ]
     },
     "execution_count": 71,
     "metadata": {},
     "output_type": "execute_result"
    }
   ],
   "source": [
    "test_rescpred"
   ]
  },
  {
   "cell_type": "code",
   "execution_count": 72,
   "metadata": {},
   "outputs": [
    {
     "data": {
      "text/plain": [
       "(2844, 659)"
      ]
     },
     "execution_count": 72,
     "metadata": {},
     "output_type": "execute_result"
    }
   ],
   "source": [
    "test_rescpred.shape"
   ]
  },
  {
   "cell_type": "code",
   "execution_count": 73,
   "metadata": {},
   "outputs": [
    {
     "data": {
      "text/plain": [
       "array([596.94257 , 542.76984 , 526.1802  , 521.62213 , 545.20776 ,\n",
       "       571.18823 , 629.88135 , 547.3369  , 373.44434 , 209.69833 ,\n",
       "       119.953285,  80.89101 ,  68.39086 ,  67.30475 ,  69.98861 ,\n",
       "        83.33969 , 101.704834, 125.18816 , 156.28683 , 206.22458 ,\n",
       "       338.69955 , 474.7506  , 527.8157  , 545.30115 , 550.3511  ,\n",
       "       547.4428  , 562.5604  , 558.6486  , 580.96326 , 565.1689  ,\n",
       "       555.3885  , 440.37567 , 277.17365 , 171.83527 , 119.38241 ,\n",
       "        91.762886,  76.09596 ,  70.24532 ,  67.79125 ,  77.058205,\n",
       "        93.89741 , 114.69867 , 141.09923 , 172.99678 , 251.80891 ,\n",
       "       384.7686  , 528.7312  , 626.4345  , 648.7437  , 605.22034 ,\n",
       "       577.4482  , 554.3903  , 547.19507 , 498.7366  , 451.8328  ,\n",
       "       365.60815 , 251.72812 , 157.55426 , 108.39922 ,  78.43873 ,\n",
       "        68.36393 ,  67.0211  ,  69.30822 ,  77.51598 ,  94.371346,\n",
       "       121.77185 , 153.48268 , 192.12129 , 275.8649  , 375.74402 ,\n",
       "       446.35916 , 478.42545 , 468.91254 , 457.091   , 478.11487 ,\n",
       "       496.9306  , 520.3726  , 529.1118  , 541.4001  , 440.74368 ,\n",
       "       288.49432 , 155.24919 ,  96.46458 ,  69.475174,  63.78611 ,\n",
       "        71.64919 ,  82.90884 , 102.26853 , 129.39078 , 164.03502 ,\n",
       "       202.80289 , 267.77744 , 350.101   , 475.69492 , 575.6853  ,\n",
       "       633.3838  , 666.4105  , 606.2975  , 572.58496 , 510.5492  ,\n",
       "       493.00983 , 446.2568  , 424.49512 , 348.2986  , 280.59354 ,\n",
       "       179.7181  , 111.35596 ,  70.87006 ,  51.652187,  44.733395,\n",
       "        41.491222,  44.523354,  53.747215,  72.3206  , 108.34716 ,\n",
       "       195.9918  , 347.8857  , 481.54373 , 511.91354 , 506.42377 ,\n",
       "       488.63846 , 462.62927 , 466.57516 , 442.07394 , 444.77396 ,\n",
       "       441.8675  , 369.38892 , 293.9859  , 200.53012 , 122.72332 ,\n",
       "        74.169685,  46.15342 ,  34.191837,  30.373398,  31.967556,\n",
       "        39.11614 ,  47.14977 ,  57.31253 ,  78.0725  , 126.46636 ,\n",
       "       241.1345  , 376.66675 , 412.3594  , 419.45413 , 379.58398 ,\n",
       "       349.8928  , 370.5899  , 373.48022 , 379.83533 , 380.16922 ,\n",
       "       390.402   , 298.26932 , 207.85464 , 126.9008  ,  83.75439 ,\n",
       "        57.960606,  47.717056,  49.018597,  50.9341  ,  57.22636 ,\n",
       "        70.67259 ,  94.24388 , 121.166855, 163.17511 , 258.7295  ,\n",
       "       435.50162 , 542.9404  , 583.49994 , 625.6787  , 611.20917 ,\n",
       "       575.3496  , 530.8729  , 576.45905 , 627.6427  , 579.8359  ,\n",
       "       416.61768 , 247.12875 , 144.32346 ,  95.97089 ,  72.1321  ,\n",
       "        63.888435,  59.901245,  59.637344,  64.59216 ,  74.37075 ,\n",
       "        92.55278 , 113.13143 , 143.3271  , 230.19621 , 423.31384 ,\n",
       "       599.6623  , 682.01465 , 715.64636 , 647.4781  , 604.9959  ,\n",
       "       548.7049  , 650.02374 , 623.4616  , 515.4968  , 344.82846 ,\n",
       "       215.18095 , 126.904396,  82.801125,  61.75571 ,  53.066826,\n",
       "        48.23408 ,  50.14061 ,  58.170647,  69.60982 ,  86.66804 ,\n",
       "       105.372475, 143.80284 , 270.57977 , 527.4961  , 624.4328  ,\n",
       "       657.1418  , 664.0139  , 633.15045 , 625.30707 , 592.0165  ,\n",
       "       600.0716  , 584.6363  , 549.9382  , 393.4521  , 234.13133 ,\n",
       "       145.7022  ,  98.02463 ,  71.485825,  56.65189 ,  51.34341 ,\n",
       "        50.883835,  60.24952 ,  75.70101 ,  98.981476, 116.92654 ,\n",
       "       149.59424 , 256.38135 , 471.1799  , 585.7781  , 619.2572  ,\n",
       "       632.6011  , 579.7425  , 571.08594 , 579.0137  , 661.52216 ,\n",
       "       669.7586  , 614.3006  , 436.29153 , 270.8347  , 176.91037 ,\n",
       "       121.676704,  82.316414,  64.40008 ,  58.712807,  59.68402 ,\n",
       "        65.01584 ,  76.20906 ,  90.08255 , 104.56283 , 130.9652  ,\n",
       "       239.05385 , 518.76056 , 610.96326 , 650.61615 , 647.4584  ,\n",
       "       601.1667  , 549.5325  , 531.42584 , 553.7656  , 532.8728  ,\n",
       "       474.74524 , 376.80856 , 265.4598  , 172.63414 , 121.33382 ,\n",
       "        85.31444 ,  64.757324,  55.912254,  46.56273 ,  50.515812,\n",
       "        58.337605,  81.66475 , 118.01086 , 196.54114 , 343.7675  ,\n",
       "       432.74597 , 435.0618  , 395.00137 , 337.94376 , 302.12546 ,\n",
       "       304.5113  , 323.44016 , 364.04092 , 372.5808  , 366.58478 ,\n",
       "       314.0906  , 259.8928  , 186.54713 , 125.41615 ,  75.84822 ,\n",
       "        59.316   ,  51.163887,  49.474583,  54.303734,  63.874077,\n",
       "        85.6681  , 119.739655, 193.02968 , 293.62326 , 442.60892 ,\n",
       "       504.91397 , 500.0902  , 448.41647 , 419.52774 , 413.55682 ,\n",
       "       428.42667 , 464.46756 , 500.25177 , 546.12335 , 500.64493 ,\n",
       "       356.73798 , 214.34079 , 122.393   ,  76.89843 ,  65.570564,\n",
       "        65.05892 ,  70.86827 ,  82.118935,  96.22761 , 111.52291 ,\n",
       "       124.42339 , 157.57939 , 267.12396 , 412.00037 , 525.9791  ,\n",
       "       603.52203 , 621.96796 , 623.3036  , 620.0686  , 615.5321  ,\n",
       "       646.8354  , 652.80457 , 654.5405  , 512.9063  , 323.2768  ,\n",
       "       181.58154 , 107.91093 ,  68.441124,  52.3613  ,  46.81406 ,\n",
       "        46.020573,  53.932125,  69.36746 ,  87.17788 , 104.26123 ,\n",
       "       133.07817 , 226.18927 , 515.9582  , 648.3685  , 709.6719  ,\n",
       "       731.54126 , 664.25806 , 608.3279  , 586.27356 , 653.24976 ,\n",
       "       718.5941  , 702.95953 , 541.30493 , 350.3003  , 195.3904  ,\n",
       "       122.12551 ,  71.133965,  50.17472 ,  45.06192 ,  46.95768 ,\n",
       "        58.54944 ,  81.57319 , 112.98064 , 151.69824 , 198.7403  ,\n",
       "       338.9904  , 531.9465  , 630.4899  , 735.35974 , 733.1929  ,\n",
       "       669.0962  , 621.0596  , 541.15955 , 589.1136  , 636.22205 ,\n",
       "       684.1653  , 530.10455 , 313.421   , 166.92174 , 105.16782 ,\n",
       "        74.900345,  65.31564 ,  64.16311 ,  65.908066,  75.07448 ,\n",
       "        88.61585 , 106.65786 , 125.048134, 163.40309 , 317.88394 ,\n",
       "       632.27075 , 839.36426 , 834.6087  , 783.74457 , 745.3286  ,\n",
       "       724.2814  , 724.267   , 764.46387 , 759.4319  , 738.84607 ,\n",
       "       539.4936  , 325.3018  , 182.67484 , 109.59484 ,  75.56817 ,\n",
       "        64.07873 ,  57.12224 ,  56.454414,  57.773903,  62.344543,\n",
       "        72.32958 ,  86.107925, 115.260574, 213.22954 , 521.658   ,\n",
       "       833.77747 , 941.6112  , 934.5506  , 863.0163  , 772.9373  ,\n",
       "       702.50714 , 708.0687  , 659.7251  , 548.3656  , 370.30267 ,\n",
       "       210.07533 , 139.0796  , 110.82816 ,  80.740204,  56.623165,\n",
       "        43.98299 ,  38.98329 ,  39.67625 ,  43.351074,  50.598392,\n",
       "        59.675045,  86.247955, 173.1386  , 462.84827 , 747.44696 ,\n",
       "       733.94867 , 614.65424 , 486.1736  , 436.8696  , 421.18292 ,\n",
       "       466.54825 , 403.69025 , 327.56378 , 228.17838 , 163.93987 ,\n",
       "       105.972084,  90.30337 ,  76.77456 ,  58.675106,  42.6653  ,\n",
       "        35.708805,  36.897243,  40.88982 ,  45.22708 ,  54.41145 ,\n",
       "        79.06167 , 172.44205 , 449.27997 , 734.73315 , 684.70026 ,\n",
       "       554.87866 , 392.2744  , 342.84113 , 408.97    , 472.89975 ,\n",
       "       361.07162 , 277.05334 , 213.71425 , 162.52344 , 130.9239  ,\n",
       "       109.84079 ,  97.480675,  81.91069 ,  59.581696,  49.822857,\n",
       "        52.08484 ,  61.712624,  72.72992 ,  86.75241 , 104.3851  ,\n",
       "       158.95992 , 362.76273 , 795.89825 , 945.61993 , 922.7542  ,\n",
       "       736.5499  , 585.4747  , 624.6967  , 723.0786  , 578.2112  ,\n",
       "       393.2241  , 249.79646 , 164.96494 , 128.59549 , 111.75989 ,\n",
       "        93.95665 ,  75.82129 ,  57.847507,  50.87845 ,  54.319893,\n",
       "        63.34987 ,  76.31498 ,  85.87096 , 104.16429 , 154.31029 ,\n",
       "       294.61783 , 613.85175 , 776.84015 , 797.32007 , 707.90173 ,\n",
       "       657.1364  , 619.7922  , 616.16583 , 541.2278  , 413.38626 ,\n",
       "       265.20306 , 167.52313 , 119.25674 ,  94.26722 ,  79.36865 ,\n",
       "        73.546745,  71.88975 ,  74.00093 ,  84.75971 ,  99.04431 ,\n",
       "       120.63727 , 151.21173 , 209.84195 , 331.82025 , 520.92737 ,\n",
       "       647.4099  , 709.89624 , 719.5097  , 649.2823  , 587.72766 ,\n",
       "       535.7685  , 484.88824 , 398.0281  , 350.56598 , 262.72208 ,\n",
       "       190.41763 , 142.3559  , 113.7849  , 100.7408  ,  96.10194 ,\n",
       "        97.87742 , 101.63482 , 114.55146 , 138.28432 , 175.78117 ,\n",
       "       200.13338 , 226.54472 , 270.38947 , 374.9505  , 515.83435 ,\n",
       "       631.13617 , 663.36224 , 642.5592  , 632.172   , 616.08325 ,\n",
       "       577.5362  , 550.7514  , 463.80334 , 314.46942 , 203.07935 ,\n",
       "       149.29083 , 115.522675,  95.00506 ,  86.93014 ,  85.76863 ,\n",
       "        81.65398 ,  82.28769 ,  95.98525 , 114.348595, 133.59879 ,\n",
       "       155.90445 , 208.34653 , 330.87598 , 493.35092 , 615.17126 ,\n",
       "       618.40265 , 574.98334 , 513.4449  , 465.22336 , 442.48685 ,\n",
       "       417.8797  , 372.47668 , 283.17685 , 215.43587 , 159.2274  ,\n",
       "       127.84869 ,  93.7861  ,  72.99202 ,  59.540405,  53.766964,\n",
       "        53.60719 ,  55.76684 ,  59.26753 ,  70.708496, 101.91308 ,\n",
       "       159.55414 , 259.68994 , 337.8217  , 399.06577 , 386.8798  ,\n",
       "       389.44516 , 424.1953  , 409.02386 , 374.21808 , 307.33698 ,\n",
       "       253.83212 , 199.91437 , 142.73648 , 108.18559 ,  88.26758 ,\n",
       "        60.28183 ,  47.878628,  40.891617,  40.001183,  45.55022 ,\n",
       "        51.23749 ,  59.443462,  71.1573  , 109.88567 , 195.87871 ,\n",
       "       322.91772 , 376.7637  , 363.54367 , 304.20792 , 272.03928 ,\n",
       "       272.84894 , 294.01642 , 290.10284 , 260.88196 , 247.80197 ,\n",
       "       215.47716 , 155.3928  , 108.819305,  89.495514], dtype=float32)"
      ]
     },
     "execution_count": 73,
     "metadata": {},
     "output_type": "execute_result"
    }
   ],
   "source": [
    "test_rescpred[2000]"
   ]
  },
  {
   "cell_type": "markdown",
   "metadata": {},
   "source": [
    "## Measuring the performance of the model"
   ]
  },
  {
   "cell_type": "markdown",
   "metadata": {},
   "source": [
    "### Naive prediction benchmark (using latest observed value)"
   ]
  },
  {
   "cell_type": "code",
   "execution_count": 74,
   "metadata": {},
   "outputs": [
    {
     "data": {
      "text/plain": [
       "(2844, 6815, 2)"
      ]
     },
     "execution_count": 74,
     "metadata": {},
     "output_type": "execute_result"
    }
   ],
   "source": [
    "trips_weather_mtx.shape"
   ]
  },
  {
   "cell_type": "code",
   "execution_count": 75,
   "metadata": {},
   "outputs": [],
   "source": [
    "# picking the last outgoing trips of the 12 sequence for each MA in each sample\n",
    "testnpred = trips_weather_mtx[:,train_size+11:-1,0]  \n",
    "testnpredc = testnpred * max_speed"
   ]
  },
  {
   "cell_type": "code",
   "execution_count": 76,
   "metadata": {
    "scrolled": true
   },
   "outputs": [
    {
     "data": {
      "text/plain": [
       "array([[164.504, 114.116, 184.678, ..., 563.314, 735.201, 258.461],\n",
       "       [172.126, 126.635,  90.222, ..., 381.695, 407.566, 124.729],\n",
       "       [ 43.377,  70.257, 108.454, ..., 216.593, 277.574, 119.83 ],\n",
       "       ...,\n",
       "       [  0.   ,   0.   ,   0.   , ...,   0.   ,   0.   ,   0.   ],\n",
       "       [ 65.215,   0.   ,  13.482, ...,  64.342,   9.76 ,  11.84 ],\n",
       "       [  0.   ,   0.   ,   0.   , ...,   0.   ,   0.   ,   0.   ]])"
      ]
     },
     "execution_count": 76,
     "metadata": {},
     "output_type": "execute_result"
    }
   ],
   "source": [
    "testnpredc"
   ]
  },
  {
   "cell_type": "code",
   "execution_count": 77,
   "metadata": {},
   "outputs": [
    {
     "data": {
      "text/plain": [
       "array([[ 920.595,  942.116, 1019.219, ...,  735.201,  258.461,  230.591],\n",
       "       [ 764.158, 1131.461,  492.119, ...,  407.566,  124.729,  106.744],\n",
       "       [ 490.639,  556.077,  409.794, ...,  277.574,  119.83 ,   52.331],\n",
       "       ...,\n",
       "       [   0.   ,    0.   ,    0.   , ...,    0.   ,    0.   ,    0.   ],\n",
       "       [ 136.181,  171.561,  247.85 , ...,    9.76 ,   11.84 ,    0.   ],\n",
       "       [   0.   ,    0.   ,    0.   , ...,    0.   ,    0.   ,    0.   ]])"
      ]
     },
     "execution_count": 77,
     "metadata": {},
     "output_type": "execute_result"
    }
   ],
   "source": [
    "test_rescref"
   ]
  },
  {
   "cell_type": "code",
   "execution_count": 78,
   "metadata": {},
   "outputs": [
    {
     "data": {
      "text/plain": [
       "(2844, 659)"
      ]
     },
     "execution_count": 78,
     "metadata": {},
     "output_type": "execute_result"
    }
   ],
   "source": [
    "test_rescref.shape"
   ]
  },
  {
   "cell_type": "code",
   "execution_count": 79,
   "metadata": {},
   "outputs": [],
   "source": [
    "test_metrics = []\n",
    "\n",
    "for j in range(trips_data.shape[0]):\n",
    "    gnn_mae_ = mean_absolute_error(test_rescref[j], test_rescpred[j])\n",
    "    gnn_mse_ = mean_squared_error(test_rescref[j], test_rescpred[j])\n",
    "    gnn_rmse_ = mean_squared_error(test_rescref[j], test_rescpred[j], squared = False)\n",
    "    \n",
    "    \n",
    "    test_metrics.append((trips_data.iloc[j].name, gnn_mae_, gnn_mse_, gnn_rmse_))"
   ]
  },
  {
   "cell_type": "code",
   "execution_count": 80,
   "metadata": {},
   "outputs": [],
   "source": [
    "test_metrics_df = pd.DataFrame.from_records(test_metrics, \n",
    "                                            columns='area_id gnn-MAE gnn-MSE gnn-RMSE'.split())"
   ]
  },
  {
   "cell_type": "code",
   "execution_count": 81,
   "metadata": {},
   "outputs": [
    {
     "data": {
      "text/html": [
       "<div>\n",
       "<style scoped>\n",
       "    .dataframe tbody tr th:only-of-type {\n",
       "        vertical-align: middle;\n",
       "    }\n",
       "\n",
       "    .dataframe tbody tr th {\n",
       "        vertical-align: top;\n",
       "    }\n",
       "\n",
       "    .dataframe thead th {\n",
       "        text-align: right;\n",
       "    }\n",
       "</style>\n",
       "<table border=\"1\" class=\"dataframe\">\n",
       "  <thead>\n",
       "    <tr style=\"text-align: right;\">\n",
       "      <th></th>\n",
       "      <th>area_id</th>\n",
       "      <th>gnn-MAE</th>\n",
       "      <th>gnn-MSE</th>\n",
       "      <th>gnn-RMSE</th>\n",
       "    </tr>\n",
       "  </thead>\n",
       "  <tbody>\n",
       "    <tr>\n",
       "      <th>0</th>\n",
       "      <td>01001_AM</td>\n",
       "      <td>196.310588</td>\n",
       "      <td>88964.641499</td>\n",
       "      <td>298.269411</td>\n",
       "    </tr>\n",
       "    <tr>\n",
       "      <th>1</th>\n",
       "      <td>01002</td>\n",
       "      <td>146.952559</td>\n",
       "      <td>43622.854943</td>\n",
       "      <td>208.860851</td>\n",
       "    </tr>\n",
       "    <tr>\n",
       "      <th>2</th>\n",
       "      <td>01010_AM</td>\n",
       "      <td>128.112745</td>\n",
       "      <td>34606.534015</td>\n",
       "      <td>186.028315</td>\n",
       "    </tr>\n",
       "    <tr>\n",
       "      <th>3</th>\n",
       "      <td>01031_AM</td>\n",
       "      <td>143.330923</td>\n",
       "      <td>38201.037386</td>\n",
       "      <td>195.450857</td>\n",
       "    </tr>\n",
       "    <tr>\n",
       "      <th>4</th>\n",
       "      <td>01036</td>\n",
       "      <td>207.606053</td>\n",
       "      <td>79677.448332</td>\n",
       "      <td>282.271940</td>\n",
       "    </tr>\n",
       "  </tbody>\n",
       "</table>\n",
       "</div>"
      ],
      "text/plain": [
       "    area_id     gnn-MAE       gnn-MSE    gnn-RMSE\n",
       "0  01001_AM  196.310588  88964.641499  298.269411\n",
       "1     01002  146.952559  43622.854943  208.860851\n",
       "2  01010_AM  128.112745  34606.534015  186.028315\n",
       "3  01031_AM  143.330923  38201.037386  195.450857\n",
       "4     01036  207.606053  79677.448332  282.271940"
      ]
     },
     "execution_count": 81,
     "metadata": {},
     "output_type": "execute_result"
    }
   ],
   "source": [
    "test_metrics_df.head()"
   ]
  },
  {
   "cell_type": "code",
   "execution_count": 82,
   "metadata": {},
   "outputs": [
    {
     "data": {
      "text/plain": [
       "gnn-MAE        300.965945\n",
       "gnn-MSE     427649.183233\n",
       "gnn-RMSE       416.326082\n",
       "dtype: float64"
      ]
     },
     "execution_count": 82,
     "metadata": {},
     "output_type": "execute_result"
    }
   ],
   "source": [
    "test_metrics_df.mean()"
   ]
  },
  {
   "cell_type": "code",
   "execution_count": 83,
   "metadata": {},
   "outputs": [],
   "source": [
    "test_metrics_df.to_csv(os.path.join('data', 'gnn_naive_test_metrics_{}_{}_multivariate.csv'.format(matrix_type, pre_len)))"
   ]
  },
  {
   "cell_type": "code",
   "execution_count": 84,
   "metadata": {},
   "outputs": [
    {
     "ename": "ValueError",
     "evalue": "operands could not be broadcast together with shapes (659,) (670,) ",
     "output_type": "error",
     "traceback": [
      "\u001b[0;31m---------------------------------------------------------------------------\u001b[0m",
      "\u001b[0;31mValueError\u001b[0m                                Traceback (most recent call last)",
      "\u001b[0;32m<ipython-input-84-d8aba3f56f72>\u001b[0m in \u001b[0;36m<module>\u001b[0;34m\u001b[0m\n\u001b[1;32m     11\u001b[0m     )  # Mean Absolute Error for NN\n\u001b[1;32m     12\u001b[0m     seg_nmael.append(\n\u001b[0;32m---> 13\u001b[0;31m         \u001b[0mnp\u001b[0m\u001b[0;34m.\u001b[0m\u001b[0mmean\u001b[0m\u001b[0;34m(\u001b[0m\u001b[0mnp\u001b[0m\u001b[0;34m.\u001b[0m\u001b[0mabs\u001b[0m\u001b[0;34m(\u001b[0m\u001b[0mtest_rescref\u001b[0m\u001b[0;34m[\u001b[0m\u001b[0mj\u001b[0m\u001b[0;34m]\u001b[0m \u001b[0;34m-\u001b[0m \u001b[0mtestnpredc\u001b[0m\u001b[0;34m[\u001b[0m\u001b[0mj\u001b[0m\u001b[0;34m]\u001b[0m\u001b[0;34m)\u001b[0m\u001b[0;34m)\u001b[0m\u001b[0;34m\u001b[0m\u001b[0m\n\u001b[0m\u001b[1;32m     14\u001b[0m     )  # Mean Absolute Error for naive prediction\n\u001b[1;32m     15\u001b[0m     \u001b[0;32mif\u001b[0m \u001b[0mseg_nmael\u001b[0m\u001b[0;34m[\u001b[0m\u001b[0;34m-\u001b[0m\u001b[0;36m1\u001b[0m\u001b[0;34m]\u001b[0m \u001b[0;34m!=\u001b[0m \u001b[0;36m0\u001b[0m\u001b[0;34m:\u001b[0m\u001b[0;34m\u001b[0m\u001b[0m\n",
      "\u001b[0;31mValueError\u001b[0m: operands could not be broadcast together with shapes (659,) (670,) "
     ]
    }
   ],
   "source": [
    "## Performance measures\n",
    "\n",
    "seg_mael = []\n",
    "seg_masel = []\n",
    "seg_nmael = []\n",
    "\n",
    "for j in range(trips_data.shape[0]):\n",
    "\n",
    "    seg_mael.append(\n",
    "        np.mean(np.abs(test_rescref[j] - test_rescpred[j]))\n",
    "    )  # Mean Absolute Error for NN\n",
    "    seg_nmael.append(\n",
    "        np.mean(np.abs(test_rescref[j] - testnpredc[j]))\n",
    "    )  # Mean Absolute Error for naive prediction\n",
    "    if seg_nmael[-1] != 0:\n",
    "        seg_masel.append(\n",
    "            seg_mael[-1] / seg_nmael[-1]\n",
    "        )  # Ratio of the two: Mean Absolute Scaled Error\n",
    "    else:\n",
    "        seg_masel.append(np.NaN)\n",
    "\n",
    "print(\"Total (ave) MAE for NN: \" + str(np.mean(np.array(seg_mael))))\n",
    "print(\"Total (ave) MAE for naive prediction: \" + str(np.mean(np.array(seg_nmael))))\n",
    "print(\n",
    "    \"Total (ave) MASE for per-segment NN/naive MAE: \"\n",
    "    + str(np.nanmean(np.array(seg_masel)))\n",
    ")\n",
    "print(\n",
    "    \"...note that MASE<1 (for a given segment) means that the NN prediction is better than the naive prediction.\"\n",
    ")"
   ]
  },
  {
   "cell_type": "code",
   "execution_count": null,
   "metadata": {},
   "outputs": [],
   "source": [
    "# plot violin plot of MAE for naive and NN predictions\n",
    "fig, ax = plt.subplots()\n",
    "# xl = minsl\n",
    "\n",
    "ax.violinplot(\n",
    "    list(seg_mael), showmeans=True, showmedians=False, showextrema=False, widths=1.0\n",
    ")\n",
    "\n",
    "ax.violinplot(\n",
    "    list(seg_nmael), showmeans=True, showmedians=False, showextrema=False, widths=1.0\n",
    ")\n",
    "\n",
    "line1 = mlines.Line2D([], [], label=\"NN\")\n",
    "line2 = mlines.Line2D([], [], color=\"C1\", label=\"Instantaneous\")\n",
    "\n",
    "ax.set_xlabel(\"Scaled distribution amplitude (after Gaussian convolution)\")\n",
    "ax.set_ylabel(\"Mean Absolute Error\")\n",
    "ax.set_title(\"Distribution over segments: NN pred (blue) and naive pred (orange)\")\n",
    "plt.legend(handles=(line1, line2), title=\"Prediction Model\", loc=2)\n",
    "plt.show()"
   ]
  },
  {
   "cell_type": "markdown",
   "metadata": {},
   "source": [
    "#### Plot of actual and predicted outgoing trips on a sample MA"
   ]
  },
  {
   "cell_type": "code",
   "execution_count": null,
   "metadata": {},
   "outputs": [],
   "source": [
    "##all test result visualization\n",
    "fig1 = plt.figure(figsize=(15, 8))\n",
    "#    ax1 = fig1.add_subplot(1,1,1)\n",
    "a_pred = test_rescpred[:, 20]\n",
    "a_true = test_rescref[:, 20]\n",
    "plt.plot(a_pred, \"r-\", label=\"prediction\")\n",
    "plt.plot(a_true, \"b-\", label=\"true\")\n",
    "plt.xlabel(\"time\")\n",
    "plt.ylabel(\"Num.of trips\")\n",
    "plt.legend(loc=\"best\", fontsize=10)\n",
    "plt.show()"
   ]
  },
  {
   "cell_type": "markdown",
   "metadata": {},
   "source": [
    "#### Plot of actual and predicted outgoing trips from Spain"
   ]
  },
  {
   "cell_type": "code",
   "execution_count": null,
   "metadata": {},
   "outputs": [],
   "source": [
    "test_rescpred_df =pd.DataFrame(test_rescpred).T\n",
    "test_rescref_df =pd.DataFrame(test_rescref).T"
   ]
  },
  {
   "cell_type": "code",
   "execution_count": null,
   "metadata": {},
   "outputs": [],
   "source": [
    "test_rescpred_df.loc['total']= test_rescpred_df.sum(axis=0)\n",
    "test_rescref_df.loc['total']= test_rescref_df.sum(axis=0)"
   ]
  },
  {
   "cell_type": "code",
   "execution_count": null,
   "metadata": {},
   "outputs": [],
   "source": [
    "test_rescpred_df.tail(3)"
   ]
  },
  {
   "cell_type": "code",
   "execution_count": null,
   "metadata": {},
   "outputs": [],
   "source": [
    "test_rescref_df.tail(3)"
   ]
  },
  {
   "cell_type": "code",
   "execution_count": null,
   "metadata": {},
   "outputs": [],
   "source": [
    "ax=test_rescpred_df.loc['total'].plot(figsize=(20,5), label='Predicted')\n",
    "test_rescref_df.loc['total'].plot(ax=ax, grid=True, label='Reference')\n",
    "ax.set_ylabel('Number of trips')\n",
    "ax.set_xlabel('Time (h)')\n",
    "ax.xaxis.label.set_size(20)\n",
    "ax.yaxis.label.set_size(20)\n",
    "ax.legend(loc='lower left');\n",
    "plt.savefig(os.path.join('figs',f'true_vs_predicted_global_{pre_len}_multivariate.png'))"
   ]
  },
  {
   "cell_type": "code",
   "execution_count": null,
   "metadata": {
    "nbsphinx": "hidden",
    "tags": [
     "CloudRunner"
    ]
   },
   "outputs": [],
   "source": [
    "print(\"That's all folks\")"
   ]
  }
 ],
 "metadata": {
  "kernelspec": {
   "display_name": "Python 3",
   "language": "python",
   "name": "python3"
  },
  "language_info": {
   "codemirror_mode": {
    "name": "ipython",
    "version": 3
   },
   "file_extension": ".py",
   "mimetype": "text/x-python",
   "name": "python",
   "nbconvert_exporter": "python",
   "pygments_lexer": "ipython3",
   "version": "3.6.5"
  }
 },
 "nbformat": 4,
 "nbformat_minor": 4
}
